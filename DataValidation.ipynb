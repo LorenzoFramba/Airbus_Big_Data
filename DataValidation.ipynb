{
 "cells": [
  {
   "cell_type": "code",
   "execution_count": 1,
   "metadata": {},
   "outputs": [],
   "source": [
    "import random\n",
    "\n",
    "import findspark\n",
    "findspark.init()\n",
    "import pyspark\n",
    "\n",
    "from pyspark.ml.feature import VectorAssembler, StringIndexer, OneHotEncoder, Bucketizer\n",
    "from pyspark.ml.regression import LinearRegression\n",
    "from pyspark.ml import Pipeline\n",
    "from pyspark.ml.evaluation import RegressionEvaluator\n",
    "from pyspark import SparkContext\n",
    "from pyspark.sql import SQLContext\n",
    "from pyspark.sql.session import SparkSession\n",
    "from pyspark.sql.types import *\n",
    "from pyspark.sql.functions import isnan, when, count, col, abs\n",
    "from pyspark.sql import functions as sf "
   ]
  },
  {
   "cell_type": "code",
   "execution_count": 2,
   "metadata": {},
   "outputs": [],
   "source": [
    "filename = \"2004.csv\""
   ]
  },
  {
   "cell_type": "code",
   "execution_count": 3,
   "metadata": {},
   "outputs": [],
   "source": [
    "def _init_spark():\n",
    "    spark = SparkSession.builder.appName(\"Project\").getOrCreate()\n",
    "    sc = spark.sparkContext\n",
    "    return spark, sc\n",
    "\n",
    "spark, sc = _init_spark()\n",
    "sqlContext = SQLContext(sc)\n",
    "\n",
    "df = sqlContext.read.load(filename, \n",
    "                      format='com.databricks.spark.csv', \n",
    "                      header='true',\n",
    "                      delimiter=',',\n",
    "                      inferSchema='true')\n",
    "df.cache()\n",
    "\n",
    "col_to_drop = ['ArrTime', 'ActualElapsedTime', 'AirTime', 'TaxiIn', 'Diverted',\n",
    "               'CarrierDelay', 'WeatherDelay', 'NASDelay', 'SecurityDelay', 'LateAircraftDelay', \n",
    "               'Year', 'TailNum', 'CancellationCode' ] # Only those 3 I added up to delay, others \n",
    "                                                       # are delayed as is stated in the task\n",
    "df = df.drop(*col_to_drop)\n",
    "df = df.withColumn(\"ArrDelay\", df[\"ArrDelay\"].cast(IntegerType()))\n",
    "df = df.withColumn(\"DepDelay\", df[\"DepDelay\"].cast(IntegerType()))\n",
    "df = df.withColumn(\"CRSDepTime\", df[\"CRSDepTime\"].cast(IntegerType()))\n",
    "df = df.withColumn(\"CRSArrTime\", df[\"CRSArrTime\"].cast(IntegerType()))\n",
    "df = df.withColumn(\"DepTime\", df[\"DepTime\"].cast(IntegerType()))\n",
    "\n",
    "df = df.filter(\"Cancelled == 0\") #select only those flights that happened\n",
    "df = df.drop(\"Cancelled\")\n",
    "df = df.drop(*[\"UniqueCarrier\", \"DayofMonth\", \"FlightNum\"]) #Droping unimportant categorical variables\n",
    "\n",
    "df = df.na.drop(\"any\") # Drop columns with null values +- 99% of dataset remains "
   ]
  },
  {
   "cell_type": "code",
   "execution_count": 4,
   "metadata": {},
   "outputs": [
    {
     "name": "stdout",
     "output_type": "stream",
     "text": [
      "+-----+---------+-------+----------+----------+--------------+--------+--------+------+----+--------+-------+\n",
      "|Month|DayOfWeek|DepTime|CRSDepTime|CRSArrTime|CRSElapsedTime|ArrDelay|DepDelay|Origin|Dest|Distance|TaxiOut|\n",
      "+-----+---------+-------+----------+----------+--------------+--------+--------+------+----+--------+-------+\n",
      "|    1|        1|    623|       630|       915|           105|     -14|      -7|   ORD| CLT|     599|     11|\n",
      "|    1|        2|    621|       630|       915|           105|      -4|      -9|   ORD| CLT|     599|     16|\n",
      "|    1|        3|    633|       630|       915|           105|       5|       3|   ORD| CLT|     599|     15|\n",
      "|    1|        4|    627|       630|       915|           105|     -16|      -3|   ORD| CLT|     599|     10|\n",
      "|    1|        5|    635|       630|       915|           105|       3|       5|   ORD| CLT|     599|     13|\n",
      "+-----+---------+-------+----------+----------+--------------+--------+--------+------+----+--------+-------+\n",
      "only showing top 5 rows\n",
      "\n"
     ]
    }
   ],
   "source": [
    "df.show(5) "
   ]
  },
  {
   "cell_type": "code",
   "execution_count": 5,
   "metadata": {},
   "outputs": [],
   "source": [
    "# Introducing interaction between the categorical variables: Origin and Dest"
   ]
  },
  {
   "cell_type": "code",
   "execution_count": 6,
   "metadata": {},
   "outputs": [],
   "source": [
    "df = df.withColumn('OrigDest', \n",
    "                    sf.concat(sf.col('Origin'),sf.lit('_'), sf.col('Dest')))\n",
    "df = df.drop(*[\"Origin\", \"Dest\"])"
   ]
  },
  {
   "cell_type": "code",
   "execution_count": 7,
   "metadata": {},
   "outputs": [
    {
     "name": "stdout",
     "output_type": "stream",
     "text": [
      "+-----+---------+-------+----------+----------+--------------+--------+--------+--------+-------+--------+\n",
      "|Month|DayOfWeek|DepTime|CRSDepTime|CRSArrTime|CRSElapsedTime|ArrDelay|DepDelay|Distance|TaxiOut|OrigDest|\n",
      "+-----+---------+-------+----------+----------+--------------+--------+--------+--------+-------+--------+\n",
      "|    1|        1|    623|       630|       915|           105|     -14|      -7|     599|     11| ORD_CLT|\n",
      "+-----+---------+-------+----------+----------+--------------+--------+--------+--------+-------+--------+\n",
      "only showing top 1 row\n",
      "\n"
     ]
    }
   ],
   "source": [
    "df.show(1)"
   ]
  },
  {
   "cell_type": "code",
   "execution_count": 8,
   "metadata": {},
   "outputs": [],
   "source": [
    "# Converting continuous to categorical:, \"DepTime\" \"CRSDepTime\", \"CRSArrTime\" which are times. \n",
    "# We want to seperate them to types of the day (morning, aftenoon, evening, night): https://www.learnersdictionary.com/qa/parts-of-the-day-early-morning-late-morning-etc"
   ]
  },
  {
   "cell_type": "code",
   "execution_count": 9,
   "metadata": {},
   "outputs": [],
   "source": [
    "splits = [-float(\"inf\"), 500, 1200, 1700, float(\"inf\")]\n",
    "bucketizer = Bucketizer(splitsArray= [splits, splits, splits], inputCols=[\"CRSDepTime\", \"CRSArrTime\", \"DepTime\"], outputCols=[\"CatCRSDepTime\", \"CatCRSArrTime\", \"CatDepTime\"])\n",
    "df = bucketizer.transform(df)\n",
    "\n",
    "df = df.drop(*[\"CRSDepTime\", \"CRSArrTime\"])"
   ]
  },
  {
   "cell_type": "code",
   "execution_count": 10,
   "metadata": {},
   "outputs": [],
   "source": [
    "varIdxer = StringIndexer(inputCol=\"OrigDest\",outputCol=\"IndOrigDest\").fit(df)\n",
    "df = varIdxer.transform(df)\n",
    "df = df.drop(\"OrigDest\")"
   ]
  },
  {
   "cell_type": "code",
   "execution_count": 11,
   "metadata": {},
   "outputs": [
    {
     "name": "stdout",
     "output_type": "stream",
     "text": [
      "+-----+---------+-------+--------------+--------+--------+--------+-------+-------------+-------------+----------+-----------+\n",
      "|Month|DayOfWeek|DepTime|CRSElapsedTime|ArrDelay|DepDelay|Distance|TaxiOut|CatCRSDepTime|CatCRSArrTime|CatDepTime|IndOrigDest|\n",
      "+-----+---------+-------+--------------+--------+--------+--------+-------+-------------+-------------+----------+-----------+\n",
      "|    1|        1|    623|           105|     -14|      -7|     599|     11|          1.0|          1.0|       1.0|      178.0|\n",
      "|    1|        2|    621|           105|      -4|      -9|     599|     16|          1.0|          1.0|       1.0|      178.0|\n",
      "|    1|        3|    633|           105|       5|       3|     599|     15|          1.0|          1.0|       1.0|      178.0|\n",
      "|    1|        4|    627|           105|     -16|      -3|     599|     10|          1.0|          1.0|       1.0|      178.0|\n",
      "|    1|        5|    635|           105|       3|       5|     599|     13|          1.0|          1.0|       1.0|      178.0|\n",
      "+-----+---------+-------+--------------+--------+--------+--------+-------+-------------+-------------+----------+-----------+\n",
      "only showing top 5 rows\n",
      "\n"
     ]
    }
   ],
   "source": [
    "df.show(5)"
   ]
  },
  {
   "cell_type": "code",
   "execution_count": 12,
   "metadata": {},
   "outputs": [],
   "source": [
    "# One Hot encoding the categorical data:"
   ]
  },
  {
   "cell_type": "code",
   "execution_count": 13,
   "metadata": {},
   "outputs": [],
   "source": [
    "oneHot = OneHotEncoder(inputCols=['Month', 'DayOfWeek', 'CatCRSDepTime', 'CatCRSArrTime', 'IndOrigDest', 'CatDepTime'],\n",
    "                       outputCols=['HotMonth', 'HotDayOfWeek', 'HotCRSCatDepTime', 'HotCRSCatArrTime', 'HotIndOrigDest', 'HotDepTime']).fit(df)\n",
    "df = oneHot.transform(df)\n",
    "df = df.drop(*['Month', 'DayOfWeek', 'CatDepTime', 'CatCRSDepTime', 'CatCRSArrTime', 'IndOrigDest'])"
   ]
  },
  {
   "cell_type": "code",
   "execution_count": 14,
   "metadata": {},
   "outputs": [
    {
     "name": "stdout",
     "output_type": "stream",
     "text": [
      "+-------+--------------+--------+--------+--------+-------+------------------+--------------+----------------+----------------+-------------+-------------+\n",
      "|DepTime|CRSElapsedTime|ArrDelay|DepDelay|Distance|TaxiOut|    HotIndOrigDest|      HotMonth|HotCRSCatDepTime|HotCRSCatArrTime| HotDayOfWeek|   HotDepTime|\n",
      "+-------+--------------+--------+--------+--------+-------+------------------+--------------+----------------+----------------+-------------+-------------+\n",
      "|    623|           105|     -14|      -7|     599|     11|(4408,[178],[1.0])|(12,[1],[1.0])|   (3,[1],[1.0])|   (3,[1],[1.0])|(7,[1],[1.0])|(3,[1],[1.0])|\n",
      "|    621|           105|      -4|      -9|     599|     16|(4408,[178],[1.0])|(12,[1],[1.0])|   (3,[1],[1.0])|   (3,[1],[1.0])|(7,[2],[1.0])|(3,[1],[1.0])|\n",
      "|    633|           105|       5|       3|     599|     15|(4408,[178],[1.0])|(12,[1],[1.0])|   (3,[1],[1.0])|   (3,[1],[1.0])|(7,[3],[1.0])|(3,[1],[1.0])|\n",
      "|    627|           105|     -16|      -3|     599|     10|(4408,[178],[1.0])|(12,[1],[1.0])|   (3,[1],[1.0])|   (3,[1],[1.0])|(7,[4],[1.0])|(3,[1],[1.0])|\n",
      "|    635|           105|       3|       5|     599|     13|(4408,[178],[1.0])|(12,[1],[1.0])|   (3,[1],[1.0])|   (3,[1],[1.0])|(7,[5],[1.0])|(3,[1],[1.0])|\n",
      "+-------+--------------+--------+--------+--------+-------+------------------+--------------+----------------+----------------+-------------+-------------+\n",
      "only showing top 5 rows\n",
      "\n"
     ]
    }
   ],
   "source": [
    "df.show(5)"
   ]
  },
  {
   "cell_type": "code",
   "execution_count": 15,
   "metadata": {},
   "outputs": [],
   "source": [
    "df = df.withColumn(\"Speed\", sf.round(col(\"Distance\") / col(\"CRSElapsedTime\"), 2))\n",
    "df = df.drop(*[\"Distance\", \"CRSElapsedTime\"])"
   ]
  },
  {
   "cell_type": "code",
   "execution_count": 16,
   "metadata": {},
   "outputs": [
    {
     "name": "stdout",
     "output_type": "stream",
     "text": [
      "+-------+--------+--------+-------+------------------+--------------+----------------+----------------+-------------+-------------+-----+\n",
      "|DepTime|ArrDelay|DepDelay|TaxiOut|    HotIndOrigDest|      HotMonth|HotCRSCatDepTime|HotCRSCatArrTime| HotDayOfWeek|   HotDepTime|Speed|\n",
      "+-------+--------+--------+-------+------------------+--------------+----------------+----------------+-------------+-------------+-----+\n",
      "|    623|     -14|      -7|     11|(4408,[178],[1.0])|(12,[1],[1.0])|   (3,[1],[1.0])|   (3,[1],[1.0])|(7,[1],[1.0])|(3,[1],[1.0])|  5.7|\n",
      "|    621|      -4|      -9|     16|(4408,[178],[1.0])|(12,[1],[1.0])|   (3,[1],[1.0])|   (3,[1],[1.0])|(7,[2],[1.0])|(3,[1],[1.0])|  5.7|\n",
      "|    633|       5|       3|     15|(4408,[178],[1.0])|(12,[1],[1.0])|   (3,[1],[1.0])|   (3,[1],[1.0])|(7,[3],[1.0])|(3,[1],[1.0])|  5.7|\n",
      "|    627|     -16|      -3|     10|(4408,[178],[1.0])|(12,[1],[1.0])|   (3,[1],[1.0])|   (3,[1],[1.0])|(7,[4],[1.0])|(3,[1],[1.0])|  5.7|\n",
      "|    635|       3|       5|     13|(4408,[178],[1.0])|(12,[1],[1.0])|   (3,[1],[1.0])|   (3,[1],[1.0])|(7,[5],[1.0])|(3,[1],[1.0])|  5.7|\n",
      "+-------+--------+--------+-------+------------------+--------------+----------------+----------------+-------------+-------------+-----+\n",
      "only showing top 5 rows\n",
      "\n"
     ]
    }
   ],
   "source": [
    "df.show(5)"
   ]
  },
  {
   "cell_type": "code",
   "execution_count": 17,
   "metadata": {},
   "outputs": [],
   "source": [
    "# FINAL SELECTION:\n",
    "X1 = ['DepDelay', 'TaxiOut']\n",
    "X2 = ['DepDelay', 'TaxiOut',  'HotDepTime']\n",
    "X3 = ['DepDelay', 'TaxiOut', 'HotIndOrigDest', 'HotDepTime'] \n",
    "X4 = ['DepDelay', 'TaxiOut', 'HotDayOfWeek', 'HotMonth', 'Speed'] \n",
    "X5 = ['DepDelay', 'TaxiOut', 'HotDayOfWeek', 'HotIndOrigDest', 'Speed']\n",
    "X6 = ['DepDelay', 'TaxiOut', 'HotIndOrigDest', 'Speed', 'HotCRSCatDepTime', 'HotCRSCatArrTime', 'HotDepTime']"
   ]
  },
  {
   "cell_type": "markdown",
   "metadata": {},
   "source": [
    "## General Linear model"
   ]
  },
  {
   "cell_type": "code",
   "execution_count": 18,
   "metadata": {},
   "outputs": [],
   "source": [
    "assembler = VectorAssembler(inputCols=X1, outputCol='features')\n",
    "output = assembler.transform(df).select('features', 'ArrDelay')\n",
    "train, test = output.randomSplit([0.75, 0.25])"
   ]
  },
  {
   "cell_type": "code",
   "execution_count": 9,
   "metadata": {},
   "outputs": [
    {
     "ename": "NameError",
     "evalue": "name 'train' is not defined",
     "output_type": "error",
     "traceback": [
      "\u001b[1;31m---------------------------------------------------------------------------\u001b[0m",
      "\u001b[1;31mNameError\u001b[0m                                 Traceback (most recent call last)",
      "\u001b[1;32m<ipython-input-9-a0e7af79aa61>\u001b[0m in \u001b[0;36m<module>\u001b[1;34m\u001b[0m\n\u001b[1;32m----> 1\u001b[1;33m \u001b[0mtrain\u001b[0m\u001b[1;33m.\u001b[0m\u001b[0mshow\u001b[0m\u001b[1;33m(\u001b[0m\u001b[1;36m5\u001b[0m\u001b[1;33m)\u001b[0m\u001b[1;33m\u001b[0m\u001b[1;33m\u001b[0m\u001b[0m\n\u001b[0m",
      "\u001b[1;31mNameError\u001b[0m: name 'train' is not defined"
     ]
    }
   ],
   "source": [
    "train.show(5)"
   ]
  },
  {
   "cell_type": "code",
   "execution_count": 19,
   "metadata": {},
   "outputs": [],
   "source": [
    "lin_reg = LinearRegression(featuresCol = 'features', labelCol='ArrDelay')\n",
    "linear_model = lin_reg.fit(train)\n",
    "\n",
    "#trainSummary = linear_model.summary\n",
    "#print(\"RMSE: %f\" % trainSummary.rootMeanSquaredError)\n",
    "#print(\"MSE: %f\" %  trainSummary.meanSquaredError)\n",
    "#print(\"\\nr2: %f\" % trainSummary.r2)"
   ]
  },
  {
   "cell_type": "code",
   "execution_count": 20,
   "metadata": {},
   "outputs": [],
   "source": [
    "predictions = linear_model.transform(test)\n",
    "x =((predictions['ArrDelay']-predictions['prediction'])/predictions['ArrDelay'])*100\n",
    "predictions = predictions.withColumn('Accuracy',abs(x))\n",
    "#predictions.select(\"prediction\",\"ArrDelay\",\"Accuracy\",\"features\").show(10)"
   ]
  },
  {
   "cell_type": "code",
   "execution_count": 21,
   "metadata": {},
   "outputs": [
    {
     "name": "stdout",
     "output_type": "stream",
     "text": [
      "R Squared (R2) on test data = 0.861688\n",
      "Root Mean Squared Error (RMSE) on test data = 12.4481\n",
      "Mean Absolute Error (MAE) on test data = 7.83326\n"
     ]
    }
   ],
   "source": [
    "pred_evaluator = RegressionEvaluator(predictionCol=\"prediction\",labelCol=\"ArrDelay\",metricName=\"r2\")\n",
    "print(\"R Squared (R2) on test data = %g\" % pred_evaluator.evaluate(predictions))\n",
    "\n",
    "evaluator = RegressionEvaluator(labelCol='ArrDelay', predictionCol=\"prediction\", metricName=\"rmse\")\n",
    "rmse = evaluator.evaluate(predictions)\n",
    "print(\"Root Mean Squared Error (RMSE) on test data = %g\" % rmse)\n",
    "\n",
    "evaluator = RegressionEvaluator(labelCol='ArrDelay', predictionCol=\"prediction\", metricName=\"mae\")\n",
    "mae = evaluator.evaluate(predictions)\n",
    "print(\"Mean Absolute Error (MAE) on test data = %g\" % mae)"
   ]
  },
  {
   "cell_type": "markdown",
   "metadata": {},
   "source": [
    "## General Linear model with ParamGridBuilder and TrainValidationSplit"
   ]
  },
  {
   "cell_type": "code",
   "execution_count": 22,
   "metadata": {},
   "outputs": [],
   "source": [
    "df = df.withColumnRenamed(\"ArrDelay\", \"label\")"
   ]
  },
  {
   "cell_type": "code",
   "execution_count": 23,
   "metadata": {},
   "outputs": [
    {
     "name": "stdout",
     "output_type": "stream",
     "text": [
      "+-------+-----+--------+-------+------------------+--------------+----------------+----------------+-------------+-------------+-----+\n",
      "|DepTime|label|DepDelay|TaxiOut|    HotIndOrigDest|      HotMonth|HotCRSCatDepTime|HotCRSCatArrTime| HotDayOfWeek|   HotDepTime|Speed|\n",
      "+-------+-----+--------+-------+------------------+--------------+----------------+----------------+-------------+-------------+-----+\n",
      "|    623|  -14|      -7|     11|(4408,[178],[1.0])|(12,[1],[1.0])|   (3,[1],[1.0])|   (3,[1],[1.0])|(7,[1],[1.0])|(3,[1],[1.0])|  5.7|\n",
      "|    621|   -4|      -9|     16|(4408,[178],[1.0])|(12,[1],[1.0])|   (3,[1],[1.0])|   (3,[1],[1.0])|(7,[2],[1.0])|(3,[1],[1.0])|  5.7|\n",
      "|    633|    5|       3|     15|(4408,[178],[1.0])|(12,[1],[1.0])|   (3,[1],[1.0])|   (3,[1],[1.0])|(7,[3],[1.0])|(3,[1],[1.0])|  5.7|\n",
      "|    627|  -16|      -3|     10|(4408,[178],[1.0])|(12,[1],[1.0])|   (3,[1],[1.0])|   (3,[1],[1.0])|(7,[4],[1.0])|(3,[1],[1.0])|  5.7|\n",
      "|    635|    3|       5|     13|(4408,[178],[1.0])|(12,[1],[1.0])|   (3,[1],[1.0])|   (3,[1],[1.0])|(7,[5],[1.0])|(3,[1],[1.0])|  5.7|\n",
      "+-------+-----+--------+-------+------------------+--------------+----------------+----------------+-------------+-------------+-----+\n",
      "only showing top 5 rows\n",
      "\n"
     ]
    }
   ],
   "source": [
    "df.show(5)"
   ]
  },
  {
   "cell_type": "code",
   "execution_count": 24,
   "metadata": {},
   "outputs": [],
   "source": [
    "assembler = VectorAssembler(inputCols=X1, outputCol='features')\n",
    "output = assembler.transform(df).select('features','label')"
   ]
  },
  {
   "cell_type": "code",
   "execution_count": 25,
   "metadata": {},
   "outputs": [],
   "source": [
    "train, test = output.randomSplit([0.75, 0.25])"
   ]
  },
  {
   "cell_type": "code",
   "execution_count": 26,
   "metadata": {},
   "outputs": [
    {
     "name": "stdout",
     "output_type": "stream",
     "text": [
      "+---------+-----+-----------------+\n",
      "| features|label|       prediction|\n",
      "+---------+-----+-----------------+\n",
      "|(2,[],[])|  -34|-8.10724902732001|\n",
      "|(2,[],[])|  -23|-8.10724902732001|\n",
      "|(2,[],[])|  -21|-8.10724902732001|\n",
      "|(2,[],[])|  -19|-8.10724902732001|\n",
      "|(2,[],[])|  -15|-8.10724902732001|\n",
      "+---------+-----+-----------------+\n",
      "only showing top 5 rows\n",
      "\n"
     ]
    }
   ],
   "source": [
    "from pyspark.ml.tuning import ParamGridBuilder, TrainValidationSplit\n",
    "\n",
    "\n",
    "lin_reg = LinearRegression(featuresCol = 'features')\n",
    "\n",
    "\n",
    "# We use a ParamGridBuilder and TrainValidationSplit to determin the best model\n",
    "\n",
    "paramGrid = ParamGridBuilder()\\\n",
    "    .addGrid(lin_reg.regParam, [0.1, 0.05]) \\\n",
    "    .addGrid(lin_reg.fitIntercept, [False, True])\\\n",
    "    .addGrid(lin_reg.elasticNetParam, [0.0, 0.5, 1.0])\\\n",
    "    .addGrid(lin_reg.maxIter, [1, 3])\\\n",
    "    .build()\n",
    "\n",
    "tvs = TrainValidationSplit(estimator=lin_reg,\n",
    "                           estimatorParamMaps=paramGrid,\n",
    "                           evaluator=RegressionEvaluator(),\n",
    "                           trainRatio=0.75)\n",
    "\n",
    "model = tvs.fit(train)\n",
    "\n",
    "\n",
    "model.transform(test)\\\n",
    "    .select(\"features\", \"label\", \"prediction\")\\\n",
    "    .show(5)"
   ]
  },
  {
   "cell_type": "code",
   "execution_count": 27,
   "metadata": {},
   "outputs": [],
   "source": [
    "predictions = model.transform(test)\n",
    "x =((predictions['label']-predictions['prediction'])/predictions['label'])*100\n",
    "predictions = predictions.withColumn('Accuracy',abs(x))\n",
    "#predictions.select(\"prediction\",\"ArrDelay\",\"Accuracy\",\"features\").show(10)"
   ]
  },
  {
   "cell_type": "code",
   "execution_count": 28,
   "metadata": {},
   "outputs": [
    {
     "name": "stdout",
     "output_type": "stream",
     "text": [
      "R Squared (R2) on test data = 0.86138\n",
      "Root Mean Squared Error (RMSE) on test data = 12.3888\n",
      "Mean Absolute Error (MAE) on test data = 7.84175\n"
     ]
    }
   ],
   "source": [
    "pred_evaluator = RegressionEvaluator(predictionCol=\"prediction\", \\\n",
    "                 labelCol=\"label\",metricName=\"r2\")\n",
    "print(\"R Squared (R2) on test data = %g\" % pred_evaluator.evaluate(predictions))\n",
    "\n",
    "evaluator = RegressionEvaluator(\n",
    "    labelCol='label', predictionCol=\"prediction\", metricName=\"rmse\")\n",
    "rmse = evaluator.evaluate(predictions)\n",
    "print(\"Root Mean Squared Error (RMSE) on test data = %g\" % rmse)\n",
    "\n",
    "evaluator = RegressionEvaluator(\n",
    "    labelCol='label', predictionCol=\"prediction\", metricName=\"mae\")\n",
    "mae = evaluator.evaluate(predictions)\n",
    "print(\"Mean Absolute Error (MAE) on test data = %g\" % mae)"
   ]
  },
  {
   "cell_type": "markdown",
   "metadata": {
    "jupyter": {
     "source_hidden": true
    }
   },
   "source": [
    "X1:\n",
    "R Squared (R2) on test data = 0.826373\n",
    "Root Mean Squared Error (RMSE) on test data = 13.8497\n",
    "Mean Squared Error (RMSE) on test data = 191.815\n",
    "\n",
    "X2:\n",
    "R Squared (R2) on test data = 0.86015\n",
    "Root Mean Squared Error (RMSE) on test data = 12.3931\n",
    "Mean Squared Error (RMSE) on test data = 153.59\n",
    "\n",
    "X2_DepTime\n",
    "R Squared (R2) on test data = 0.86645\n",
    "Root Mean Squared Error (RMSE) on test data = 12.2173\n",
    "Mean Squared Error (RMSE) on test data = 149.264\n",
    "\n",
    "X2_DepTimeCont\n",
    "R Squared (R2) on test data = 0.865903\n",
    "Root Mean Squared Error (RMSE) on test data = 12.217\n",
    "Mean Squared Error (RMSE) on test data = 149.254\n",
    "\n",
    "X3:\n",
    "R Squared (R2) on test data = 0.867128\n",
    "Root Mean Squared Error (RMSE) on test data = 12.1511\n",
    "Mean Squared Error (RMSE) on test data = 147.649\n",
    "\n",
    "X3_HotDepTime\n",
    "R Squared (R2) on test data = 0.869852\n",
    "Root Mean Squared Error (RMSE) on test data = 12.0166\n",
    "Mean Squared Error (RMSE) on test data = 144.399\n",
    "\n",
    "X4:\n",
    "R Squared (R2) on test data = 0.859676\n",
    "Root Mean Squared Error (RMSE) on test data = 12.5005\n",
    "Mean Squared Error (RMSE) on test data = 156.263\n",
    "\n",
    "X4_HotDepTime\n",
    "R Squared (R2) on test data = 0.861924\n",
    "Root Mean Squared Error (RMSE) on test data = 12.4194\n",
    "Mean Squared Error (RMSE) on test data = 154.242\n",
    "\n",
    "X5: \n",
    "R Squared (R2) on test data = 0.863975\n",
    "Root Mean Squared Error (RMSE) on test data = 12.2739\n",
    "Mean Squared Error (RMSE) on test data = 150.648\n",
    "\n",
    "X5_HotDepTime\n",
    "R Squared (R2) on test data = 0.873747\n",
    "Root Mean Squared Error (RMSE) on test data = 11.8387\n",
    "Mean Squared Error (RMSE) on test data = 140.154\n",
    "\n",
    "X6:\n",
    "R Squared (R2) on test data = 0.870854\n",
    "Root Mean Squared Error (RMSE) on test data = 12.0075\n",
    "Mean Squared Error (RMSE) on test data = 144.179\n",
    "\n",
    "X6_NoWeekNoSpeed:\n",
    "R Squared (R2) on test data = 0.869446\n",
    "Root Mean Squared Error (RMSE) on test data = 12.0361\n",
    "Mean Squared Error (RMSE) on test data = 144.868\n",
    "\n",
    "X6_NoSpeed:\n",
    "R Squared (R2) on test data = 0.8693\n",
    "Root Mean Squared Error (RMSE) on test data = 12.0816\n",
    "Mean Squared Error (RMSE) on test data = 145.966\n",
    "\n",
    "X6_NoWeek:\n",
    "R Squared (R2) on test data = 0.873866\n",
    "Root Mean Squared Error (RMSE) on test data = 11.8401\n",
    "Mean Squared Error (RMSE) on test data = 140.188\n",
    "\n",
    "X6_NoWeek_DepTime\n",
    "R Squared (R2) on test data = 0.878756\n",
    "Root Mean Squared Error (RMSE) on test data = 11.6798\n",
    "Mean Squared Error (RMSE) on test data = 136.418\n",
    "\n",
    "X6_NoWeek_DepTimeCont\n",
    "R Squared (R2) on test data = 0.872805\n",
    "Root Mean Squared Error (RMSE) on test data = 11.9287\n",
    "Mean Squared Error (RMSE) on test data = 142.295"
   ]
  },
  {
   "cell_type": "code",
   "execution_count": 29,
   "metadata": {},
   "outputs": [],
   "source": [
    "sc.stop()"
   ]
  },
  {
   "cell_type": "code",
   "execution_count": 2,
   "metadata": {},
   "outputs": [],
   "source": [
    "from visualization import Views\n",
    "from pyspark.sql.functions import abs\n",
    "from pyspark.ml import Pipeline\n",
    "from pyspark.mllib.tree import RandomForest, RandomForestModel\n",
    "from pyspark.mllib.util import MLUtils\n",
    "from pyspark.ml.feature import VectorAssembler\n",
    "from pyspark.ml.feature import VectorIndexer, VectorAssembler\n",
    "from pyspark.ml.regression import LinearRegression\n",
    "from pyspark.ml.regression import GeneralizedLinearRegression\n",
    "from pyspark.ml.regression import RandomForestRegressor\n",
    "from pyspark.ml.regression import DecisionTreeRegressor\n",
    "from pyspark.ml.regression import GBTRegressor\n",
    "from pyspark.ml.evaluation import RegressionEvaluator\n",
    "\n",
    "\n",
    "\n",
    "\n",
    "\n",
    "class Trainer:\n",
    "\n",
    "    def __init__(self, config, df, spark, sc, X):     \n",
    "        self.cfg = config\n",
    "        self.spark =spark\n",
    "        self.sc = sc\n",
    "        self.df = df\n",
    "        self.X =X\n",
    "        \n",
    "        Views(config,df).correlation()\n",
    "        \n",
    "        valori_LR=[]\n",
    "        valori_all=[]\n",
    "\n",
    "        if(self.cfg.model == 'linear_regression'):\n",
    "\n",
    "            for features in self.X:\n",
    "                self.R2LR , self.maeLR, self.rmseLR = self.linear_regression_train(features)\n",
    "\n",
    "                features['R2LR'] = self.R2LR\n",
    "                features['maeLR'] = self.maeLR\n",
    "                features['rmseLR'] = self.rmseLR\n",
    "                valori_LR.append(features)\n",
    "        \n",
    "            for x in valori_LR:\n",
    "                print(x)\n",
    "\n",
    "\n",
    "        elif(self.cfg.model == 'generalized_linear_regression_train'):\n",
    "            for features in self.X:\n",
    "                self.R2GLR, self.maeGLR, self.rmseGLR = self.generalized_linear_regression_train(features)\n",
    "\n",
    "                features['R2GLR'] = self.R2GLR\n",
    "                features['maeGLR'] = self.maeGLR\n",
    "                features['rmseGLR'] = self.rmseGLR\n",
    "\n",
    "        elif(self.cfg.model == 'gradient_boosted_tree_regression'):\n",
    "            for features in self.X:\n",
    "                self.R2GBR , self.maeGBR, self.rmseGBR = self.Gradient_boosted_tree_regression(features)\n",
    "                features['R2GBR'] = self.R2GBR\n",
    "                features['maeGBR'] = self.maeGBR\n",
    "                features['rmseGBR'] = self.rmseGBR\n",
    "\n",
    "        elif(self.cfg.model == 'random_forest'):\n",
    "            for features in self.X:\n",
    "                train, test, featureIndexer = self.split_tree_forest(features)\n",
    "                self.R2RF , self.maeRF, self.rmseRF = self.random_forest_train(train, test, featureIndexer)\n",
    "                features['R2RF'] = self.R2RF\n",
    "                features['maeRF'] = self.maeRF\n",
    "                features['rmseRF'] = self.rmseRF\n",
    "\n",
    "        elif(self.cfg.model == 'decision_tree_regression'):\n",
    "            for features in self.X:\n",
    "                train, test, featureIndexer = self.split_tree_forest(features)\n",
    "                self.R2DT , self.maeDT, self.rmseDT = self.decision_tree_regression_train(train, test, featureIndexer)\n",
    "                features['R2DT'] = self.R2DT\n",
    "                features['maeDT'] = self.maeDT\n",
    "                features['rmseDT'] = self.rmseDT\n",
    "\n",
    "        elif(self.cfg.model == 'all'):\n",
    "            for features in self.X:\n",
    "                self.R2LR , self.maeLR, self.rmseLR= self.linear_regression_train(features)\n",
    "                #self.R2GLR, self.maeGLR, self.rmseGLR  = self.generalized_linear_regression_train(features)\n",
    "                train, test, featureIndexer = self.split_tree_forest(features)\n",
    "                self.R2RF , self.maeRF, self.rmseRF= self.random_forest_train(train, test, featureIndexer)\n",
    "                self.R2DT , self.maeDT, self.rmseDT = self.decision_tree_regression_train(train, test, featureIndexer)\n",
    "                self.R2GBR , self.maeGBR, self.rmseGBR= self.Gradient_boosted_tree_regression(features)\n",
    "\n",
    "                features['R2LR'] = self.R2LR\n",
    "                features['maeLR'] = self.maeLR\n",
    "                features['rmseLR'] = self.rmseLR\n",
    "\n",
    "                #features['R2GLR'] = self.R2GLR\n",
    "                #features['maeGLR'] = self.maeGLR\n",
    "                #features['rmseGLR'] = self.rmseGLR\n",
    "\n",
    "                features['R2RF'] = self.R2RF\n",
    "                features['maeRF'] = self.maeRF\n",
    "                features['rmseRF'] = self.rmseRF\n",
    "\n",
    "                features['R2DT'] = self.R2DT\n",
    "                features['maeDT'] = self.maeDT\n",
    "                features['rmseDT'] = self.rmseDT\n",
    "\n",
    "                features['R2GBR'] = self.R2GBR\n",
    "                features['maeGBR'] = self.maeGBR\n",
    "                features['rmseGBR'] = self.rmseGBR\n",
    "\n",
    "                valori_all.append(features)\n",
    "\n",
    "            for x in valori_all:\n",
    "                print(x)\n",
    "\n",
    "            print(  '\\n Linear Regression R2 : {R2LR}\\t'\n",
    "                    '\\n General Linear Regression R2 : {R2GLR}\\t'\n",
    "                    '\\n Random Forest R2 : {R2RF}\\t'\n",
    "                    '\\n Decision Tree Regression R2  : {R2DT}\\t'\n",
    "                    '\\n Gradient Booster Tree Regression R2  : {R2GBR}\\t'.format(\n",
    "                    R2LR=self.R2LR, \n",
    "                    R2RF=self.R2RF, \n",
    "                    R2DT=self.R2DT, \n",
    "                    R2GBR = self.R2GBR,\n",
    "                    R2GLR = self.R2GLR )) \n",
    "        else:\n",
    "            print(\"nothing was selected\")\n",
    "\n",
    "    def split_tree_forest(self, X):\n",
    "        features = self.df.select(X['variables'], 'ArrDelay')\n",
    "        #features = self.df.select(['DepDelay', \n",
    "        #                      'TaxiOut', \n",
    "        #                      'ArrDelay'])\n",
    "\n",
    "        gen_assembler = VectorAssembler(\n",
    "            inputCols=features.columns[:-1],\n",
    "            outputCol='features')\n",
    "\n",
    "        gen_output = gen_assembler.transform(self.df).select('features',\n",
    "                                                        'ArrDelay')\n",
    "\n",
    "        featureIndexer = VectorIndexer(\n",
    "                                        inputCol='features', \n",
    "                                        outputCol='IndexedFeatures').fit(gen_output)\n",
    "\n",
    "        (train, test) = gen_output.randomSplit([self.cfg.split_size_train / 100 , (100 - self.cfg.split_size_train ) / 100])\n",
    "\n",
    "        return train, test, featureIndexer\n",
    "\n",
    "    def decision_tree_regression_train(self, train, test, featureIndexer):\n",
    "        dt1 = DecisionTreeRegressor(\n",
    "                                    featuresCol=\"IndexedFeatures\", \n",
    "                                    labelCol='ArrDelay')\n",
    "\n",
    "        pipeline = Pipeline(stages=[featureIndexer, dt1])\n",
    "\n",
    "        # Train model.  This also runs the indexer.\n",
    "        model = pipeline.fit(train)\n",
    "\n",
    "        # Make predictions.\n",
    "        predictions = model.transform(test)\n",
    "\n",
    "        # Select example rows to display.\n",
    "        predictions.select(\"prediction\", \n",
    "                            'ArrDelay', \n",
    "                            \"features\").show(25)\n",
    "\n",
    "        evaluator = RegressionEvaluator(\n",
    "                            labelCol='ArrDelay', \n",
    "                            predictionCol=\"prediction\", \n",
    "                            metricName=\"rmse\")\n",
    "\n",
    "        pred_evaluator = RegressionEvaluator(\n",
    "                                            predictionCol=\"prediction\", \\\n",
    "                                            labelCol=\"ArrDelay\",\n",
    "                                            metricName=\"r2\")\n",
    "        mae_evaluator = RegressionEvaluator(labelCol='ArrDelay', \n",
    "                                            predictionCol=\"prediction\", \n",
    "                                            metricName=\"mae\")\n",
    "\n",
    "        rmse = evaluator.evaluate(predictions)\n",
    "        mae = mae_evaluator.evaluate(predictions)  \n",
    "        R2 = pred_evaluator.evaluate(predictions)\n",
    "        print(\"R Squared (R2) on test data = %g\" % R2)\n",
    "        print(\"Root Mean Squared Error (RMSE) on test data = %g\" % rmse)\n",
    "\n",
    "        treeModel = model.stages[1]\n",
    "        # summary only\n",
    "        print(treeModel)\n",
    "        return R2, mae, rmse\n",
    "\n",
    "    def Gradient_boosted_tree_regression(self, X):\n",
    "        \n",
    "        features = self.df.select(X['variables'])\n",
    "        \n",
    "        #features = self.df.select(['DepDelay', 'TaxiOut', 'ArrDelay'])\n",
    "\n",
    "        gen_assembler = VectorAssembler(\n",
    "                                inputCols=features.columns[:-1],\n",
    "                                outputCol='features')\n",
    "\n",
    "        gen_output = gen_assembler.transform(self.df).select('features','ArrDelay')\n",
    "\n",
    "        featureIndexer = VectorIndexer(\n",
    "                                inputCol='features', \n",
    "                                outputCol='IndexedFeatures').fit(gen_output)\n",
    "        (train, test) = gen_output.randomSplit([self.cfg.split_size_train / 100 , (100 - self.cfg.split_size_train ) / 100])\n",
    "\n",
    "        gbt = GBTRegressor(featuresCol=\"IndexedFeatures\", \n",
    "                           labelCol=\"ArrDelay\", \n",
    "                           maxIter=10)\n",
    "\n",
    "        pipeline = Pipeline(stages=[featureIndexer, gbt])\n",
    "        model = pipeline.fit(train)\n",
    "\n",
    "        predictions = model.transform(test)\n",
    "\n",
    "        evaluator = RegressionEvaluator(\n",
    "                            labelCol=\"ArrDelay\", \n",
    "                            predictionCol=\"prediction\", \n",
    "                            metricName=\"rmse\")\n",
    "\n",
    "\n",
    "        mae_evaluator = RegressionEvaluator(labelCol='ArrDelay', \n",
    "                                            predictionCol=\"prediction\", \n",
    "                                            metricName=\"mae\")\n",
    "\n",
    "        pred_evaluator = RegressionEvaluator(predictionCol=\"prediction\", \\\n",
    "                                            labelCol=\"ArrDelay\",\n",
    "                                            metricName=\"r2\")\n",
    "\n",
    "        R2 = pred_evaluator.evaluate(predictions)\n",
    "        mae = mae_evaluator.evaluate(predictions)\n",
    "        rmse = evaluator.evaluate(predictions)\n",
    "\n",
    "        print(\"Root Mean Squared Error (RMSE) on test data = %g\" % rmse)\n",
    "        print(\"R Squared (R2) on test data = %g\" % R2)\n",
    "\n",
    "        gbtModel = model.stages[1]\n",
    "        print(gbtModel)  # summary only\n",
    "\n",
    "        return R2, mae, rmse\n",
    "\n",
    "\n",
    "\n",
    "        \n",
    "    def random_forest_train(self, train, test, featureIndexer):\n",
    "        rf = RandomForestRegressor(\n",
    "                                   featuresCol=\"IndexedFeatures\", \n",
    "                                   labelCol='ArrDelay')\n",
    "\n",
    "        pipeline = Pipeline(stages=[featureIndexer, rf])\n",
    "        model = pipeline.fit(train)\n",
    "        predictions = model.transform(test)\n",
    "        predictions.select(\"prediction\", \"ArrDelay\", \"features\").show(25)\n",
    "\n",
    "        evaluator = RegressionEvaluator(\n",
    "                                labelCol='ArrDelay', \n",
    "                                predictionCol=\"prediction\", \n",
    "                                metricName=\"rmse\")\n",
    "\n",
    "        rmse = evaluator.evaluate(predictions)\n",
    "        print(\"Root Mean Squared Error (RMSE) on test data = %g\" % rmse)\n",
    "\n",
    "        pred_evaluator = RegressionEvaluator(\n",
    "                                predictionCol=\"prediction\", \\\n",
    "                                labelCol=\"ArrDelay\",\n",
    "                                metricName=\"r2\")\n",
    "\n",
    "        mae_evaluator = RegressionEvaluator(labelCol='ArrDelay', \n",
    "                                            predictionCol=\"prediction\", \n",
    "                                            metricName=\"mae\")\n",
    "\n",
    "        mae = mae_evaluator.evaluate(predictions)\n",
    "\n",
    "        R2 = pred_evaluator.evaluate(predictions)\n",
    "        print(\"R Squared (R2) on test data = %g\" % R2)\n",
    "\n",
    "        rfModel = model.stages[1]\n",
    "        print(rfModel)\n",
    "\n",
    "        return R2, mae, rmse\n",
    "\n",
    "    def linear_regression_train(self,X):\n",
    "\n",
    "\n",
    "        \n",
    "\n",
    "        features = self.df.select(X['variables'])\n",
    "        assembler = VectorAssembler(\n",
    "                    inputCols=features.columns,\n",
    "                    outputCol=\"features\")\n",
    "\n",
    "        output = assembler.transform(self.df).select('features','ArrDelay')\n",
    "\n",
    "        print(\" train set \", self.cfg.split_size_train / 100)\n",
    "        print(\" test set \", (100 - self.cfg.split_size_train ) / 100 ) \n",
    "        train,test = output.randomSplit([self.cfg.split_size_train / 100 , (100 - self.cfg.split_size_train ) / 100])\n",
    "\n",
    "        \n",
    "        lin_reg = LinearRegression(featuresCol = 'features', \n",
    "                                   labelCol='ArrDelay',\n",
    "                                   regParam=self.cfg.regParam,\n",
    "                                   elasticNetParam=self.cfg.elasticNetParam )\n",
    "\n",
    "        linear_model = lin_reg.fit(train)\n",
    "\n",
    "\n",
    "        print(\"Coefficients: \" + str(linear_model.coefficients))\n",
    "        print(\"\\nIntercept: \" + str(linear_model.intercept))\n",
    "\n",
    "        trainSummary = linear_model.summary\n",
    "        print(\"RMSE: %f\" % trainSummary.rootMeanSquaredError)\n",
    "        print(\"MAE: %f\" % trainSummary.meanAbsoluteError)\n",
    "        print(\"\\nr2: %f\" % trainSummary.r2)\n",
    "\n",
    "        predictions = linear_model.transform(test)\n",
    "        x =((predictions['ArrDelay']-predictions['prediction'])/predictions['ArrDelay'])*100\n",
    "        predictions = predictions.withColumn('Accuracy',abs(x))\n",
    "        predictions.select(\"prediction\",\"ArrDelay\",\"Accuracy\",\"features\").show(10)\n",
    "        \n",
    "        pred_evaluator = RegressionEvaluator(predictionCol=\"prediction\", \\\n",
    "                 labelCol=\"ArrDelay\",metricName=\"r2\")\n",
    "        mae_evaluator = RegressionEvaluator(labelCol='ArrDelay', \n",
    "                                            predictionCol=\"prediction\", \n",
    "                                            metricName=\"mae\")\n",
    "\n",
    "        rmse_evaluator = RegressionEvaluator(labelCol='ArrDelay', \n",
    "                                            predictionCol=\"prediction\", \n",
    "                                            metricName=\"rmse\")\n",
    "\n",
    "        mae = mae_evaluator.evaluate(predictions)\n",
    "        rmse = rmse_evaluator.evaluate(predictions)\n",
    "        r2 = pred_evaluator.evaluate(predictions)       \n",
    "\n",
    "        print(\"MAE TEST: %f\" % mae)\n",
    "        print(\"rmse TEST: %f\" % rmse)\n",
    "        print(\"R Squared (R2) on test data = %g\" % r2)\n",
    "\n",
    "        return r2, mae, rmse\n",
    "\n",
    "    def generalized_linear_regression_train(self,X):\n",
    "\n",
    "        #features = self.df.select(X['variables'])\n",
    "        features = self.df.select(['DepDelay', 'TaxiOut']) ## Currently, GeneralizedLinearRegression only supports number of features <= 4096. Found 4413 in the input dataset.\n",
    "\n",
    "\n",
    "        gen_assembler = VectorAssembler(\n",
    "                        inputCols=features.columns,\n",
    "                        outputCol='features')\n",
    "\n",
    "        gen_output = gen_assembler.transform(self.df).select('features','ArrDelay')\n",
    "        gen_train,gen_test = gen_output.randomSplit([self.cfg.split_size_train / 100 , (100 - self.cfg.split_size_train ) / 100])\n",
    "\n",
    "        glr = GeneralizedLinearRegression(family=\"gaussian\", \n",
    "                                          link=\"Identity\", \n",
    "                                          maxIter=10, \n",
    "                                          regParam=self.cfg.regParam, \n",
    "                                          labelCol='ArrDelay')\n",
    "        gen_model = glr.fit(gen_train)\n",
    "        print(\"Coefficients: \" + str(gen_model.coefficients))\n",
    "        print(\"\\nIntercept: \" + str(gen_model.intercept)) \n",
    "\n",
    "        predictions = gen_model.transform(gen_test)\n",
    "        x =((predictions['ArrDelay']-predictions['prediction'])/predictions['ArrDelay'])*100\n",
    "        predictions = predictions.withColumn('Accuracy',abs(x))\n",
    "        predictions.select(\"prediction\",\"ArrDelay\",\"Accuracy\",\"features\").show(10) \n",
    "\n",
    "        pred_evaluator = RegressionEvaluator(predictionCol=\"prediction\", \\\n",
    "                 labelCol=\"ArrDelay\",metricName=\"r2\")\n",
    "\n",
    "        mae_evaluator = RegressionEvaluator(labelCol='ArrDelay', \n",
    "                                            predictionCol=\"prediction\", \n",
    "                                            metricName=\"mae\")\n",
    "\n",
    "        rmse_evaluator = RegressionEvaluator(labelCol='ArrDelay', \n",
    "                                            predictionCol=\"prediction\", \n",
    "                                            metricName=\"rmse\")\n",
    "\n",
    "        mae = mae_evaluator.evaluate(predictions)\n",
    "        rmse = rmse_evaluator.evaluate(predictions)      \n",
    "        R2 = pred_evaluator.evaluate(predictions)\n",
    "\n",
    "\n",
    "        print(\"R Squared (R2) on test data = %g\" % R2)\n",
    "\n",
    "        return R2, mae, rmse\n",
    "                                        "
   ]
  },
  {
   "cell_type": "code",
   "execution_count": null,
   "metadata": {},
   "outputs": [],
   "source": []
  }
 ],
 "metadata": {
  "kernelspec": {
   "display_name": "Python 3",
   "language": "python",
   "name": "python3"
  },
  "language_info": {
   "codemirror_mode": {
    "name": "ipython",
    "version": 3
   },
   "file_extension": ".py",
   "mimetype": "text/x-python",
   "name": "python",
   "nbconvert_exporter": "python",
   "pygments_lexer": "ipython3",
   "version": "3.8.6"
  }
 },
 "nbformat": 4,
 "nbformat_minor": 4
}
