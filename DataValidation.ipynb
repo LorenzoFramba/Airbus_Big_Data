{
 "cells": [
  {
   "cell_type": "code",
   "execution_count": 3,
   "metadata": {},
   "outputs": [],
   "source": [
    "import findspark\n",
    "findspark.init()\n",
    "\n",
    "import pyspark\n",
    "import random"
   ]
  },
  {
   "cell_type": "code",
   "execution_count": 4,
   "metadata": {},
   "outputs": [],
   "source": [
    "from pyspark.ml.feature import VectorAssembler\n",
    "from pyspark.ml.feature import PCA\n",
    "from pyspark.ml.regression import LinearRegression\n",
    "from pyspark.ml import Pipeline\n",
    "from  pyspark.sql.functions import abs\n",
    "from pyspark.ml.evaluation import RegressionEvaluator"
   ]
  },
  {
   "cell_type": "code",
   "execution_count": 5,
   "metadata": {},
   "outputs": [],
   "source": [
    "from pyspark import SparkContext\n",
    "from pyspark.sql import SQLContext\n",
    "from pyspark.sql.session import SparkSession\n",
    "from pyspark.sql.types import *\n",
    "from pyspark.sql.functions import isnan, when, count, col"
   ]
  },
  {
   "cell_type": "code",
   "execution_count": 6,
   "metadata": {},
   "outputs": [],
   "source": [
    "filename = \"2004.csv\""
   ]
  },
  {
   "cell_type": "code",
   "execution_count": 7,
   "metadata": {},
   "outputs": [],
   "source": [
    "def _init_spark():\n",
    "    spark = SparkSession.builder.appName(\"Project\").getOrCreate()\n",
    "    sc = spark.sparkContext\n",
    "    return spark, sc\n",
    "\n",
    "spark, sc = _init_spark()\n",
    "sqlContext = SQLContext(sc)\n",
    "\n",
    "df = sqlContext.read.load(filename, \n",
    "                      format='com.databricks.spark.csv', \n",
    "                      header='true',\n",
    "                      delimiter=',',\n",
    "                      inferSchema='true')\n",
    "df.cache()\n",
    "\n",
    "col_to_drop = ['ArrTime', 'ActualElapsedTime', 'AirTime', 'TaxiIn', 'Diverted',\n",
    "               'CarrierDelay', 'WeatherDelay', 'NASDelay', 'SecurityDelay', 'LateAircraftDelay', \n",
    "               'Year', 'TailNum', 'CancellationCode' ] # Only those 3 I added up to delay, others \n",
    "                                                       # are delayed as is stated in the task\n",
    "df = df.drop(*col_to_drop)\n",
    "\n",
    "df = df.withColumn(\"ArrDelay\", df[\"ArrDelay\"].cast(IntegerType()))\n",
    "df = df.withColumn(\"DepDelay\", df[\"DepDelay\"].cast(IntegerType()))\n",
    "df = df.na.drop(\"any\")"
   ]
  },
  {
   "cell_type": "code",
   "execution_count": 10,
   "metadata": {},
   "outputs": [],
   "source": [
    "# We need to work with only the flight which were not cancelled, as the flights which are cancelled cannot delay :)\n",
    "df = df.filter(\"Cancelled == 0\")"
   ]
  },
  {
   "cell_type": "code",
   "execution_count": 11,
   "metadata": {},
   "outputs": [
    {
     "name": "stdout",
     "output_type": "stream",
     "text": [
      "+-----+----------+---------+----------+----------+---------+--------------+--------+--------+--------+-------+---------+\n",
      "|Month|DayofMonth|DayOfWeek|CRSDepTime|CRSArrTime|FlightNum|CRSElapsedTime|ArrDelay|DepDelay|Distance|TaxiOut|Cancelled|\n",
      "+-----+----------+---------+----------+----------+---------+--------------+--------+--------+--------+-------+---------+\n",
      "|    1|        12|        1|       630|       915|      462|           105|     -14|      -7|     599|     11|        0|\n",
      "|    1|        13|        2|       630|       915|      462|           105|      -4|      -9|     599|     16|        0|\n",
      "|    1|        14|        3|       630|       915|      462|           105|       5|       3|     599|     15|        0|\n",
      "|    1|        15|        4|       630|       915|      462|           105|     -16|      -3|     599|     10|        0|\n",
      "|    1|        16|        5|       630|       915|      462|           105|       3|       5|     599|     13|        0|\n",
      "+-----+----------+---------+----------+----------+---------+--------------+--------+--------+--------+-------+---------+\n",
      "only showing top 5 rows\n",
      "\n"
     ]
    }
   ],
   "source": [
    "df.select([x[0] for x in df.dtypes if 'int' in x]).show(5) # Categorical"
   ]
  },
  {
   "cell_type": "code",
   "execution_count": 12,
   "metadata": {},
   "outputs": [
    {
     "name": "stdout",
     "output_type": "stream",
     "text": [
      "+-----+----------+---------+----------+----------+---------+--------------+--------+--------+--------+-------+---------+\n",
      "|Month|DayofMonth|DayOfWeek|CRSDepTime|CRSArrTime|FlightNum|CRSElapsedTime|ArrDelay|DepDelay|Distance|TaxiOut|Cancelled|\n",
      "+-----+----------+---------+----------+----------+---------+--------------+--------+--------+--------+-------+---------+\n",
      "|    1|        12|        1|       630|       915|      462|           105|     -14|      -7|     599|     11|        0|\n",
      "|    1|        13|        2|       630|       915|      462|           105|      -4|      -9|     599|     16|        0|\n",
      "|    1|        14|        3|       630|       915|      462|           105|       5|       3|     599|     15|        0|\n",
      "|    1|        15|        4|       630|       915|      462|           105|     -16|      -3|     599|     10|        0|\n",
      "|    1|        16|        5|       630|       915|      462|           105|       3|       5|     599|     13|        0|\n",
      "+-----+----------+---------+----------+----------+---------+--------------+--------+--------+--------+-------+---------+\n",
      "only showing top 5 rows\n",
      "\n"
     ]
    }
   ],
   "source": [
    "df.select([x[0] for x in df.dtypes if 'int' in x]).show(5) #Continuous"
   ]
  },
  {
   "cell_type": "code",
   "execution_count": 13,
   "metadata": {},
   "outputs": [],
   "source": [
    "# Categorical data: Month, DayofMonth, DayOfWeek, FlightNum, UniqueCarrier, Origin, Dest"
   ]
  },
  {
   "cell_type": "code",
   "execution_count": 14,
   "metadata": {},
   "outputs": [],
   "source": [
    "from pyspark.ml.feature import StringIndexer, OneHotEncoder\n",
    "from pyspark.ml.feature import VectorAssembler\n",
    "\n",
    "varIdxer = StringIndexer(inputCols=['UniqueCarrier', 'Origin', 'Dest'],outputCols=['IndUniCar', 'IndOrig', 'IndDest']).fit(df)\n",
    "df = varIdxer.transform(df)"
   ]
  },
  {
   "cell_type": "code",
   "execution_count": 15,
   "metadata": {},
   "outputs": [
    {
     "name": "stdout",
     "output_type": "stream",
     "text": [
      "+-------+-------------+------+----+---------+-------+-------+\n",
      "|DepTime|UniqueCarrier|Origin|Dest|IndUniCar|IndOrig|IndDest|\n",
      "+-------+-------------+------+----+---------+-------+-------+\n",
      "|    623|           UA|   ORD| CLT|      3.0|    1.0|   20.0|\n",
      "|    621|           UA|   ORD| CLT|      3.0|    1.0|   20.0|\n",
      "|    633|           UA|   ORD| CLT|      3.0|    1.0|   20.0|\n",
      "|    627|           UA|   ORD| CLT|      3.0|    1.0|   20.0|\n",
      "|    635|           UA|   ORD| CLT|      3.0|    1.0|   20.0|\n",
      "+-------+-------------+------+----+---------+-------+-------+\n",
      "only showing top 5 rows\n",
      "\n"
     ]
    }
   ],
   "source": [
    "df.select([x[0] for x in df.dtypes if 'int' not in x]).show(5) # SOME OF Categorical"
   ]
  },
  {
   "cell_type": "code",
   "execution_count": 16,
   "metadata": {},
   "outputs": [],
   "source": [
    "oneHot = OneHotEncoder(inputCols=['IndUniCar', 'IndOrig', 'IndDest','Month', 'DayofMonth', 'DayOfWeek', 'FlightNum'], outputCols=['HotUniCar', 'HotOrig', 'HotDest','HotMonth', 'HotDayofMonth', 'HotDayOfWeek', 'HotFlightNum']).fit(df)"
   ]
  },
  {
   "cell_type": "code",
   "execution_count": 17,
   "metadata": {},
   "outputs": [],
   "source": [
    "df2 = oneHot.transform(df)"
   ]
  },
  {
   "cell_type": "code",
   "execution_count": 18,
   "metadata": {},
   "outputs": [
    {
     "name": "stdout",
     "output_type": "stream",
     "text": [
      "+--------------+---------------+----------------+--------------+---------------+-------------+------------------+\n",
      "|     HotUniCar|        HotOrig|         HotDest|      HotMonth|  HotDayofMonth| HotDayOfWeek|      HotFlightNum|\n",
      "+--------------+---------------+----------------+--------------+---------------+-------------+------------------+\n",
      "|(18,[3],[1.0])|(284,[1],[1.0])|(282,[20],[1.0])|(12,[1],[1.0])|(31,[12],[1.0])|(7,[1],[1.0])|(9912,[462],[1.0])|\n",
      "|(18,[3],[1.0])|(284,[1],[1.0])|(282,[20],[1.0])|(12,[1],[1.0])|(31,[13],[1.0])|(7,[2],[1.0])|(9912,[462],[1.0])|\n",
      "|(18,[3],[1.0])|(284,[1],[1.0])|(282,[20],[1.0])|(12,[1],[1.0])|(31,[14],[1.0])|(7,[3],[1.0])|(9912,[462],[1.0])|\n",
      "|(18,[3],[1.0])|(284,[1],[1.0])|(282,[20],[1.0])|(12,[1],[1.0])|(31,[15],[1.0])|(7,[4],[1.0])|(9912,[462],[1.0])|\n",
      "|(18,[3],[1.0])|(284,[1],[1.0])|(282,[20],[1.0])|(12,[1],[1.0])|(31,[16],[1.0])|(7,[5],[1.0])|(9912,[462],[1.0])|\n",
      "+--------------+---------------+----------------+--------------+---------------+-------------+------------------+\n",
      "only showing top 5 rows\n",
      "\n"
     ]
    }
   ],
   "source": [
    "df2.select(['HotUniCar', 'HotOrig', 'HotDest','HotMonth', 'HotDayofMonth', 'HotDayOfWeek', 'HotFlightNum']).show(5)"
   ]
  },
  {
   "cell_type": "code",
   "execution_count": 19,
   "metadata": {},
   "outputs": [],
   "source": [
    "df2 = df2.drop(*['IndUniCar', 'IndOrig', 'IndDest','Month', 'DayofMonth', 'DayOfWeek', 'FlightNum', 'UniqueCarrier', 'Origin', 'Dest'])"
   ]
  },
  {
   "cell_type": "code",
   "execution_count": 20,
   "metadata": {},
   "outputs": [],
   "source": [
    "df3 = df2.drop(*['DepTime', 'CRSDepTime', 'CRSArrTime', 'Cancelled']) # DON't need by now, but maybe we would do something in the future"
   ]
  },
  {
   "cell_type": "code",
   "execution_count": 21,
   "metadata": {},
   "outputs": [
    {
     "name": "stdout",
     "output_type": "stream",
     "text": [
      "+--------------+--------+--------+--------+-------+--------------+---------------+--------------+----------------+------------------+---------------+-------------+\n",
      "|CRSElapsedTime|ArrDelay|DepDelay|Distance|TaxiOut|      HotMonth|        HotOrig|     HotUniCar|         HotDest|      HotFlightNum|  HotDayofMonth| HotDayOfWeek|\n",
      "+--------------+--------+--------+--------+-------+--------------+---------------+--------------+----------------+------------------+---------------+-------------+\n",
      "|           105|     -14|      -7|     599|     11|(12,[1],[1.0])|(284,[1],[1.0])|(18,[3],[1.0])|(282,[20],[1.0])|(9912,[462],[1.0])|(31,[12],[1.0])|(7,[1],[1.0])|\n",
      "+--------------+--------+--------+--------+-------+--------------+---------------+--------------+----------------+------------------+---------------+-------------+\n",
      "only showing top 1 row\n",
      "\n"
     ]
    }
   ],
   "source": [
    "df3.show(1)"
   ]
  },
  {
   "cell_type": "code",
   "execution_count": 22,
   "metadata": {},
   "outputs": [],
   "source": [
    "df4 = df3.drop(\"ArrDelay\")"
   ]
  },
  {
   "cell_type": "code",
   "execution_count": 19,
   "metadata": {},
   "outputs": [],
   "source": [
    "assembler = VectorAssembler(inputCols=df4.columns, outputCol=\"features\")\n",
    "output = assembler.transform(df3).select('features','ArrDelay')"
   ]
  },
  {
   "cell_type": "code",
   "execution_count": 20,
   "metadata": {},
   "outputs": [
    {
     "name": "stdout",
     "output_type": "stream",
     "text": [
      "+--------------------+--------+\n",
      "|            features|ArrDelay|\n",
      "+--------------------+--------+\n",
      "|(10550,[0,1,2,3,5...|     -14|\n",
      "+--------------------+--------+\n",
      "only showing top 1 row\n",
      "\n"
     ]
    }
   ],
   "source": [
    "output.show(1)"
   ]
  },
  {
   "cell_type": "code",
   "execution_count": 21,
   "metadata": {},
   "outputs": [],
   "source": [
    "train,test = output.randomSplit([0.75, 0.25])"
   ]
  },
  {
   "cell_type": "code",
   "execution_count": 244,
   "metadata": {},
   "outputs": [
    {
     "name": "stdout",
     "output_type": "stream",
     "text": [
      "+--------------------+--------+\n",
      "|            features|ArrDelay|\n",
      "+--------------------+--------+\n",
      "|(10550,[0,1,2,3,5...|       2|\n",
      "|(10550,[0,1,2,3,5...|     183|\n",
      "|(10550,[0,1,2,3,5...|     137|\n",
      "|(10550,[0,1,2,3,5...|     137|\n",
      "|(10550,[0,1,2,3,5...|      27|\n",
      "+--------------------+--------+\n",
      "only showing top 5 rows\n",
      "\n"
     ]
    }
   ],
   "source": [
    "train.show(5)"
   ]
  },
  {
   "cell_type": "code",
   "execution_count": 245,
   "metadata": {},
   "outputs": [],
   "source": [
    "lin_reg = LinearRegression(featuresCol = 'features', labelCol='ArrDelay')\n",
    "linear_model = lin_reg.fit(train)"
   ]
  },
  {
   "cell_type": "code",
   "execution_count": 255,
   "metadata": {},
   "outputs": [],
   "source": [
    "#print(\"Coefficients: \" + str(linear_model.coefficients))\n",
    "#print(\"\\nIntercept: \" + str(linear_model.intercept))"
   ]
  },
  {
   "cell_type": "code",
   "execution_count": 248,
   "metadata": {},
   "outputs": [
    {
     "name": "stdout",
     "output_type": "stream",
     "text": [
      "RMSE: 11.675834\n",
      "\n",
      "r2: 0.877188\n"
     ]
    }
   ],
   "source": [
    "trainSummary = linear_model.summary\n",
    "print(\"RMSE: %f\" % trainSummary.rootMeanSquaredError)\n",
    "print(\"\\nr2: %f\" % trainSummary.r2)"
   ]
  },
  {
   "cell_type": "code",
   "execution_count": 253,
   "metadata": {},
   "outputs": [
    {
     "name": "stdout",
     "output_type": "stream",
     "text": [
      "+------------------+--------+------------------+--------------------+\n",
      "|        prediction|ArrDelay|          Accuracy|            features|\n",
      "+------------------+--------+------------------+--------------------+\n",
      "|3.2271949369443877|      90| 96.41422784783957|(10550,[0,1,2,3,5...|\n",
      "|-4.611955333088233|      -1|361.19553330882326|(10550,[0,1,2,3,5...|\n",
      "| 39.03444977884545|      57|31.518509159920267|(10550,[0,1,2,3,5...|\n",
      "|26.618280707367184|      25|6.4731228294687355|(10550,[0,1,2,3,5...|\n",
      "| 82.58275258324767|     150|44.944831611168226|(10550,[0,1,2,3,5...|\n",
      "| 7.527100707817499|      12| 37.27416076818751|(10550,[0,1,2,3,5...|\n",
      "| 6.155790248300671|      19| 67.60110395631224|(10550,[0,1,2,3,5...|\n",
      "| 4.431111756497154|       0|              null|(10550,[0,1,2,3,5...|\n",
      "|-6.032202484712428|      -2| 201.6101242356214|(10550,[0,1,2,3,5...|\n",
      "| -6.07485132962319|       6| 201.2475221603865|(10550,[0,1,2,3,5...|\n",
      "+------------------+--------+------------------+--------------------+\n",
      "only showing top 10 rows\n",
      "\n"
     ]
    }
   ],
   "source": [
    "predictions = linear_model.transform(test)\n",
    "x =((predictions['ArrDelay']-predictions['prediction'])/predictions['ArrDelay'])*100\n",
    "predictions = predictions.withColumn('Accuracy',abs(x))\n",
    "predictions.select(\"prediction\",\"ArrDelay\",\"Accuracy\",\"features\").show(10)"
   ]
  },
  {
   "cell_type": "code",
   "execution_count": 254,
   "metadata": {},
   "outputs": [
    {
     "name": "stdout",
     "output_type": "stream",
     "text": [
      "R Squared (R2) on test data = 0.871809\n"
     ]
    }
   ],
   "source": [
    "pred_evaluator = RegressionEvaluator(predictionCol=\"prediction\", \\\n",
    "                 labelCol=\"ArrDelay\",metricName=\"r2\")\n",
    "print(\"R Squared (R2) on test data = %g\" % pred_evaluator.evaluate(predictions))"
   ]
  },
  {
   "cell_type": "code",
   "execution_count": 28,
   "metadata": {},
   "outputs": [],
   "source": [
    "from pyspark.ml.regression import FMRegressor\n",
    "from pyspark.ml.feature import MinMaxScaler"
   ]
  },
  {
   "cell_type": "code",
   "execution_count": 29,
   "metadata": {},
   "outputs": [],
   "source": [
    "# manually_selected=[\"CRSElapsedTime\", \"DepDelay\", \"Distance\", \"TaxiOut\", \"HotOrig\",  \"HotDest\", \"HotDayOfWeek\"]\n",
    "manually_selected=[\"DepDelay\", \"TaxiOut\", \"HotOrig\", \"HotDayOfWeek\"]"
   ]
  },
  {
   "cell_type": "code",
   "execution_count": 30,
   "metadata": {},
   "outputs": [],
   "source": [
    "assembler = VectorAssembler(inputCols=manually_selected, outputCol=\"features\")\n",
    "output = assembler.transform(df3).select('features','ArrDelay')"
   ]
  },
  {
   "cell_type": "code",
   "execution_count": 31,
   "metadata": {},
   "outputs": [],
   "source": [
    "train,test = output.randomSplit([0.75, 0.25])"
   ]
  },
  {
   "cell_type": "code",
   "execution_count": 32,
   "metadata": {},
   "outputs": [],
   "source": [
    "featureScaler = MinMaxScaler(inputCol=\"features\", outputCol=\"scaledFeatures\").fit(output)"
   ]
  },
  {
   "cell_type": "code",
   "execution_count": 33,
   "metadata": {},
   "outputs": [],
   "source": [
    "# Train a FM model.\n",
    "fm = FMRegressor(featuresCol=\"scaledFeatures\", stepSize=0.001, labelCol='ArrDelay')\n",
    "\n",
    "# Create a Pipeline.\n",
    "pipeline = Pipeline(stages=[featureScaler, fm])"
   ]
  },
  {
   "cell_type": "code",
   "execution_count": null,
   "metadata": {},
   "outputs": [],
   "source": [
    "# Train model.\n",
    "model = pipeline.fit(train)"
   ]
  },
  {
   "cell_type": "code",
   "execution_count": null,
   "metadata": {},
   "outputs": [],
   "source": [
    "# Make predictions.\n",
    "predictions = model.transform(test)\n",
    "\n",
    "# Select example rows to display.\n",
    "predictions.select(\"prediction\", 'ArrDelay', \"features\").show(5)"
   ]
  },
  {
   "cell_type": "code",
   "execution_count": null,
   "metadata": {},
   "outputs": [],
   "source": [
    "# Select (prediction, true label) and compute test error\n",
    "evaluator = RegressionEvaluator(\n",
    "    labelCol='ArrDelay', predictionCol=\"prediction\", metricName=\"rmse\")\n",
    "rmse = evaluator.evaluate(predictions)\n",
    "print(\"Root Mean Squared Error (RMSE) on test data = %g\" % rmse)\n",
    "\n",
    "pred_evaluator = RegressionEvaluator(predictionCol=\"prediction\", \\\n",
    "                 labelCol=\"ArrDelay\",metricName=\"r2\")\n",
    "print(\"R Squared (R2) on test data = %g\" % pred_evaluator.evaluate(predictions))\n",
    "\n",
    "fmModel = model.stages[1]\n",
    "print(\"Factors: \" + str(fmModel.factors))\n",
    "print(\"Linear: \" + str(fmModel.linear))\n",
    "print(\"Intercept: \" + str(fmModel.intercept))"
   ]
  },
  {
   "cell_type": "markdown",
   "metadata": {},
   "source": [
    "## HERE DRAFT: Under developmentMESS looking to deal with time: Morning, Afternoon, Evening, Night "
   ]
  },
  {
   "cell_type": "code",
   "execution_count": 38,
   "metadata": {},
   "outputs": [
    {
     "name": "stdout",
     "output_type": "stream",
     "text": [
      "+----------+-------+--------------+\n",
      "|CRSDepTime|DepTime|CRSElapsedTime|\n",
      "+----------+-------+--------------+\n",
      "|       630|    623|           105|\n",
      "|       630|    621|           105|\n",
      "|       630|    633|           105|\n",
      "|       630|    627|           105|\n",
      "|       630|    635|           105|\n",
      "+----------+-------+--------------+\n",
      "only showing top 5 rows\n",
      "\n"
     ]
    }
   ],
   "source": [
    "df.select([\"CRSDepTime\", \"DepTime\", \"CRSElapsedTime\", ]).show(5) #\"CRSArrTime\" - local arrival time doesn't show us a thing"
   ]
  },
  {
   "cell_type": "code",
   "execution_count": 39,
   "metadata": {},
   "outputs": [],
   "source": [
    "from pyspark.sql.functions import unix_timestamp, from_unixtime"
   ]
  },
  {
   "cell_type": "code",
   "execution_count": 40,
   "metadata": {},
   "outputs": [
    {
     "name": "stdout",
     "output_type": "stream",
     "text": [
      "+----------+\n",
      "|CRSDepTime|\n",
      "+----------+\n",
      "|       630|\n",
      "+----------+\n",
      "only showing top 1 row\n",
      "\n"
     ]
    }
   ],
   "source": [
    "df.select(\"CRSDepTime\").show(1)"
   ]
  },
  {
   "cell_type": "code",
   "execution_count": 42,
   "metadata": {},
   "outputs": [],
   "source": [
    "from pyspark.sql.functions import format_string"
   ]
  },
  {
   "cell_type": "code",
   "execution_count": 46,
   "metadata": {},
   "outputs": [
    {
     "data": {
      "text/plain": [
       "DataFrame[format_string(%04s, CRSDepTime): string]"
      ]
     },
     "execution_count": 46,
     "metadata": {},
     "output_type": "execute_result"
    }
   ],
   "source": [
    "df.select(format_string('%04s', df.CRSDepTime))"
   ]
  },
  {
   "cell_type": "code",
   "execution_count": 27,
   "metadata": {},
   "outputs": [
    {
     "data": {
      "text/plain": [
       "DataFrame[Month: int, DayofMonth: int, DayOfWeek: int, DepTime: string, CRSDepTime: string, CRSArrTime: int, UniqueCarrier: string, FlightNum: int, CRSElapsedTime: int, ArrDelay: int, DepDelay: int, Origin: string, Dest: string, Distance: int, TaxiOut: int, Cancelled: int, IndUniCar: double, IndOrig: double, IndDest: double]"
      ]
     },
     "execution_count": 27,
     "metadata": {},
     "output_type": "execute_result"
    }
   ],
   "source": [
    "df.withColumn(\"CRSDepTime\", f.format_string(\"%04d\", \"CRSDepTime\"))"
   ]
  },
  {
   "cell_type": "code",
   "execution_count": 104,
   "metadata": {},
   "outputs": [],
   "source": [
    "df2 = df.withColumn('CRSDepTime',from_unixtime(unix_timestamp(col(('CRSDepTime')), \"hmm\"), \"HH:mm'Z'\"))"
   ]
  },
  {
   "cell_type": "code",
   "execution_count": 105,
   "metadata": {},
   "outputs": [],
   "source": [
    "#df2 = df.withColumn('CRSDepTime', to_timestamp('CRSDepTime', \"h:mm\"))"
   ]
  },
  {
   "cell_type": "code",
   "execution_count": 86,
   "metadata": {},
   "outputs": [
    {
     "data": {
      "text/plain": [
       "[Row(CRSDepTime='630')]"
      ]
     },
     "execution_count": 86,
     "metadata": {},
     "output_type": "execute_result"
    }
   ],
   "source": [
    "df.select('CRSDepTime').take(1)"
   ]
  },
  {
   "cell_type": "code",
   "execution_count": 54,
   "metadata": {},
   "outputs": [
    {
     "name": "stdout",
     "output_type": "stream",
     "text": [
      "+-----+----------+---------+----------+----------+---------+--------------+--------+--------+--------+-------+---------+\n",
      "|Month|DayofMonth|DayOfWeek|CRSDepTime|CRSArrTime|FlightNum|CRSElapsedTime|ArrDelay|DepDelay|Distance|TaxiOut|Cancelled|\n",
      "+-----+----------+---------+----------+----------+---------+--------------+--------+--------+--------+-------+---------+\n",
      "|    1|        12|        1|       630|       915|      462|           105|     -14|      -7|     599|     11|        0|\n",
      "|    1|        13|        2|       630|       915|      462|           105|      -4|      -9|     599|     16|        0|\n",
      "|    1|        14|        3|       630|       915|      462|           105|       5|       3|     599|     15|        0|\n",
      "|    1|        15|        4|       630|       915|      462|           105|     -16|      -3|     599|     10|        0|\n",
      "|    1|        16|        5|       630|       915|      462|           105|       3|       5|     599|     13|        0|\n",
      "+-----+----------+---------+----------+----------+---------+--------------+--------+--------+--------+-------+---------+\n",
      "only showing top 5 rows\n",
      "\n"
     ]
    }
   ],
   "source": [
    "df.select([x[0] for x in df.dtypes if 'int' in x]).show(5) #Continuous"
   ]
  },
  {
   "cell_type": "code",
   "execution_count": 153,
   "metadata": {},
   "outputs": [],
   "source": [
    "from pyspark.sql.functions import concat, col, lit"
   ]
  },
  {
   "cell_type": "code",
   "execution_count": 171,
   "metadata": {},
   "outputs": [],
   "source": [
    "from pyspark.sql import functions as f\n",
    "#df2 = df.withColumn('CRSDepTime', format_string('%04s', df.CRSDepTime))"
   ]
  },
  {
   "cell_type": "code",
   "execution_count": 172,
   "metadata": {},
   "outputs": [],
   "source": [
    "df2 = df.withColumn('CRSDepTime', format_string(\"%04d\", col('CRSDepTime').cast('int')))"
   ]
  },
  {
   "cell_type": "code",
   "execution_count": 174,
   "metadata": {},
   "outputs": [
    {
     "name": "stdout",
     "output_type": "stream",
     "text": [
      "+----------+\n",
      "|CRSDepTime|\n",
      "+----------+\n",
      "|      0630|\n",
      "|      0630|\n",
      "|      0630|\n",
      "|      0630|\n",
      "|      0630|\n",
      "+----------+\n",
      "only showing top 5 rows\n",
      "\n"
     ]
    }
   ],
   "source": [
    "df2.select(\"CRSDepTime\").show(5)"
   ]
  },
  {
   "cell_type": "code",
   "execution_count": 190,
   "metadata": {},
   "outputs": [],
   "source": [
    "df = df.withColumn(\"CRSDepTime\", df[\"CRSDepTime\"].cast(IntegerType()))"
   ]
  },
  {
   "cell_type": "code",
   "execution_count": null,
   "metadata": {},
   "outputs": [],
   "source": [
    "df2 = df.withColumn(\"DayPeriod\", when(col(\"CRSDepTime\") >= 500 & col(\"CRSDepTime\") <= 1200, \"Morning\"))\n",
    "                    \n",
    "                    #.when(col(\"CRSDepTime\") >= 1200,\"Afternoon\").when(col(\"CRSDepTime\") >= 1800,\"Evening\").when(col(\"CRSDepTime\") >= 1200,\"Afternoon\").when(col(\"CRSDepTime\") >= 2200,\"Night\")\n",
    "                          #       .otherwise(\"Night\"))"
   ]
  },
  {
   "cell_type": "code",
   "execution_count": null,
   "metadata": {},
   "outputs": [],
   "source": [
    "df2.filter(col('CRSDepTime') >=1800).select(\"DayPeriod\").show(100)"
   ]
  },
  {
   "cell_type": "code",
   "execution_count": 202,
   "metadata": {},
   "outputs": [
    {
     "name": "stdout",
     "output_type": "stream",
     "text": [
      "+-------+----------+\n",
      "|DepTime|CRSArrTime|\n",
      "+-------+----------+\n",
      "|    623|       915|\n",
      "|    621|       915|\n",
      "|    633|       915|\n",
      "|    627|       915|\n",
      "|    635|       915|\n",
      "|    628|       915|\n",
      "|    650|       915|\n",
      "|    627|       915|\n",
      "|    623|       915|\n",
      "|    626|       915|\n",
      "+-------+----------+\n",
      "only showing top 10 rows\n",
      "\n"
     ]
    }
   ],
   "source": [
    "df.select([\"DepTime\", \"CRSArrTime\", ]).show(10)"
   ]
  },
  {
   "cell_type": "code",
   "execution_count": 34,
   "metadata": {},
   "outputs": [
    {
     "name": "stdout",
     "output_type": "stream",
     "text": [
      "+-----+----------+---------+-------+----------+----------+-------------+---------+--------------+--------+--------+------+----+--------+-------+---------+---------+-------+-------+\n",
      "|Month|DayofMonth|DayOfWeek|DepTime|CRSDepTime|CRSArrTime|UniqueCarrier|FlightNum|CRSElapsedTime|ArrDelay|DepDelay|Origin|Dest|Distance|TaxiOut|Cancelled|IndUniCar|IndOrig|IndDest|\n",
      "+-----+----------+---------+-------+----------+----------+-------------+---------+--------------+--------+--------+------+----+--------+-------+---------+---------+-------+-------+\n",
      "|    1|        12|        1|    623|       630|       915|           UA|      462|           105|     -14|      -7|   ORD| CLT|     599|     11|        0|      3.0|    1.0|   20.0|\n",
      "|    1|        13|        2|    621|       630|       915|           UA|      462|           105|      -4|      -9|   ORD| CLT|     599|     16|        0|      3.0|    1.0|   20.0|\n",
      "|    1|        14|        3|    633|       630|       915|           UA|      462|           105|       5|       3|   ORD| CLT|     599|     15|        0|      3.0|    1.0|   20.0|\n",
      "|    1|        15|        4|    627|       630|       915|           UA|      462|           105|     -16|      -3|   ORD| CLT|     599|     10|        0|      3.0|    1.0|   20.0|\n",
      "|    1|        16|        5|    635|       630|       915|           UA|      462|           105|       3|       5|   ORD| CLT|     599|     13|        0|      3.0|    1.0|   20.0|\n",
      "+-----+----------+---------+-------+----------+----------+-------------+---------+--------------+--------+--------+------+----+--------+-------+---------+---------+-------+-------+\n",
      "only showing top 5 rows\n",
      "\n"
     ]
    }
   ],
   "source": [
    "df.filter('DepTime > 500 and DepTime <1200').show(5)"
   ]
  },
  {
   "cell_type": "code",
   "execution_count": null,
   "metadata": {},
   "outputs": [],
   "source": [
    "sc.stop()"
   ]
  },
  {
   "cell_type": "code",
   "execution_count": null,
   "metadata": {},
   "outputs": [],
   "source": []
  }
 ],
 "metadata": {
  "kernelspec": {
   "display_name": "Python 3",
   "language": "python",
   "name": "python3"
  },
  "language_info": {
   "codemirror_mode": {
    "name": "ipython",
    "version": 3
   },
   "file_extension": ".py",
   "mimetype": "text/x-python",
   "name": "python",
   "nbconvert_exporter": "python",
   "pygments_lexer": "ipython3",
   "version": "3.8.6"
  }
 },
 "nbformat": 4,
 "nbformat_minor": 4
}
