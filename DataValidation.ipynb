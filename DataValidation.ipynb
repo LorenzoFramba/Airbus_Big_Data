{
 "cells": [
  {
   "cell_type": "code",
   "execution_count": 1,
   "metadata": {},
   "outputs": [],
   "source": [
    "import random\n",
    "\n",
    "import findspark\n",
    "findspark.init()\n",
    "import pyspark\n",
    "\n",
    "from pyspark.ml.feature import VectorAssembler, StringIndexer, OneHotEncoder, Bucketizer\n",
    "from pyspark.ml.regression import LinearRegression\n",
    "from pyspark.ml import Pipeline\n",
    "from pyspark.ml.evaluation import RegressionEvaluator\n",
    "from pyspark import SparkContext\n",
    "from pyspark.sql import SQLContext\n",
    "from pyspark.sql.session import SparkSession\n",
    "from pyspark.sql.types import *\n",
    "from pyspark.sql.functions import isnan, when, count, col, abs\n",
    "from pyspark.sql import functions as sf "
   ]
  },
  {
   "cell_type": "code",
   "execution_count": 2,
   "metadata": {},
   "outputs": [],
   "source": [
    "filename = \"2004.csv\""
   ]
  },
  {
   "cell_type": "code",
   "execution_count": 3,
   "metadata": {},
   "outputs": [],
   "source": [
    "def _init_spark():\n",
    "    spark = SparkSession.builder.appName(\"Project\").getOrCreate()\n",
    "    sc = spark.sparkContext\n",
    "    return spark, sc\n",
    "\n",
    "spark, sc = _init_spark()\n",
    "sqlContext = SQLContext(sc)\n",
    "\n",
    "df = sqlContext.read.load(filename, \n",
    "                      format='com.databricks.spark.csv', \n",
    "                      header='true',\n",
    "                      delimiter=',',\n",
    "                      inferSchema='true')\n",
    "df.cache()\n",
    "\n",
    "col_to_drop = ['ArrTime', 'ActualElapsedTime', 'AirTime', 'TaxiIn', 'Diverted',\n",
    "               'CarrierDelay', 'WeatherDelay', 'NASDelay', 'SecurityDelay', 'LateAircraftDelay', \n",
    "               'Year', 'TailNum', 'CancellationCode' ] # Only those 3 I added up to delay, others \n",
    "                                                       # are delayed as is stated in the task\n",
    "df = df.drop(*col_to_drop)\n",
    "df = df.withColumn(\"ArrDelay\", df[\"ArrDelay\"].cast(IntegerType()))\n",
    "df = df.withColumn(\"DepDelay\", df[\"DepDelay\"].cast(IntegerType()))\n",
    "df = df.withColumn(\"CRSDepTime\", df[\"CRSDepTime\"].cast(IntegerType()))\n",
    "df = df.withColumn(\"CRSArrTime\", df[\"CRSArrTime\"].cast(IntegerType()))\n",
    "df = df.withColumn(\"DepTime\", df[\"DepTime\"].cast(IntegerType()))\n",
    "\n",
    "df = df.filter(\"Cancelled == 0\") #select only those flights that happened\n",
    "df = df.drop(\"Cancelled\")\n",
    "df = df.drop(*[\"UniqueCarrier\", \"DayofMonth\", \"FlightNum\"]) #Droping unimportant categorical variables\n",
    "\n",
    "df = df.na.drop(\"any\") # Drop columns with null values +- 99% of dataset remains "
   ]
  },
  {
   "cell_type": "code",
   "execution_count": 4,
   "metadata": {},
   "outputs": [
    {
     "name": "stdout",
     "output_type": "stream",
     "text": [
      "+-----+---------+-------+----------+----------+--------------+--------+--------+------+----+--------+-------+\n",
      "|Month|DayOfWeek|DepTime|CRSDepTime|CRSArrTime|CRSElapsedTime|ArrDelay|DepDelay|Origin|Dest|Distance|TaxiOut|\n",
      "+-----+---------+-------+----------+----------+--------------+--------+--------+------+----+--------+-------+\n",
      "|    1|        1|    623|       630|       915|           105|     -14|      -7|   ORD| CLT|     599|     11|\n",
      "|    1|        2|    621|       630|       915|           105|      -4|      -9|   ORD| CLT|     599|     16|\n",
      "|    1|        3|    633|       630|       915|           105|       5|       3|   ORD| CLT|     599|     15|\n",
      "|    1|        4|    627|       630|       915|           105|     -16|      -3|   ORD| CLT|     599|     10|\n",
      "|    1|        5|    635|       630|       915|           105|       3|       5|   ORD| CLT|     599|     13|\n",
      "+-----+---------+-------+----------+----------+--------------+--------+--------+------+----+--------+-------+\n",
      "only showing top 5 rows\n",
      "\n"
     ]
    }
   ],
   "source": [
    "df.show(5) "
   ]
  },
  {
   "cell_type": "code",
   "execution_count": 5,
   "metadata": {},
   "outputs": [],
   "source": [
    "# Introducing interaction between the categorical variables: Origin and Dest"
   ]
  },
  {
   "cell_type": "code",
   "execution_count": 6,
   "metadata": {},
   "outputs": [],
   "source": [
    "df = df.withColumn('OrigDest', \n",
    "                    sf.concat(sf.col('Origin'),sf.lit('_'), sf.col('Dest')))\n",
    "df = df.drop(*[\"Origin\", \"Dest\"])"
   ]
  },
  {
   "cell_type": "code",
   "execution_count": 7,
   "metadata": {},
   "outputs": [
    {
     "name": "stdout",
     "output_type": "stream",
     "text": [
      "+-----+---------+-------+----------+----------+--------------+--------+--------+--------+-------+--------+\n",
      "|Month|DayOfWeek|DepTime|CRSDepTime|CRSArrTime|CRSElapsedTime|ArrDelay|DepDelay|Distance|TaxiOut|OrigDest|\n",
      "+-----+---------+-------+----------+----------+--------------+--------+--------+--------+-------+--------+\n",
      "|    1|        1|    623|       630|       915|           105|     -14|      -7|     599|     11| ORD_CLT|\n",
      "+-----+---------+-------+----------+----------+--------------+--------+--------+--------+-------+--------+\n",
      "only showing top 1 row\n",
      "\n"
     ]
    }
   ],
   "source": [
    "df.show(1)"
   ]
  },
  {
   "cell_type": "code",
   "execution_count": 8,
   "metadata": {},
   "outputs": [],
   "source": [
    "# Converting continuous to categorical:, \"DepTime\" \"CRSDepTime\", \"CRSArrTime\" which are times. \n",
    "# We want to seperate them to types of the day (morning, aftenoon, evening, night): https://www.learnersdictionary.com/qa/parts-of-the-day-early-morning-late-morning-etc"
   ]
  },
  {
   "cell_type": "code",
   "execution_count": 9,
   "metadata": {},
   "outputs": [],
   "source": [
    "splits = [-float(\"inf\"), 500, 1200, 1700, float(\"inf\")]\n",
    "bucketizer = Bucketizer(splitsArray= [splits, splits, splits], inputCols=[\"CRSDepTime\", \"CRSArrTime\", \"DepTime\"], outputCols=[\"CatCRSDepTime\", \"CatCRSArrTime\", \"CatDepTime\"])\n",
    "df = bucketizer.transform(df)\n",
    "\n",
    "df = df.drop(*[\"CRSDepTime\", \"CRSArrTime\"])"
   ]
  },
  {
   "cell_type": "code",
   "execution_count": 10,
   "metadata": {},
   "outputs": [],
   "source": [
    "varIdxer = StringIndexer(inputCol=\"OrigDest\",outputCol=\"IndOrigDest\").fit(df)\n",
    "df = varIdxer.transform(df)\n",
    "df = df.drop(\"OrigDest\")"
   ]
  },
  {
   "cell_type": "code",
   "execution_count": 11,
   "metadata": {},
   "outputs": [
    {
     "name": "stdout",
     "output_type": "stream",
     "text": [
      "+-----+---------+-------+--------------+--------+--------+--------+-------+-------------+-------------+----------+-----------+\n",
      "|Month|DayOfWeek|DepTime|CRSElapsedTime|ArrDelay|DepDelay|Distance|TaxiOut|CatCRSDepTime|CatCRSArrTime|CatDepTime|IndOrigDest|\n",
      "+-----+---------+-------+--------------+--------+--------+--------+-------+-------------+-------------+----------+-----------+\n",
      "|    1|        1|    623|           105|     -14|      -7|     599|     11|          1.0|          1.0|       1.0|      178.0|\n",
      "|    1|        2|    621|           105|      -4|      -9|     599|     16|          1.0|          1.0|       1.0|      178.0|\n",
      "|    1|        3|    633|           105|       5|       3|     599|     15|          1.0|          1.0|       1.0|      178.0|\n",
      "|    1|        4|    627|           105|     -16|      -3|     599|     10|          1.0|          1.0|       1.0|      178.0|\n",
      "|    1|        5|    635|           105|       3|       5|     599|     13|          1.0|          1.0|       1.0|      178.0|\n",
      "+-----+---------+-------+--------------+--------+--------+--------+-------+-------------+-------------+----------+-----------+\n",
      "only showing top 5 rows\n",
      "\n"
     ]
    }
   ],
   "source": [
    "df.show(5)"
   ]
  },
  {
   "cell_type": "code",
   "execution_count": 12,
   "metadata": {},
   "outputs": [],
   "source": [
    "# One Hot encoding the categorical data:"
   ]
  },
  {
   "cell_type": "code",
   "execution_count": 13,
   "metadata": {},
   "outputs": [],
   "source": [
    "oneHot = OneHotEncoder(inputCols=['Month', 'DayOfWeek', 'CatCRSDepTime', 'CatCRSArrTime', 'IndOrigDest', 'CatDepTime'],\n",
    "                       outputCols=['HotMonth', 'HotDayOfWeek', 'HotCRSCatDepTime', 'HotCRSCatArrTime', 'HotIndOrigDest', 'HotDepTime']).fit(df)\n",
    "df = oneHot.transform(df)\n",
    "df = df.drop(*['Month', 'DayOfWeek', 'CatDepTime', 'CatCRSDepTime', 'CatCRSArrTime', 'IndOrigDest'])"
   ]
  },
  {
   "cell_type": "code",
   "execution_count": 14,
   "metadata": {},
   "outputs": [
    {
     "name": "stdout",
     "output_type": "stream",
     "text": [
      "+-------+--------------+--------+--------+--------+-------+------------------+--------------+----------------+----------------+-------------+-------------+\n",
      "|DepTime|CRSElapsedTime|ArrDelay|DepDelay|Distance|TaxiOut|    HotIndOrigDest|      HotMonth|HotCRSCatDepTime|HotCRSCatArrTime| HotDayOfWeek|   HotDepTime|\n",
      "+-------+--------------+--------+--------+--------+-------+------------------+--------------+----------------+----------------+-------------+-------------+\n",
      "|    623|           105|     -14|      -7|     599|     11|(4408,[178],[1.0])|(12,[1],[1.0])|   (3,[1],[1.0])|   (3,[1],[1.0])|(7,[1],[1.0])|(3,[1],[1.0])|\n",
      "|    621|           105|      -4|      -9|     599|     16|(4408,[178],[1.0])|(12,[1],[1.0])|   (3,[1],[1.0])|   (3,[1],[1.0])|(7,[2],[1.0])|(3,[1],[1.0])|\n",
      "|    633|           105|       5|       3|     599|     15|(4408,[178],[1.0])|(12,[1],[1.0])|   (3,[1],[1.0])|   (3,[1],[1.0])|(7,[3],[1.0])|(3,[1],[1.0])|\n",
      "|    627|           105|     -16|      -3|     599|     10|(4408,[178],[1.0])|(12,[1],[1.0])|   (3,[1],[1.0])|   (3,[1],[1.0])|(7,[4],[1.0])|(3,[1],[1.0])|\n",
      "|    635|           105|       3|       5|     599|     13|(4408,[178],[1.0])|(12,[1],[1.0])|   (3,[1],[1.0])|   (3,[1],[1.0])|(7,[5],[1.0])|(3,[1],[1.0])|\n",
      "+-------+--------------+--------+--------+--------+-------+------------------+--------------+----------------+----------------+-------------+-------------+\n",
      "only showing top 5 rows\n",
      "\n"
     ]
    }
   ],
   "source": [
    "df.show(5)"
   ]
  },
  {
   "cell_type": "code",
   "execution_count": 15,
   "metadata": {},
   "outputs": [],
   "source": [
    "df = df.withColumn(\"Speed\", sf.round(col(\"Distance\") / col(\"CRSElapsedTime\"), 2))\n",
    "df = df.drop(*[\"Distance\", \"CRSElapsedTime\"])"
   ]
  },
  {
   "cell_type": "code",
   "execution_count": 16,
   "metadata": {},
   "outputs": [
    {
     "name": "stdout",
     "output_type": "stream",
     "text": [
      "+-------+--------+--------+-------+------------------+--------------+----------------+----------------+-------------+-------------+-----+\n",
      "|DepTime|ArrDelay|DepDelay|TaxiOut|    HotIndOrigDest|      HotMonth|HotCRSCatDepTime|HotCRSCatArrTime| HotDayOfWeek|   HotDepTime|Speed|\n",
      "+-------+--------+--------+-------+------------------+--------------+----------------+----------------+-------------+-------------+-----+\n",
      "|    623|     -14|      -7|     11|(4408,[178],[1.0])|(12,[1],[1.0])|   (3,[1],[1.0])|   (3,[1],[1.0])|(7,[1],[1.0])|(3,[1],[1.0])|  5.7|\n",
      "|    621|      -4|      -9|     16|(4408,[178],[1.0])|(12,[1],[1.0])|   (3,[1],[1.0])|   (3,[1],[1.0])|(7,[2],[1.0])|(3,[1],[1.0])|  5.7|\n",
      "|    633|       5|       3|     15|(4408,[178],[1.0])|(12,[1],[1.0])|   (3,[1],[1.0])|   (3,[1],[1.0])|(7,[3],[1.0])|(3,[1],[1.0])|  5.7|\n",
      "|    627|     -16|      -3|     10|(4408,[178],[1.0])|(12,[1],[1.0])|   (3,[1],[1.0])|   (3,[1],[1.0])|(7,[4],[1.0])|(3,[1],[1.0])|  5.7|\n",
      "|    635|       3|       5|     13|(4408,[178],[1.0])|(12,[1],[1.0])|   (3,[1],[1.0])|   (3,[1],[1.0])|(7,[5],[1.0])|(3,[1],[1.0])|  5.7|\n",
      "+-------+--------+--------+-------+------------------+--------------+----------------+----------------+-------------+-------------+-----+\n",
      "only showing top 5 rows\n",
      "\n"
     ]
    }
   ],
   "source": [
    "df.show(5)"
   ]
  },
  {
   "cell_type": "code",
   "execution_count": 17,
   "metadata": {},
   "outputs": [],
   "source": [
    "# FINAL SELECTION:\n",
    "X1 = ['DepDelay', 'TaxiOut']\n",
    "X2 = ['DepDelay', 'TaxiOut',  'HotDepTime']\n",
    "X3 = ['DepDelay', 'TaxiOut', 'HotIndOrigDest', 'HotDepTime'] \n",
    "X4 = ['DepDelay', 'TaxiOut', 'HotDayOfWeek', 'HotMonth', 'Speed'] \n",
    "X5 = ['DepDelay', 'TaxiOut', 'HotDayOfWeek', 'HotIndOrigDest', 'Speed']\n",
    "X6 = ['DepDelay', 'TaxiOut', 'HotIndOrigDest', 'Speed', 'HotCRSCatDepTime', 'HotCRSCatArrTime', 'HotDepTime']"
   ]
  },
  {
   "cell_type": "code",
   "execution_count": 18,
   "metadata": {},
   "outputs": [],
   "source": [
    "assembler = VectorAssembler(inputCols=X1, outputCol='features')\n",
    "output = assembler.transform(df).select('features','ArrDelay')"
   ]
  },
  {
   "cell_type": "code",
   "execution_count": 19,
   "metadata": {},
   "outputs": [],
   "source": [
    "train, test = output.randomSplit([0.75, 0.25])"
   ]
  },
  {
   "cell_type": "code",
   "execution_count": 20,
   "metadata": {},
   "outputs": [],
   "source": [
    "lin_reg = LinearRegression(featuresCol = 'features', labelCol='ArrDelay')\n",
    "linear_model = lin_reg.fit(train)\n",
    "\n",
    "#trainSummary = linear_model.summary\n",
    "#print(\"RMSE: %f\" % trainSummary.rootMeanSquaredError)\n",
    "#print(\"MSE: %f\" %  trainSummary.meanSquaredError)\n",
    "#print(\"\\nr2: %f\" % trainSummary.r2)"
   ]
  },
  {
   "cell_type": "code",
   "execution_count": 21,
   "metadata": {},
   "outputs": [],
   "source": [
    "predictions = linear_model.transform(test)\n",
    "x =((predictions['ArrDelay']-predictions['prediction'])/predictions['ArrDelay'])*100\n",
    "predictions = predictions.withColumn('Accuracy',abs(x))\n",
    "#predictions.select(\"prediction\",\"ArrDelay\",\"Accuracy\",\"features\").show(10)"
   ]
  },
  {
   "cell_type": "code",
   "execution_count": 22,
   "metadata": {},
   "outputs": [
    {
     "name": "stdout",
     "output_type": "stream",
     "text": [
      "R Squared (R2) on test data = 0.851357\n",
      "Root Mean Squared Error (RMSE) on test data = 12.786\n",
      "Mean Absolute Error (MAE) on test data = 7.82713\n"
     ]
    }
   ],
   "source": [
    "pred_evaluator = RegressionEvaluator(predictionCol=\"prediction\", \\\n",
    "                 labelCol=\"ArrDelay\",metricName=\"r2\")\n",
    "print(\"R Squared (R2) on test data = %g\" % pred_evaluator.evaluate(predictions))\n",
    "\n",
    "evaluator = RegressionEvaluator(\n",
    "    labelCol='ArrDelay', predictionCol=\"prediction\", metricName=\"rmse\")\n",
    "rmse = evaluator.evaluate(predictions)\n",
    "print(\"Root Mean Squared Error (RMSE) on test data = %g\" % rmse)\n",
    "\n",
    "evaluator = RegressionEvaluator(\n",
    "    labelCol='ArrDelay', predictionCol=\"prediction\", metricName=\"mae\")\n",
    "mae = evaluator.evaluate(predictions)\n",
    "print(\"Mean Absolute Error (MAE) on test data = %g\" % mae)"
   ]
  },
  {
   "cell_type": "markdown",
   "metadata": {
    "jupyter": {
     "source_hidden": true
    }
   },
   "source": [
    "X1:\n",
    "R Squared (R2) on test data = 0.826373\n",
    "Root Mean Squared Error (RMSE) on test data = 13.8497\n",
    "Mean Squared Error (RMSE) on test data = 191.815\n",
    "\n",
    "X2:\n",
    "R Squared (R2) on test data = 0.86015\n",
    "Root Mean Squared Error (RMSE) on test data = 12.3931\n",
    "Mean Squared Error (RMSE) on test data = 153.59\n",
    "\n",
    "X2_DepTime\n",
    "R Squared (R2) on test data = 0.86645\n",
    "Root Mean Squared Error (RMSE) on test data = 12.2173\n",
    "Mean Squared Error (RMSE) on test data = 149.264\n",
    "\n",
    "X2_DepTimeCont\n",
    "R Squared (R2) on test data = 0.865903\n",
    "Root Mean Squared Error (RMSE) on test data = 12.217\n",
    "Mean Squared Error (RMSE) on test data = 149.254\n",
    "\n",
    "X3:\n",
    "R Squared (R2) on test data = 0.867128\n",
    "Root Mean Squared Error (RMSE) on test data = 12.1511\n",
    "Mean Squared Error (RMSE) on test data = 147.649\n",
    "\n",
    "X3_HotDepTime\n",
    "R Squared (R2) on test data = 0.869852\n",
    "Root Mean Squared Error (RMSE) on test data = 12.0166\n",
    "Mean Squared Error (RMSE) on test data = 144.399\n",
    "\n",
    "X4:\n",
    "R Squared (R2) on test data = 0.859676\n",
    "Root Mean Squared Error (RMSE) on test data = 12.5005\n",
    "Mean Squared Error (RMSE) on test data = 156.263\n",
    "\n",
    "X4_HotDepTime\n",
    "R Squared (R2) on test data = 0.861924\n",
    "Root Mean Squared Error (RMSE) on test data = 12.4194\n",
    "Mean Squared Error (RMSE) on test data = 154.242\n",
    "\n",
    "X5: \n",
    "R Squared (R2) on test data = 0.863975\n",
    "Root Mean Squared Error (RMSE) on test data = 12.2739\n",
    "Mean Squared Error (RMSE) on test data = 150.648\n",
    "\n",
    "X5_HotDepTime\n",
    "R Squared (R2) on test data = 0.873747\n",
    "Root Mean Squared Error (RMSE) on test data = 11.8387\n",
    "Mean Squared Error (RMSE) on test data = 140.154\n",
    "\n",
    "X6:\n",
    "R Squared (R2) on test data = 0.870854\n",
    "Root Mean Squared Error (RMSE) on test data = 12.0075\n",
    "Mean Squared Error (RMSE) on test data = 144.179\n",
    "\n",
    "X6_NoWeekNoSpeed:\n",
    "R Squared (R2) on test data = 0.869446\n",
    "Root Mean Squared Error (RMSE) on test data = 12.0361\n",
    "Mean Squared Error (RMSE) on test data = 144.868\n",
    "\n",
    "X6_NoSpeed:\n",
    "R Squared (R2) on test data = 0.8693\n",
    "Root Mean Squared Error (RMSE) on test data = 12.0816\n",
    "Mean Squared Error (RMSE) on test data = 145.966\n",
    "\n",
    "X6_NoWeek:\n",
    "R Squared (R2) on test data = 0.873866\n",
    "Root Mean Squared Error (RMSE) on test data = 11.8401\n",
    "Mean Squared Error (RMSE) on test data = 140.188\n",
    "\n",
    "X6_NoWeek_DepTime\n",
    "R Squared (R2) on test data = 0.878756\n",
    "Root Mean Squared Error (RMSE) on test data = 11.6798\n",
    "Mean Squared Error (RMSE) on test data = 136.418\n",
    "\n",
    "X6_NoWeek_DepTimeCont\n",
    "R Squared (R2) on test data = 0.872805\n",
    "Root Mean Squared Error (RMSE) on test data = 11.9287\n",
    "Mean Squared Error (RMSE) on test data = 142.295"
   ]
  },
  {
   "cell_type": "code",
   "execution_count": 23,
   "metadata": {},
   "outputs": [],
   "source": [
    "sc.stop()"
   ]
  }
 ],
 "metadata": {
  "kernelspec": {
   "display_name": "Python 3",
   "language": "python",
   "name": "python3"
  },
  "language_info": {
   "codemirror_mode": {
    "name": "ipython",
    "version": 3
   },
   "file_extension": ".py",
   "mimetype": "text/x-python",
   "name": "python",
   "nbconvert_exporter": "python",
   "pygments_lexer": "ipython3",
   "version": "3.8.6"
  }
 },
 "nbformat": 4,
 "nbformat_minor": 4
}
