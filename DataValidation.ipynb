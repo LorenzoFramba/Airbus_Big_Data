{
 "cells": [
  {
   "cell_type": "code",
   "execution_count": 1,
   "metadata": {},
   "outputs": [],
   "source": [
    "import random\n",
    "\n",
    "import findspark\n",
    "findspark.init()\n",
    "import pyspark\n",
    "\n",
    "from pyspark.ml.feature import VectorAssembler, StringIndexer, OneHotEncoder, Bucketizer\n",
    "from pyspark.ml.regression import LinearRegression\n",
    "from pyspark.ml import Pipeline\n",
    "from pyspark.ml.evaluation import RegressionEvaluator\n",
    "from pyspark import SparkContext\n",
    "from pyspark.sql import SQLContext\n",
    "from pyspark.sql.session import SparkSession\n",
    "from pyspark.sql.types import *\n",
    "from pyspark.sql.functions import isnan, when, count, col, abs\n",
    "from pyspark.sql import functions as sf "
   ]
  },
  {
   "cell_type": "code",
   "execution_count": 2,
   "metadata": {},
   "outputs": [],
   "source": [
    "filename = \"2004.csv\""
   ]
  },
  {
   "cell_type": "code",
   "execution_count": 3,
   "metadata": {},
   "outputs": [],
   "source": [
    "def _init_spark():\n",
    "    spark = SparkSession.builder.appName(\"Project\").getOrCreate()\n",
    "    sc = spark.sparkContext\n",
    "    return spark, sc\n",
    "\n",
    "spark, sc = _init_spark()\n",
    "sqlContext = SQLContext(sc)\n",
    "\n",
    "df = sqlContext.read.load(filename, \n",
    "                      format='com.databricks.spark.csv', \n",
    "                      header='true',\n",
    "                      delimiter=',',\n",
    "                      inferSchema='true')\n",
    "df.cache()\n",
    "\n",
    "col_to_drop = ['ArrTime', 'ActualElapsedTime', 'AirTime', 'TaxiIn', 'Diverted',\n",
    "               'CarrierDelay', 'WeatherDelay', 'NASDelay', 'SecurityDelay', 'LateAircraftDelay', \n",
    "               'Year', 'TailNum', 'CancellationCode' ] # Only those 3 I added up to delay, others \n",
    "                                                       # are delayed as is stated in the task\n",
    "df = df.drop(*col_to_drop)\n",
    "df = df.withColumn(\"ArrDelay\", df[\"ArrDelay\"].cast(IntegerType()))\n",
    "df = df.withColumn(\"DepDelay\", df[\"DepDelay\"].cast(IntegerType()))\n",
    "df = df.withColumn(\"CRSDepTime\", df[\"CRSDepTime\"].cast(IntegerType()))\n",
    "df = df.withColumn(\"CRSArrTime\", df[\"CRSArrTime\"].cast(IntegerType()))\n",
    "df = df.withColumn(\"DepTime\", df[\"DepTime\"].cast(IntegerType()))\n",
    "\n",
    "df = df.filter(\"Cancelled == 0\") #select only those flights that happened\n",
    "df = df.drop(\"Cancelled\")\n",
    "df = df.drop(*[\"UniqueCarrier\", \"DayofMonth\", \"FlightNum\"]) #Droping unimportant categorical variables\n",
    "\n",
    "df = df.na.drop(\"any\") # Drop columns with null values +- 99% of dataset remains "
   ]
  },
  {
   "cell_type": "code",
   "execution_count": 4,
   "metadata": {},
   "outputs": [
    {
     "name": "stdout",
     "output_type": "stream",
     "text": [
      "+-----+---------+-------+----------+----------+--------------+--------+--------+------+----+--------+-------+\n",
      "|Month|DayOfWeek|DepTime|CRSDepTime|CRSArrTime|CRSElapsedTime|ArrDelay|DepDelay|Origin|Dest|Distance|TaxiOut|\n",
      "+-----+---------+-------+----------+----------+--------------+--------+--------+------+----+--------+-------+\n",
      "|    1|        1|    623|       630|       915|           105|     -14|      -7|   ORD| CLT|     599|     11|\n",
      "|    1|        2|    621|       630|       915|           105|      -4|      -9|   ORD| CLT|     599|     16|\n",
      "|    1|        3|    633|       630|       915|           105|       5|       3|   ORD| CLT|     599|     15|\n",
      "|    1|        4|    627|       630|       915|           105|     -16|      -3|   ORD| CLT|     599|     10|\n",
      "|    1|        5|    635|       630|       915|           105|       3|       5|   ORD| CLT|     599|     13|\n",
      "+-----+---------+-------+----------+----------+--------------+--------+--------+------+----+--------+-------+\n",
      "only showing top 5 rows\n",
      "\n"
     ]
    }
   ],
   "source": [
    "df.show(5) "
   ]
  },
  {
   "cell_type": "code",
   "execution_count": 5,
   "metadata": {},
   "outputs": [],
   "source": [
    "# Introducing interaction between the categorical variables: Origin and Dest"
   ]
  },
  {
   "cell_type": "code",
   "execution_count": 6,
   "metadata": {},
   "outputs": [],
   "source": [
    "df = df.withColumn('OrigDest', \n",
    "                    sf.concat(sf.col('Origin'),sf.lit('_'), sf.col('Dest')))\n",
    "df = df.drop(*[\"Origin\", \"Dest\"])"
   ]
  },
  {
   "cell_type": "code",
   "execution_count": 7,
   "metadata": {},
   "outputs": [
    {
     "name": "stdout",
     "output_type": "stream",
     "text": [
      "+-----+---------+-------+----------+----------+--------------+--------+--------+--------+-------+--------+\n",
      "|Month|DayOfWeek|DepTime|CRSDepTime|CRSArrTime|CRSElapsedTime|ArrDelay|DepDelay|Distance|TaxiOut|OrigDest|\n",
      "+-----+---------+-------+----------+----------+--------------+--------+--------+--------+-------+--------+\n",
      "|    1|        1|    623|       630|       915|           105|     -14|      -7|     599|     11| ORD_CLT|\n",
      "+-----+---------+-------+----------+----------+--------------+--------+--------+--------+-------+--------+\n",
      "only showing top 1 row\n",
      "\n"
     ]
    }
   ],
   "source": [
    "df.show(1)"
   ]
  },
  {
   "cell_type": "code",
   "execution_count": 8,
   "metadata": {},
   "outputs": [],
   "source": [
    "# Converting continuous to categorical:, \"DepTime\" \"CRSDepTime\", \"CRSArrTime\" which are times. \n",
    "# We want to seperate them to types of the day (morning, aftenoon, evening, night): https://www.learnersdictionary.com/qa/parts-of-the-day-early-morning-late-morning-etc"
   ]
  },
  {
   "cell_type": "code",
   "execution_count": 9,
   "metadata": {},
   "outputs": [],
   "source": [
    "splits = [-float(\"inf\"), 500, 1200, 1700, float(\"inf\")]\n",
    "bucketizer = Bucketizer(splitsArray= [splits, splits, splits], inputCols=[\"CRSDepTime\", \"CRSArrTime\", \"DepTime\"], outputCols=[\"CatCRSDepTime\", \"CatCRSArrTime\", \"CatDepTime\"])\n",
    "df = bucketizer.transform(df)\n",
    "\n",
    "df = df.drop(*[\"CRSDepTime\", \"CRSArrTime\"])"
   ]
  },
  {
   "cell_type": "code",
   "execution_count": 10,
   "metadata": {},
   "outputs": [],
   "source": [
    "varIdxer = StringIndexer(inputCol=\"OrigDest\",outputCol=\"IndOrigDest\").fit(df)\n",
    "df = varIdxer.transform(df)\n",
    "df = df.drop(\"OrigDest\")"
   ]
  },
  {
   "cell_type": "code",
   "execution_count": 11,
   "metadata": {},
   "outputs": [
    {
     "name": "stdout",
     "output_type": "stream",
     "text": [
      "+-----+---------+-------+--------------+--------+--------+--------+-------+-------------+-------------+----------+-----------+\n",
      "|Month|DayOfWeek|DepTime|CRSElapsedTime|ArrDelay|DepDelay|Distance|TaxiOut|CatCRSDepTime|CatCRSArrTime|CatDepTime|IndOrigDest|\n",
      "+-----+---------+-------+--------------+--------+--------+--------+-------+-------------+-------------+----------+-----------+\n",
      "|    1|        1|    623|           105|     -14|      -7|     599|     11|          1.0|          1.0|       1.0|      178.0|\n",
      "|    1|        2|    621|           105|      -4|      -9|     599|     16|          1.0|          1.0|       1.0|      178.0|\n",
      "|    1|        3|    633|           105|       5|       3|     599|     15|          1.0|          1.0|       1.0|      178.0|\n",
      "|    1|        4|    627|           105|     -16|      -3|     599|     10|          1.0|          1.0|       1.0|      178.0|\n",
      "|    1|        5|    635|           105|       3|       5|     599|     13|          1.0|          1.0|       1.0|      178.0|\n",
      "+-----+---------+-------+--------------+--------+--------+--------+-------+-------------+-------------+----------+-----------+\n",
      "only showing top 5 rows\n",
      "\n"
     ]
    }
   ],
   "source": [
    "df.show(5)"
   ]
  },
  {
   "cell_type": "code",
   "execution_count": 12,
   "metadata": {},
   "outputs": [],
   "source": [
    "# One Hot encoding the categorical data:"
   ]
  },
  {
   "cell_type": "code",
   "execution_count": 13,
   "metadata": {},
   "outputs": [],
   "source": [
    "oneHot = OneHotEncoder(inputCols=['Month', 'DayOfWeek', 'CatCRSDepTime', 'CatCRSArrTime', 'IndOrigDest', 'CatDepTime'],\n",
    "                       outputCols=['HotMonth', 'HotDayOfWeek', 'HotCRSCatDepTime', 'HotCRSCatArrTime', 'HotIndOrigDest', 'HotDepTime']).fit(df)\n",
    "df = oneHot.transform(df)\n",
    "df = df.drop(*['Month', 'DayOfWeek', 'CatDepTime', 'CatCRSDepTime', 'CatCRSArrTime', 'IndOrigDest'])"
   ]
  },
  {
   "cell_type": "code",
   "execution_count": 14,
   "metadata": {},
   "outputs": [
    {
     "name": "stdout",
     "output_type": "stream",
     "text": [
      "+-------+--------------+--------+--------+--------+-------+------------------+--------------+----------------+----------------+-------------+-------------+\n",
      "|DepTime|CRSElapsedTime|ArrDelay|DepDelay|Distance|TaxiOut|    HotIndOrigDest|      HotMonth|HotCRSCatDepTime|HotCRSCatArrTime| HotDayOfWeek|   HotDepTime|\n",
      "+-------+--------------+--------+--------+--------+-------+------------------+--------------+----------------+----------------+-------------+-------------+\n",
      "|    623|           105|     -14|      -7|     599|     11|(4408,[178],[1.0])|(12,[1],[1.0])|   (3,[1],[1.0])|   (3,[1],[1.0])|(7,[1],[1.0])|(3,[1],[1.0])|\n",
      "|    621|           105|      -4|      -9|     599|     16|(4408,[178],[1.0])|(12,[1],[1.0])|   (3,[1],[1.0])|   (3,[1],[1.0])|(7,[2],[1.0])|(3,[1],[1.0])|\n",
      "|    633|           105|       5|       3|     599|     15|(4408,[178],[1.0])|(12,[1],[1.0])|   (3,[1],[1.0])|   (3,[1],[1.0])|(7,[3],[1.0])|(3,[1],[1.0])|\n",
      "|    627|           105|     -16|      -3|     599|     10|(4408,[178],[1.0])|(12,[1],[1.0])|   (3,[1],[1.0])|   (3,[1],[1.0])|(7,[4],[1.0])|(3,[1],[1.0])|\n",
      "|    635|           105|       3|       5|     599|     13|(4408,[178],[1.0])|(12,[1],[1.0])|   (3,[1],[1.0])|   (3,[1],[1.0])|(7,[5],[1.0])|(3,[1],[1.0])|\n",
      "+-------+--------------+--------+--------+--------+-------+------------------+--------------+----------------+----------------+-------------+-------------+\n",
      "only showing top 5 rows\n",
      "\n"
     ]
    }
   ],
   "source": [
    "df.show(5)"
   ]
  },
  {
   "cell_type": "code",
   "execution_count": 15,
   "metadata": {},
   "outputs": [],
   "source": [
    "df = df.withColumn(\"Speed\", sf.round(col(\"Distance\") / col(\"CRSElapsedTime\"), 2))\n",
    "df = df.drop(*[\"Distance\", \"CRSElapsedTime\"])"
   ]
  },
  {
   "cell_type": "code",
   "execution_count": 16,
   "metadata": {},
   "outputs": [
    {
     "name": "stdout",
     "output_type": "stream",
     "text": [
      "+-------+--------+--------+-------+------------------+--------------+----------------+----------------+-------------+-------------+-----+\n",
      "|DepTime|ArrDelay|DepDelay|TaxiOut|    HotIndOrigDest|      HotMonth|HotCRSCatDepTime|HotCRSCatArrTime| HotDayOfWeek|   HotDepTime|Speed|\n",
      "+-------+--------+--------+-------+------------------+--------------+----------------+----------------+-------------+-------------+-----+\n",
      "|    623|     -14|      -7|     11|(4408,[178],[1.0])|(12,[1],[1.0])|   (3,[1],[1.0])|   (3,[1],[1.0])|(7,[1],[1.0])|(3,[1],[1.0])|  5.7|\n",
      "|    621|      -4|      -9|     16|(4408,[178],[1.0])|(12,[1],[1.0])|   (3,[1],[1.0])|   (3,[1],[1.0])|(7,[2],[1.0])|(3,[1],[1.0])|  5.7|\n",
      "|    633|       5|       3|     15|(4408,[178],[1.0])|(12,[1],[1.0])|   (3,[1],[1.0])|   (3,[1],[1.0])|(7,[3],[1.0])|(3,[1],[1.0])|  5.7|\n",
      "|    627|     -16|      -3|     10|(4408,[178],[1.0])|(12,[1],[1.0])|   (3,[1],[1.0])|   (3,[1],[1.0])|(7,[4],[1.0])|(3,[1],[1.0])|  5.7|\n",
      "|    635|       3|       5|     13|(4408,[178],[1.0])|(12,[1],[1.0])|   (3,[1],[1.0])|   (3,[1],[1.0])|(7,[5],[1.0])|(3,[1],[1.0])|  5.7|\n",
      "+-------+--------+--------+-------+------------------+--------------+----------------+----------------+-------------+-------------+-----+\n",
      "only showing top 5 rows\n",
      "\n"
     ]
    }
   ],
   "source": [
    "df.show(5)"
   ]
  },
  {
   "cell_type": "code",
   "execution_count": 17,
   "metadata": {},
   "outputs": [],
   "source": [
    "# FINAL SELECTION:\n",
    "X1 = ['DepDelay', 'TaxiOut']\n",
    "X2 = ['DepDelay', 'TaxiOut',  'HotDepTime']\n",
    "X3 = ['DepDelay', 'TaxiOut', 'HotIndOrigDest', 'HotDepTime'] \n",
    "X4 = ['DepDelay', 'TaxiOut', 'HotDayOfWeek', 'HotMonth', 'Speed'] \n",
    "X5 = ['DepDelay', 'TaxiOut', 'HotDayOfWeek', 'HotIndOrigDest', 'Speed']\n",
    "X6 = ['DepDelay', 'TaxiOut', 'HotIndOrigDest', 'Speed', 'HotCRSCatDepTime', 'HotCRSCatArrTime', 'HotDepTime']"
   ]
  },
  {
   "cell_type": "markdown",
   "metadata": {},
   "source": [
    "## General Linear model"
   ]
  },
  {
   "cell_type": "code",
   "execution_count": 18,
   "metadata": {},
   "outputs": [],
   "source": [
    "assembler = VectorAssembler(inputCols=X1, outputCol='features')\n",
    "output = assembler.transform(df).select('features', 'ArrDelay')\n",
    "train, test = output.randomSplit([0.75, 0.25])"
   ]
  },
  {
   "cell_type": "code",
   "execution_count": 19,
   "metadata": {},
   "outputs": [],
   "source": [
    "lin_reg = LinearRegression(featuresCol = 'features', labelCol='ArrDelay')\n",
    "linear_model = lin_reg.fit(train)\n",
    "\n",
    "#trainSummary = linear_model.summary\n",
    "#print(\"RMSE: %f\" % trainSummary.rootMeanSquaredError)\n",
    "#print(\"MSE: %f\" %  trainSummary.meanSquaredError)\n",
    "#print(\"\\nr2: %f\" % trainSummary.r2)"
   ]
  },
  {
   "cell_type": "code",
   "execution_count": 20,
   "metadata": {},
   "outputs": [],
   "source": [
    "predictions = linear_model.transform(test)\n",
    "x =((predictions['ArrDelay']-predictions['prediction'])/predictions['ArrDelay'])*100\n",
    "predictions = predictions.withColumn('Accuracy',abs(x))\n",
    "#predictions.select(\"prediction\",\"ArrDelay\",\"Accuracy\",\"features\").show(10)"
   ]
  },
  {
   "cell_type": "code",
   "execution_count": 21,
   "metadata": {},
   "outputs": [
    {
     "name": "stdout",
     "output_type": "stream",
     "text": [
      "R Squared (R2) on test data = 0.861688\n",
      "Root Mean Squared Error (RMSE) on test data = 12.4481\n",
      "Mean Absolute Error (MAE) on test data = 7.83326\n"
     ]
    }
   ],
   "source": [
    "pred_evaluator = RegressionEvaluator(predictionCol=\"prediction\",labelCol=\"ArrDelay\",metricName=\"r2\")\n",
    "print(\"R Squared (R2) on test data = %g\" % pred_evaluator.evaluate(predictions))\n",
    "\n",
    "evaluator = RegressionEvaluator(labelCol='ArrDelay', predictionCol=\"prediction\", metricName=\"rmse\")\n",
    "rmse = evaluator.evaluate(predictions)\n",
    "print(\"Root Mean Squared Error (RMSE) on test data = %g\" % 3)\n",
    "\n",
    "evaluator = RegressionEvaluator(labelCol='ArrDelay', predictionCol=\"prediction\", metricName=\"mae\"\n",
    "mae = evaluator.evaluate(predictions)\n",
    "print(\"Mean Absolute Error (MAE) on test data = %g\" % mae)"
   ]
  },
  {
   "cell_type": "markdown",
   "metadata": {},
   "source": [
    "## General Linear model with ParamGridBuilder and TrainValidationSplit"
   ]
  },
  {
   "cell_type": "code",
   "execution_count": 22,
   "metadata": {},
   "outputs": [],
   "source": [
    "df = df.withColumnRenamed(\"ArrDelay\", \"label\")"
   ]
  },
  {
   "cell_type": "code",
   "execution_count": 23,
   "metadata": {},
   "outputs": [
    {
     "name": "stdout",
     "output_type": "stream",
     "text": [
      "+-------+-----+--------+-------+------------------+--------------+----------------+----------------+-------------+-------------+-----+\n",
      "|DepTime|label|DepDelay|TaxiOut|    HotIndOrigDest|      HotMonth|HotCRSCatDepTime|HotCRSCatArrTime| HotDayOfWeek|   HotDepTime|Speed|\n",
      "+-------+-----+--------+-------+------------------+--------------+----------------+----------------+-------------+-------------+-----+\n",
      "|    623|  -14|      -7|     11|(4408,[178],[1.0])|(12,[1],[1.0])|   (3,[1],[1.0])|   (3,[1],[1.0])|(7,[1],[1.0])|(3,[1],[1.0])|  5.7|\n",
      "|    621|   -4|      -9|     16|(4408,[178],[1.0])|(12,[1],[1.0])|   (3,[1],[1.0])|   (3,[1],[1.0])|(7,[2],[1.0])|(3,[1],[1.0])|  5.7|\n",
      "|    633|    5|       3|     15|(4408,[178],[1.0])|(12,[1],[1.0])|   (3,[1],[1.0])|   (3,[1],[1.0])|(7,[3],[1.0])|(3,[1],[1.0])|  5.7|\n",
      "|    627|  -16|      -3|     10|(4408,[178],[1.0])|(12,[1],[1.0])|   (3,[1],[1.0])|   (3,[1],[1.0])|(7,[4],[1.0])|(3,[1],[1.0])|  5.7|\n",
      "|    635|    3|       5|     13|(4408,[178],[1.0])|(12,[1],[1.0])|   (3,[1],[1.0])|   (3,[1],[1.0])|(7,[5],[1.0])|(3,[1],[1.0])|  5.7|\n",
      "+-------+-----+--------+-------+------------------+--------------+----------------+----------------+-------------+-------------+-----+\n",
      "only showing top 5 rows\n",
      "\n"
     ]
    }
   ],
   "source": [
    "df.show(5)"
   ]
  },
  {
   "cell_type": "code",
   "execution_count": 24,
   "metadata": {},
   "outputs": [],
   "source": [
    "assembler = VectorAssembler(inputCols=X1, outputCol='features')\n",
    "output = assembler.transform(df).select('features','label')"
   ]
  },
  {
   "cell_type": "code",
   "execution_count": 25,
   "metadata": {},
   "outputs": [],
   "source": [
    "train, test = output.randomSplit([0.75, 0.25])"
   ]
  },
  {
   "cell_type": "code",
   "execution_count": 26,
   "metadata": {},
   "outputs": [
    {
     "name": "stdout",
     "output_type": "stream",
     "text": [
      "+---------+-----+-----------------+\n",
      "| features|label|       prediction|\n",
      "+---------+-----+-----------------+\n",
      "|(2,[],[])|  -34|-8.10724902732001|\n",
      "|(2,[],[])|  -23|-8.10724902732001|\n",
      "|(2,[],[])|  -21|-8.10724902732001|\n",
      "|(2,[],[])|  -19|-8.10724902732001|\n",
      "|(2,[],[])|  -15|-8.10724902732001|\n",
      "+---------+-----+-----------------+\n",
      "only showing top 5 rows\n",
      "\n"
     ]
    }
   ],
   "source": [
    "from pyspark.ml.tuning import ParamGridBuilder, TrainValidationSplit\n",
    "\n",
    "\n",
    "lin_reg = LinearRegression(featuresCol = 'features')\n",
    "\n",
    "\n",
    "# We use a ParamGridBuilder and TrainValidationSplit to determin the best model\n",
    "\n",
    "paramGrid = ParamGridBuilder()\\\n",
    "    .addGrid(lin_reg.regParam, [0.1, 0.05]) \\\n",
    "    .addGrid(lin_reg.fitIntercept, [False, True])\\\n",
    "    .addGrid(lin_reg.elasticNetParam, [0.0, 0.5, 1.0])\\\n",
    "    .addGrid(lin_reg.maxIter, [1, 3])\\\n",
    "    .build()\n",
    "\n",
    "tvs = TrainValidationSplit(estimator=lin_reg,\n",
    "                           estimatorParamMaps=paramGrid,\n",
    "                           evaluator=RegressionEvaluator(),\n",
    "                           trainRatio=0.75)\n",
    "\n",
    "model = tvs.fit(train)\n",
    "\n",
    "\n",
    "model.transform(test)\\\n",
    "    .select(\"features\", \"label\", \"prediction\")\\\n",
    "    .show(5)"
   ]
  },
  {
   "cell_type": "code",
   "execution_count": 27,
   "metadata": {},
   "outputs": [],
   "source": [
    "predictions = model.transform(test)\n",
    "x =((predictions['label']-predictions['prediction'])/predictions['label'])*100\n",
    "predictions = predictions.withColumn('Accuracy',abs(x))\n",
    "#predictions.select(\"prediction\",\"ArrDelay\",\"Accuracy\",\"features\").show(10)"
   ]
  },
  {
   "cell_type": "code",
   "execution_count": 28,
   "metadata": {},
   "outputs": [
    {
     "name": "stdout",
     "output_type": "stream",
     "text": [
      "R Squared (R2) on test data = 0.86138\n",
      "Root Mean Squared Error (RMSE) on test data = 12.3888\n",
      "Mean Absolute Error (MAE) on test data = 7.84175\n"
     ]
    }
   ],
   "source": [
    "pred_evaluator = RegressionEvaluator(predictionCol=\"prediction\", \\\n",
    "                 labelCol=\"label\",metricName=\"r2\")\n",
    "print(\"R Squared (R2) on test data = %g\" % pred_evaluator.evaluate(predictions))\n",
    "\n",
    "evaluator = RegressionEvaluator(\n",
    "    labelCol='label', predictionCol=\"prediction\", metricName=\"rmse\")\n",
    "rmse = evaluator.evaluate(predictions)\n",
    "print(\"Root Mean Squared Error (RMSE) on test data = %g\" % rmse)\n",
    "\n",
    "evaluator = RegressionEvaluator(\n",
    "    labelCol='label', predictionCol=\"prediction\", metricName=\"mae\")\n",
    "mae = evaluator.evaluate(predictions)\n",
    "print(\"Mean Absolute Error (MAE) on test data = %g\" % mae)"
   ]
  },
  {
   "cell_type": "markdown",
   "metadata": {
    "jupyter": {
     "source_hidden": true
    }
   },
   "source": [
    "X1:\n",
    "R Squared (R2) on test data = 0.826373\n",
    "Root Mean Squared Error (RMSE) on test data = 13.8497\n",
    "Mean Squared Error (RMSE) on test data = 191.815\n",
    "\n",
    "X2:\n",
    "R Squared (R2) on test data = 0.86015\n",
    "Root Mean Squared Error (RMSE) on test data = 12.3931\n",
    "Mean Squared Error (RMSE) on test data = 153.59\n",
    "\n",
    "X2_DepTime\n",
    "R Squared (R2) on test data = 0.86645\n",
    "Root Mean Squared Error (RMSE) on test data = 12.2173\n",
    "Mean Squared Error (RMSE) on test data = 149.264\n",
    "\n",
    "X2_DepTimeCont\n",
    "R Squared (R2) on test data = 0.865903\n",
    "Root Mean Squared Error (RMSE) on test data = 12.217\n",
    "Mean Squared Error (RMSE) on test data = 149.254\n",
    "\n",
    "X3:\n",
    "R Squared (R2) on test data = 0.867128\n",
    "Root Mean Squared Error (RMSE) on test data = 12.1511\n",
    "Mean Squared Error (RMSE) on test data = 147.649\n",
    "\n",
    "X3_HotDepTime\n",
    "R Squared (R2) on test data = 0.869852\n",
    "Root Mean Squared Error (RMSE) on test data = 12.0166\n",
    "Mean Squared Error (RMSE) on test data = 144.399\n",
    "\n",
    "X4:\n",
    "R Squared (R2) on test data = 0.859676\n",
    "Root Mean Squared Error (RMSE) on test data = 12.5005\n",
    "Mean Squared Error (RMSE) on test data = 156.263\n",
    "\n",
    "X4_HotDepTime\n",
    "R Squared (R2) on test data = 0.861924\n",
    "Root Mean Squared Error (RMSE) on test data = 12.4194\n",
    "Mean Squared Error (RMSE) on test data = 154.242\n",
    "\n",
    "X5: \n",
    "R Squared (R2) on test data = 0.863975\n",
    "Root Mean Squared Error (RMSE) on test data = 12.2739\n",
    "Mean Squared Error (RMSE) on test data = 150.648\n",
    "\n",
    "X5_HotDepTime\n",
    "R Squared (R2) on test data = 0.873747\n",
    "Root Mean Squared Error (RMSE) on test data = 11.8387\n",
    "Mean Squared Error (RMSE) on test data = 140.154\n",
    "\n",
    "X6:\n",
    "R Squared (R2) on test data = 0.870854\n",
    "Root Mean Squared Error (RMSE) on test data = 12.0075\n",
    "Mean Squared Error (RMSE) on test data = 144.179\n",
    "\n",
    "X6_NoWeekNoSpeed:\n",
    "R Squared (R2) on test data = 0.869446\n",
    "Root Mean Squared Error (RMSE) on test data = 12.0361\n",
    "Mean Squared Error (RMSE) on test data = 144.868\n",
    "\n",
    "X6_NoSpeed:\n",
    "R Squared (R2) on test data = 0.8693\n",
    "Root Mean Squared Error (RMSE) on test data = 12.0816\n",
    "Mean Squared Error (RMSE) on test data = 145.966\n",
    "\n",
    "X6_NoWeek:\n",
    "R Squared (R2) on test data = 0.873866\n",
    "Root Mean Squared Error (RMSE) on test data = 11.8401\n",
    "Mean Squared Error (RMSE) on test data = 140.188\n",
    "\n",
    "X6_NoWeek_DepTime\n",
    "R Squared (R2) on test data = 0.878756\n",
    "Root Mean Squared Error (RMSE) on test data = 11.6798\n",
    "Mean Squared Error (RMSE) on test data = 136.418\n",
    "\n",
    "X6_NoWeek_DepTimeCont\n",
    "R Squared (R2) on test data = 0.872805\n",
    "Root Mean Squared Error (RMSE) on test data = 11.9287\n",
    "Mean Squared Error (RMSE) on test data = 142.295"
   ]
  },
  {
   "cell_type": "code",
   "execution_count": 29,
   "metadata": {},
   "outputs": [],
   "source": [
    "sc.stop()"
   ]
  },
  {
   "cell_type": "code",
   "execution_count": 50,
   "metadata": {},
   "outputs": [
    {
     "name": "stdout",
     "output_type": "stream",
     "text": [
      "['DepDelay', 'TaxiOut', 'CIAO']\n"
     ]
    }
   ],
   "source": [
    "\n",
    "A = ['DepDelay', 'TaxiOut']\n",
    "\n",
    "A=A+['CIAO']\n",
    "print(A)          "
   ]
  },
  {
   "cell_type": "code",
   "execution_count": 47,
   "metadata": {},
   "outputs": [
    {
     "name": "stdout",
     "output_type": "stream",
     "text": [
      "{'name': 'X1', 'variables': ['DepDelay', 'TaxiOut'], 'nonon': 1}\n",
      "{'name': 'X2', 'variables': ['DepDelay', 'TaxiOut', 'HotDepTime'], 'nonon': 1}\n",
      "{'name': 'X3', 'variables': ['DepDelay', 'TaxiOut', 'HotIndOrigDest', 'HotDepTime'], 'nonon': 1}\n",
      "{'name': 'X4', 'variables': ['DepDelay', 'TaxiOut', 'HotDayOfWeek', 'HotMonth', 'Speed'], 'nonon': 1}\n",
      "{'name': 'X5', 'variables': ['DepDelay', 'TaxiOut', 'HotDayOfWeek', 'HotIndOrigDest', 'Speed'], 'nonon': 1}\n",
      "{'name': 'X6', 'variables': ['DepDelay', 'TaxiOut', 'HotIndOrigDest', 'Speed', 'HotCRSCatDepTime', 'HotCRSCatArrTime', 'HotDepTime'], 'nonon': 1}\n"
     ]
    }
   ],
   "source": [
    "\n",
    "LINEAR REGRESSION MODEL \n",
    "\n",
    "{'name': 'X1', 'variables': ['DepDelay', 'TaxiOut'], 'R2LR': 0.8571472396949983}\n",
    "{'name': 'X2', 'variables': ['DepDelay', 'TaxiOut', 'HotDepTime'], 'R2LR': 0.8658256539987146}\n",
    "{'name': 'X3', 'variables': ['DepDelay', 'TaxiOut', 'HotIndOrigDest', 'HotDepTime'], 'R2LR': 0.8591920095549392}\n",
    "{'name': 'X4', 'variables': ['DepDelay', 'TaxiOut', 'HotDayOfWeek', 'HotMonth', 'Speed'], 'R2LR': 0.864338816570524}\n",
    "{'name': 'X5', 'variables': ['DepDelay', 'TaxiOut', 'HotDayOfWeek', 'HotIndOrigDest', 'Speed'], 'R2LR': 0.861180514036612}\n",
    "{'name': 'X6', 'variables': ['DepDelay', 'TaxiOut', 'HotIndOrigDest', 'Speed', 'HotCRSCatDepTime', 'HotCRSCatArrTime', 'HotDepTime'], 'R2LR': 0.8608941223250091}\n",
    "\n",
    "\n",
    "\n",
    "\n",
    "\n",
    "\n",
    "\n",
    "\n"
   ]
  },
  {
   "cell_type": "code",
   "execution_count": 112,
   "metadata": {},
   "outputs": [
    {
     "data": {
      "text/plain": [
       "[{'name': 'X1',\n",
       "  'variables': ['DepDelay', 'TaxiOut'],\n",
       "  'R2LR': 0.8634434987176677,\n",
       "  'maeLR': 7.846344636291409,\n",
       "  'rmseLR': 12.3050200542969,\n",
       "  'R2RF': 0.7113226179229843,\n",
       "  'maeRF': 9.632419894894845,\n",
       "  'rmseRF': 17.870397493687378,\n",
       "  'R2DT': 0.7395671668525245,\n",
       "  'maeDT': 9.286871202251607,\n",
       "  'rmseDT': 16.973667925546085,\n",
       "  'R2GBR': 0.6779749591610146,\n",
       "  'maeGBR': 10.291720285041185,\n",
       "  'rmseGBR': 18.93692861799665},\n",
       " {'name': 'X2',\n",
       "  'variables': ['DepDelay', 'TaxiOut', 'HotDepTime'],\n",
       "  'R2LR': 0.8583557878034125,\n",
       "  'maeLR': 7.867042776829008,\n",
       "  'rmseLR': 12.564304679339765,\n",
       "  'R2RF': 0.6618056282411904,\n",
       "  'maeRF': 10.69581629434264,\n",
       "  'rmseRF': 19.317928448876994,\n",
       "  'R2DT': 0.7359741049968364,\n",
       "  'maeDT': 9.276273778053989,\n",
       "  'rmseDT': 17.06870714215145,\n",
       "  'R2GBR': 0.7317420904346483,\n",
       "  'maeGBR': 8.919500016072934,\n",
       "  'rmseGBR': 17.40522038041701},\n",
       " {'name': 'X3',\n",
       "  'variables': ['DepDelay', 'TaxiOut', 'HotIndOrigDest', 'HotDepTime'],\n",
       "  'R2LR': 0.8593969897926946,\n",
       "  'maeLR': 7.864282380701789,\n",
       "  'rmseLR': 12.472191555732724,\n",
       "  'R2RF': 0.6893474138730874,\n",
       "  'maeRF': 10.391762216453797,\n",
       "  'rmseRF': 18.48095278940399,\n",
       "  'R2DT': 0.7429083054863235,\n",
       "  'maeDT': 9.244540689810753,\n",
       "  'rmseDT': 16.812445684525386,\n",
       "  'R2GBR': 0.7340066674151544,\n",
       "  'maeGBR': 8.970977217618819,\n",
       "  'rmseGBR': 17.224534616062524},\n",
       " {'name': 'X4',\n",
       "  'variables': ['DepDelay', 'TaxiOut', 'HotDayOfWeek', 'HotMonth', 'Speed'],\n",
       "  'R2LR': 0.863433896705197,\n",
       "  'maeLR': 7.857176780272817,\n",
       "  'rmseLR': 12.347649838818601,\n",
       "  'R2RF': 0.6473918259213414,\n",
       "  'maeRF': 10.698236247649278,\n",
       "  'rmseRF': 19.77355050663056,\n",
       "  'R2DT': 0.734263104956572,\n",
       "  'maeDT': 9.320667734524053,\n",
       "  'rmseDT': 17.16581381584866,\n",
       "  'R2GBR': 0.7466087502783435,\n",
       "  'maeGBR': 8.799469470636394,\n",
       "  'rmseGBR': 16.83094772729247},\n",
       " {'name': 'X5',\n",
       "  'variables': ['DepDelay',\n",
       "   'TaxiOut',\n",
       "   'HotDayOfWeek',\n",
       "   'HotIndOrigDest',\n",
       "   'Speed'],\n",
       "  'R2LR': 0.861890103017749,\n",
       "  'maeLR': 7.867812623708982,\n",
       "  'rmseLR': 12.361847068397935,\n",
       "  'R2RF': 0.6450061986902308,\n",
       "  'maeRF': 10.972519639797552,\n",
       "  'rmseRF': 19.980872071516536,\n",
       "  'R2DT': 0.7374275663556327,\n",
       "  'maeDT': 9.256949155299973,\n",
       "  'rmseDT': 17.184172320005104,\n",
       "  'R2GBR': 0.7402478789139912,\n",
       "  'maeGBR': 8.916626117462856,\n",
       "  'rmseGBR': 17.048795624738972},\n",
       " {'name': 'X6',\n",
       "  'variables': ['DepDelay',\n",
       "   'TaxiOut',\n",
       "   'HotIndOrigDest',\n",
       "   'Speed',\n",
       "   'HotCRSCatDepTime',\n",
       "   'HotCRSCatArrTime',\n",
       "   'HotDepTime'],\n",
       "  'R2LR': 0.857932175860417,\n",
       "  'maeLR': 7.869501841196455,\n",
       "  'rmseLR': 12.564909943926322,\n",
       "  'R2RF': 0.6932635305087731,\n",
       "  'maeRF': 10.377749609744654,\n",
       "  'rmseRF': 18.532997429411278,\n",
       "  'R2DT': 0.7426814121619514,\n",
       "  'maeDT': 9.235528412342111,\n",
       "  'rmseDT': 16.974560476441024,\n",
       "  'R2GBR': 0.7393962128806398,\n",
       "  'maeGBR': 8.897008426472556,\n",
       "  'rmseGBR': 16.96102270986277}]"
      ]
     },
     "execution_count": 112,
     "metadata": {},
     "output_type": "execute_result"
    }
   ],
   "source": [
    "df = []\n",
    "df.append({'name': 'X1', 'variables': ['DepDelay', 'TaxiOut'],'R2LR': 0.8634434987176677, 'maeLR': 7.846344636291409, 'rmseLR': 12.3050200542969, 'R2RF': 0.7113226179229843, 'maeRF': 9.632419894894845, 'rmseRF': 17.870397493687378, 'R2DT': 0.7395671668525245, 'maeDT': 9.286871202251607, 'rmseDT': 16.973667925546085, 'R2GBR': 0.6779749591610146, 'maeGBR': 10.291720285041185, 'rmseGBR': 18.93692861799665})\n",
    "df.append({'name': 'X2', 'variables': ['DepDelay', 'TaxiOut', 'HotDepTime'], 'R2LR': 0.8583557878034125, 'maeLR': 7.867042776829008, 'rmseLR': 12.564304679339765, 'R2RF': 0.6618056282411904, 'maeRF': 10.69581629434264, 'rmseRF': 19.317928448876994, 'R2DT': 0.7359741049968364, 'maeDT': 9.276273778053989, 'rmseDT': 17.06870714215145, 'R2GBR': 0.7317420904346483, 'maeGBR': 8.919500016072934, 'rmseGBR': 17.40522038041701})\n",
    "df.append({'name': 'X3', 'variables': ['DepDelay', 'TaxiOut', 'HotIndOrigDest', 'HotDepTime'], 'R2LR': 0.8593969897926946, 'maeLR': 7.864282380701789, 'rmseLR': 12.472191555732724, 'R2RF': 0.6893474138730874, 'maeRF': 10.391762216453797, 'rmseRF': 18.48095278940399, 'R2DT': 0.7429083054863235, 'maeDT': 9.244540689810753, 'rmseDT': 16.812445684525386, 'R2GBR': 0.7340066674151544, 'maeGBR': 8.970977217618819, 'rmseGBR': 17.224534616062524})\n",
    "df.append({'name': 'X4', 'variables': ['DepDelay', 'TaxiOut', 'HotDayOfWeek', 'HotMonth', 'Speed'], 'R2LR': 0.863433896705197, 'maeLR': 7.857176780272817, 'rmseLR': 12.347649838818601, 'R2RF': 0.6473918259213414, 'maeRF': 10.698236247649278, 'rmseRF': 19.77355050663056, 'R2DT': 0.734263104956572, 'maeDT': 9.320667734524053, 'rmseDT': 17.16581381584866, 'R2GBR': 0.7466087502783435, 'maeGBR': 8.799469470636394, 'rmseGBR': 16.83094772729247})\n",
    "df.append({'name': 'X5', 'variables': ['DepDelay', 'TaxiOut', 'HotDayOfWeek', 'HotIndOrigDest', 'Speed'], 'R2LR': 0.861890103017749, 'maeLR': 7.867812623708982, 'rmseLR': 12.361847068397935, 'R2RF': 0.6450061986902308, 'maeRF': 10.972519639797552, 'rmseRF': 19.980872071516536, 'R2DT': 0.7374275663556327, 'maeDT': 9.256949155299973, 'rmseDT': 17.184172320005104, 'R2GBR': 0.7402478789139912, 'maeGBR': 8.916626117462856, 'rmseGBR': 17.048795624738972})\n",
    "df.append({'name': 'X6', 'variables': ['DepDelay', 'TaxiOut', 'HotIndOrigDest', 'Speed', 'HotCRSCatDepTime', 'HotCRSCatArrTime', 'HotDepTime'], 'R2LR': 0.857932175860417, 'maeLR': 7.869501841196455, 'rmseLR': 12.564909943926322, 'R2RF': 0.6932635305087731, 'maeRF': 10.377749609744654, 'rmseRF': 18.532997429411278, 'R2DT': 0.7426814121619514, 'maeDT': 9.235528412342111, 'rmseDT': 16.974560476441024, 'R2GBR': 0.7393962128806398, 'maeGBR': 8.897008426472556, 'rmseGBR': 16.96102270986277})\n",
    "        \n",
    "df"
   ]
  },
  {
   "cell_type": "code",
   "execution_count": 90,
   "metadata": {},
   "outputs": [
    {
     "ename": "AttributeError",
     "evalue": "'list' object has no attribute 'name'",
     "output_type": "error",
     "traceback": [
      "\u001b[0;31m---------------------------------------------------------------------------\u001b[0m",
      "\u001b[0;31mAttributeError\u001b[0m                            Traceback (most recent call last)",
      "\u001b[0;32m<ipython-input-90-cb1ea9e97a5c>\u001b[0m in \u001b[0;36m<module>\u001b[0;34m\u001b[0m\n\u001b[1;32m      4\u001b[0m \u001b[0;32mimport\u001b[0m \u001b[0mseaborn\u001b[0m \u001b[0;32mas\u001b[0m \u001b[0msns\u001b[0m\u001b[0;34m\u001b[0m\u001b[0;34m\u001b[0m\u001b[0m\n\u001b[1;32m      5\u001b[0m \u001b[0;34m\u001b[0m\u001b[0m\n\u001b[0;32m----> 6\u001b[0;31m \u001b[0msns\u001b[0m\u001b[0;34m.\u001b[0m\u001b[0mbarplot\u001b[0m\u001b[0;34m(\u001b[0m\u001b[0mlist\u001b[0m\u001b[0;34m(\u001b[0m\u001b[0mA\u001b[0m\u001b[0;34m.\u001b[0m\u001b[0mname\u001b[0m\u001b[0;34m,\u001b[0m \u001b[0mlist\u001b[0m\u001b[0;34m(\u001b[0m\u001b[0mA\u001b[0m\u001b[0;34m.\u001b[0m\u001b[0mvalues\u001b[0m\u001b[0;34m(\u001b[0m\u001b[0;34m)\u001b[0m\u001b[0;34m)\u001b[0m\u001b[0;34m)\u001b[0m\u001b[0;34m)\u001b[0m\u001b[0;34m\u001b[0m\u001b[0;34m\u001b[0m\u001b[0m\n\u001b[0m\u001b[1;32m      7\u001b[0m \u001b[0;34m\u001b[0m\u001b[0m\n\u001b[1;32m      8\u001b[0m \u001b[0;31m#sax = sns.barplot(x=\"name\", y=\"variables\", hue=\"sex\", data=df)\u001b[0m\u001b[0;34m\u001b[0m\u001b[0;34m\u001b[0m\u001b[0;34m\u001b[0m\u001b[0m\n",
      "\u001b[0;31mAttributeError\u001b[0m: 'list' object has no attribute 'name'"
     ]
    }
   ],
   "source": [
    "import seaborn as sns\n",
    "\n",
    "\n",
    "import seaborn as sns\n",
    "\n",
    "sns.barplot(list(A.name, list(A.values())))\n",
    "\n",
    "#sax = sns.barplot(x=\"name\", y=\"variables\", hue=\"sex\", data=df)"
   ]
  },
  {
   "cell_type": "code",
   "execution_count": 91,
   "metadata": {},
   "outputs": [
    {
     "data": {
      "text/html": [
       "<div>\n",
       "<style scoped>\n",
       "    .dataframe tbody tr th:only-of-type {\n",
       "        vertical-align: middle;\n",
       "    }\n",
       "\n",
       "    .dataframe tbody tr th {\n",
       "        vertical-align: top;\n",
       "    }\n",
       "\n",
       "    .dataframe thead th {\n",
       "        text-align: right;\n",
       "    }\n",
       "</style>\n",
       "<table border=\"1\" class=\"dataframe\">\n",
       "  <thead>\n",
       "    <tr style=\"text-align: right;\">\n",
       "      <th></th>\n",
       "      <th>name</th>\n",
       "      <th>variables</th>\n",
       "      <th>R2LR</th>\n",
       "      <th>maeLR</th>\n",
       "      <th>rmseLR</th>\n",
       "      <th>R2RF</th>\n",
       "      <th>maeRF</th>\n",
       "      <th>rmseRF</th>\n",
       "      <th>R2DT</th>\n",
       "      <th>maeDT</th>\n",
       "      <th>rmseDT</th>\n",
       "      <th>R2GBR</th>\n",
       "      <th>maeGBR</th>\n",
       "      <th>rmseGBR</th>\n",
       "    </tr>\n",
       "  </thead>\n",
       "  <tbody>\n",
       "    <tr>\n",
       "      <th>0</th>\n",
       "      <td>X1</td>\n",
       "      <td>[DepDelay, TaxiOut]</td>\n",
       "      <td>0.863443</td>\n",
       "      <td>7.846345</td>\n",
       "      <td>12.305020</td>\n",
       "      <td>0.711323</td>\n",
       "      <td>9.632420</td>\n",
       "      <td>17.870397</td>\n",
       "      <td>0.739567</td>\n",
       "      <td>9.286871</td>\n",
       "      <td>16.973668</td>\n",
       "      <td>0.677975</td>\n",
       "      <td>10.291720</td>\n",
       "      <td>18.936929</td>\n",
       "    </tr>\n",
       "    <tr>\n",
       "      <th>1</th>\n",
       "      <td>X2</td>\n",
       "      <td>[DepDelay, TaxiOut, HotDepTime]</td>\n",
       "      <td>0.858356</td>\n",
       "      <td>7.867043</td>\n",
       "      <td>12.564305</td>\n",
       "      <td>0.661806</td>\n",
       "      <td>10.695816</td>\n",
       "      <td>19.317928</td>\n",
       "      <td>0.735974</td>\n",
       "      <td>9.276274</td>\n",
       "      <td>17.068707</td>\n",
       "      <td>0.731742</td>\n",
       "      <td>8.919500</td>\n",
       "      <td>17.405220</td>\n",
       "    </tr>\n",
       "    <tr>\n",
       "      <th>2</th>\n",
       "      <td>X3</td>\n",
       "      <td>[DepDelay, TaxiOut, HotIndOrigDest, HotDepTime]</td>\n",
       "      <td>0.859397</td>\n",
       "      <td>7.864282</td>\n",
       "      <td>12.472192</td>\n",
       "      <td>0.689347</td>\n",
       "      <td>10.391762</td>\n",
       "      <td>18.480953</td>\n",
       "      <td>0.742908</td>\n",
       "      <td>9.244541</td>\n",
       "      <td>16.812446</td>\n",
       "      <td>0.734007</td>\n",
       "      <td>8.970977</td>\n",
       "      <td>17.224535</td>\n",
       "    </tr>\n",
       "    <tr>\n",
       "      <th>3</th>\n",
       "      <td>X4</td>\n",
       "      <td>[DepDelay, TaxiOut, HotDayOfWeek, HotMonth, Sp...</td>\n",
       "      <td>0.863434</td>\n",
       "      <td>7.857177</td>\n",
       "      <td>12.347650</td>\n",
       "      <td>0.647392</td>\n",
       "      <td>10.698236</td>\n",
       "      <td>19.773551</td>\n",
       "      <td>0.734263</td>\n",
       "      <td>9.320668</td>\n",
       "      <td>17.165814</td>\n",
       "      <td>0.746609</td>\n",
       "      <td>8.799469</td>\n",
       "      <td>16.830948</td>\n",
       "    </tr>\n",
       "    <tr>\n",
       "      <th>4</th>\n",
       "      <td>X5</td>\n",
       "      <td>[DepDelay, TaxiOut, HotDayOfWeek, HotIndOrigDe...</td>\n",
       "      <td>0.861890</td>\n",
       "      <td>7.867813</td>\n",
       "      <td>12.361847</td>\n",
       "      <td>0.645006</td>\n",
       "      <td>10.972520</td>\n",
       "      <td>19.980872</td>\n",
       "      <td>0.737428</td>\n",
       "      <td>9.256949</td>\n",
       "      <td>17.184172</td>\n",
       "      <td>0.740248</td>\n",
       "      <td>8.916626</td>\n",
       "      <td>17.048796</td>\n",
       "    </tr>\n",
       "    <tr>\n",
       "      <th>5</th>\n",
       "      <td>X6</td>\n",
       "      <td>[DepDelay, TaxiOut, HotIndOrigDest, Speed, Hot...</td>\n",
       "      <td>0.857932</td>\n",
       "      <td>7.869502</td>\n",
       "      <td>12.564910</td>\n",
       "      <td>0.693264</td>\n",
       "      <td>10.377750</td>\n",
       "      <td>18.532997</td>\n",
       "      <td>0.742681</td>\n",
       "      <td>9.235528</td>\n",
       "      <td>16.974560</td>\n",
       "      <td>0.739396</td>\n",
       "      <td>8.897008</td>\n",
       "      <td>16.961023</td>\n",
       "    </tr>\n",
       "  </tbody>\n",
       "</table>\n",
       "</div>"
      ],
      "text/plain": [
       "  name                                          variables      R2LR     maeLR  \\\n",
       "0   X1                                [DepDelay, TaxiOut]  0.863443  7.846345   \n",
       "1   X2                    [DepDelay, TaxiOut, HotDepTime]  0.858356  7.867043   \n",
       "2   X3    [DepDelay, TaxiOut, HotIndOrigDest, HotDepTime]  0.859397  7.864282   \n",
       "3   X4  [DepDelay, TaxiOut, HotDayOfWeek, HotMonth, Sp...  0.863434  7.857177   \n",
       "4   X5  [DepDelay, TaxiOut, HotDayOfWeek, HotIndOrigDe...  0.861890  7.867813   \n",
       "5   X6  [DepDelay, TaxiOut, HotIndOrigDest, Speed, Hot...  0.857932  7.869502   \n",
       "\n",
       "      rmseLR      R2RF      maeRF     rmseRF      R2DT     maeDT     rmseDT  \\\n",
       "0  12.305020  0.711323   9.632420  17.870397  0.739567  9.286871  16.973668   \n",
       "1  12.564305  0.661806  10.695816  19.317928  0.735974  9.276274  17.068707   \n",
       "2  12.472192  0.689347  10.391762  18.480953  0.742908  9.244541  16.812446   \n",
       "3  12.347650  0.647392  10.698236  19.773551  0.734263  9.320668  17.165814   \n",
       "4  12.361847  0.645006  10.972520  19.980872  0.737428  9.256949  17.184172   \n",
       "5  12.564910  0.693264  10.377750  18.532997  0.742681  9.235528  16.974560   \n",
       "\n",
       "      R2GBR     maeGBR    rmseGBR  \n",
       "0  0.677975  10.291720  18.936929  \n",
       "1  0.731742   8.919500  17.405220  \n",
       "2  0.734007   8.970977  17.224535  \n",
       "3  0.746609   8.799469  16.830948  \n",
       "4  0.740248   8.916626  17.048796  \n",
       "5  0.739396   8.897008  16.961023  "
      ]
     },
     "execution_count": 91,
     "metadata": {},
     "output_type": "execute_result"
    }
   ],
   "source": [
    "import pandas as pd\n",
    "\n",
    "\n",
    "df = []\n",
    "df.append({'name': 'X1', 'variables': ['DepDelay', 'TaxiOut'],'R2LR': 0.8634434987176677, 'maeLR': 7.846344636291409, 'rmseLR': 12.3050200542969, 'R2RF': 0.7113226179229843, 'maeRF': 9.632419894894845, 'rmseRF': 17.870397493687378, 'R2DT': 0.7395671668525245, 'maeDT': 9.286871202251607, 'rmseDT': 16.973667925546085, 'R2GBR': 0.6779749591610146, 'maeGBR': 10.291720285041185, 'rmseGBR': 18.93692861799665})\n",
    "df.append({'name': 'X2', 'variables': ['DepDelay', 'TaxiOut', 'HotDepTime'], 'R2LR': 0.8583557878034125, 'maeLR': 7.867042776829008, 'rmseLR': 12.564304679339765, 'R2RF': 0.6618056282411904, 'maeRF': 10.69581629434264, 'rmseRF': 19.317928448876994, 'R2DT': 0.7359741049968364, 'maeDT': 9.276273778053989, 'rmseDT': 17.06870714215145, 'R2GBR': 0.7317420904346483, 'maeGBR': 8.919500016072934, 'rmseGBR': 17.40522038041701})\n",
    "df.append({'name': 'X3', 'variables': ['DepDelay', 'TaxiOut', 'HotIndOrigDest', 'HotDepTime'], 'R2LR': 0.8593969897926946, 'maeLR': 7.864282380701789, 'rmseLR': 12.472191555732724, 'R2RF': 0.6893474138730874, 'maeRF': 10.391762216453797, 'rmseRF': 18.48095278940399, 'R2DT': 0.7429083054863235, 'maeDT': 9.244540689810753, 'rmseDT': 16.812445684525386, 'R2GBR': 0.7340066674151544, 'maeGBR': 8.970977217618819, 'rmseGBR': 17.224534616062524})\n",
    "df.append({'name': 'X4', 'variables': ['DepDelay', 'TaxiOut', 'HotDayOfWeek', 'HotMonth', 'Speed'], 'R2LR': 0.863433896705197, 'maeLR': 7.857176780272817, 'rmseLR': 12.347649838818601, 'R2RF': 0.6473918259213414, 'maeRF': 10.698236247649278, 'rmseRF': 19.77355050663056, 'R2DT': 0.734263104956572, 'maeDT': 9.320667734524053, 'rmseDT': 17.16581381584866, 'R2GBR': 0.7466087502783435, 'maeGBR': 8.799469470636394, 'rmseGBR': 16.83094772729247})\n",
    "df.append({'name': 'X5', 'variables': ['DepDelay', 'TaxiOut', 'HotDayOfWeek', 'HotIndOrigDest', 'Speed'], 'R2LR': 0.861890103017749, 'maeLR': 7.867812623708982, 'rmseLR': 12.361847068397935, 'R2RF': 0.6450061986902308, 'maeRF': 10.972519639797552, 'rmseRF': 19.980872071516536, 'R2DT': 0.7374275663556327, 'maeDT': 9.256949155299973, 'rmseDT': 17.184172320005104, 'R2GBR': 0.7402478789139912, 'maeGBR': 8.916626117462856, 'rmseGBR': 17.048795624738972})\n",
    "df.append({'name': 'X6', 'variables': ['DepDelay', 'TaxiOut', 'HotIndOrigDest', 'Speed', 'HotCRSCatDepTime', 'HotCRSCatArrTime', 'HotDepTime'], 'R2LR': 0.857932175860417, 'maeLR': 7.869501841196455, 'rmseLR': 12.564909943926322, 'R2RF': 0.6932635305087731, 'maeRF': 10.377749609744654, 'rmseRF': 18.532997429411278, 'R2DT': 0.7426814121619514, 'maeDT': 9.235528412342111, 'rmseDT': 16.974560476441024, 'R2GBR': 0.7393962128806398, 'maeGBR': 8.897008426472556, 'rmseGBR': 16.96102270986277})\n",
    "\n",
    "DF = pd.DataFrame(df)\n",
    "DF\n",
    "\n"
   ]
  },
  {
   "cell_type": "code",
   "execution_count": 193,
   "metadata": {},
   "outputs": [
    {
     "data": {
      "text/plain": [
       "[Text(0, 0.5, 'RMSE'), Text(0.5, 0, 'Variables')]"
      ]
     },
     "execution_count": 193,
     "metadata": {},
     "output_type": "execute_result"
    },
    {
     "data": {
      "image/png": "[encoded data removed]",
      "text/plain": [
       "<Figure size 1080x360 with 4 Axes>"
      ]
     },
     "metadata": {},
     "output_type": "display_data"
    }
   ],
   "source": [
    "\n",
    "#RMSE\n",
    "\n",
    "\n",
    "fig, axes = plt.subplots(1, 4, figsize=(15, 5), sharey=True)\n",
    "#fig.suptitle('Comparing R2 per each model')\n",
    "\n",
    "\n",
    "sns.barplot(ax=axes[0], x=DF.name, y=DF.rmseLR)\n",
    "axes[0].set_title('Linear Regression')\n",
    "axes[0].set(xlabel='Variables', ylabel='RMSE')\n",
    "\n",
    "\n",
    "sns.barplot(ax=axes[1], x=DF.name, y=DF.rmseRF)\n",
    "axes[1].set_title('Random Forest')\n",
    "axes[1].set(xlabel='Variables',ylabel='RMSE')\n",
    "\n",
    "\n",
    "sns.barplot(ax=axes[2], x=DF.name, y=DF.rmseDT)\n",
    "axes[2].set_title('Decision Tree Regression')\n",
    "axes[2].set(xlabel='Variables',ylabel='RMSE')\n",
    "\n",
    "sns.barplot(ax=axes[3], x=DF.name, y=DF.rmseGBR)\n",
    "axes[3].set_title('Gradient Booster Tree Regression')\n",
    "axes[3].set(xlabel='Variables',ylabel='RMSE')\n",
    "\n",
    "\n",
    "\n"
   ]
  },
  {
   "cell_type": "code",
   "execution_count": null,
   "metadata": {},
   "outputs": [],
   "source": [
    "\n",
    "#MAE\n",
    "\n",
    "\n",
    "fig, axes = plt.subplots(1, 4, figsize=(15, 5), sharey=True)\n",
    "#fig.suptitle('Comparing R2 per each model')\n",
    "\n",
    "\n",
    "sns.barplot(ax=axes[0], x=DF.name, y=DF.maeLR)\n",
    "axes[0].set_title('Linear Regression')\n",
    "axes[0].set(xlabel='Variables', ylabel='MAE')\n",
    "\n",
    "\n",
    "sns.barplot(ax=axes[1], x=DF.name, y=DF.maeRF)\n",
    "axes[1].set_title('Random Forest')\n",
    "axes[1].set(xlabel='Variables',ylabel='MAE')\n",
    "\n",
    "\n",
    "sns.barplot(ax=axes[2], x=DF.name, y=DF.maeDT)\n",
    "axes[2].set_title('Decision Tree Regression')\n",
    "axes[2].set(xlabel='Variables',ylabel='MAE')\n",
    "\n",
    "sns.barplot(ax=axes[3], x=DF.name, y=DF.maeGBR)\n",
    "axes[3].set_title('Gradient Booster Tree Regression')\n",
    "axes[3].set(xlabel='Variables',ylabel='MAE')\n",
    "\n",
    "\n",
    "\n"
   ]
  },
  {
   "cell_type": "code",
   "execution_count": 190,
   "metadata": {},
   "outputs": [
    {
     "data": {
      "text/plain": [
       "[Text(0, 0.5, 'R2'), Text(0.5, 0, 'Variables')]"
      ]
     },
     "execution_count": 190,
     "metadata": {},
     "output_type": "execute_result"
    },
    {
     "data": {
      "image/png": "[encoded data removed]",
      "text/plain": [
       "<Figure size 1080x360 with 4 Axes>"
      ]
     },
     "metadata": {},
     "output_type": "display_data"
    }
   ],
   "source": [
    "\n",
    "#R2\n",
    "\n",
    "\n",
    "fig, axes = plt.subplots(1, 4, figsize=(15, 5), sharey=True)\n",
    "#fig.suptitle('Comparing R2 per each model')\n",
    "\n",
    "\n",
    "sns.barplot(ax=axes[0], x=DF.name, y=DF.R2LR)\n",
    "axes[0].set_title('Linear Regression')\n",
    "axes[0].set(xlabel='Variables', ylabel='R2')\n",
    "\n",
    "\n",
    "sns.barplot(ax=axes[1], x=DF.name, y=DF.R2RF)\n",
    "axes[1].set_title('Random Forest')\n",
    "axes[1].set(xlabel='Variables',ylabel='R2')\n",
    "\n",
    "\n",
    "sns.barplot(ax=axes[2], x=DF.name, y=DF.R2DT)\n",
    "axes[2].set_title('Decision Tree Regression')\n",
    "axes[2].set(xlabel='Variables',ylabel='R2')\n",
    "\n",
    "sns.barplot(ax=axes[3], x=DF.name, y=DF.R2GBR)\n",
    "axes[3].set_title('Gradient Booster Tree Regression')\n",
    "axes[3].set(xlabel='Variables',ylabel='R2')\n"
   ]
  },
  {
   "cell_type": "code",
   "execution_count": 172,
   "metadata": {},
   "outputs": [
    {
     "name": "stdout",
     "output_type": "stream",
     "text": [
      "  name                                          variables      R2LR     maeLR  \\\n",
      "0   X1                                [DepDelay, TaxiOut]  0.863443  7.846345   \n",
      "1   X2                    [DepDelay, TaxiOut, HotDepTime]  0.858356  7.867043   \n",
      "2   X3    [DepDelay, TaxiOut, HotIndOrigDest, HotDepTime]  0.859397  7.864282   \n",
      "3   X4  [DepDelay, TaxiOut, HotDayOfWeek, HotMonth, Sp...  0.863434  7.857177   \n",
      "4   X5  [DepDelay, TaxiOut, HotDayOfWeek, HotIndOrigDe...  0.861890  7.867813   \n",
      "5   X6  [DepDelay, TaxiOut, HotIndOrigDest, Speed, Hot...  0.857932  7.869502   \n",
      "\n",
      "      rmseLR      R2RF      maeRF     rmseRF      R2DT     maeDT     rmseDT  \\\n",
      "0  12.305020  0.711323   9.632420  17.870397  0.739567  9.286871  16.973668   \n",
      "1  12.564305  0.661806  10.695816  19.317928  0.735974  9.276274  17.068707   \n",
      "2  12.472192  0.689347  10.391762  18.480953  0.742908  9.244541  16.812446   \n",
      "3  12.347650  0.647392  10.698236  19.773551  0.734263  9.320668  17.165814   \n",
      "4  12.361847  0.645006  10.972520  19.980872  0.737428  9.256949  17.184172   \n",
      "5  12.564910  0.693264  10.377750  18.532997  0.742681  9.235528  16.974560   \n",
      "\n",
      "      R2GBR     maeGBR    rmseGBR  \n",
      "0  0.677975  10.291720  18.936929  \n",
      "1  0.731742   8.919500  17.405220  \n",
      "2  0.734007   8.970977  17.224535  \n",
      "3  0.746609   8.799469  16.830948  \n",
      "4  0.740248   8.916626  17.048796  \n",
      "5  0.739396   8.897008  16.961023  \n"
     ]
    },
    {
     "data": {
      "image/png": "[encoded data removed]",
      "text/plain": [
       "<Figure size 1332x756 with 4 Axes>"
      ]
     },
     "metadata": {},
     "output_type": "display_data"
    }
   ],
   "source": [
    "\n",
    "#R2\n",
    "\n",
    "\n",
    "fig, axes = plt.subplots(1, 4, figsize=(15, 5), sharey=True)\n",
    "#fig.suptitle('Comparing R2 per each model')\n",
    "\n",
    "\n",
    "sns.barplot(ax=axes[0], x=DF.name, y=DF.R2LR)\n",
    "axes[0].set_title('Linear Regression')\n",
    "axes[0].set(xlabel='Variables', ylabel='R2')\n",
    "\n",
    "\n",
    "sns.barplot(ax=axes[1], x=DF.name, y=DF.R2RF)\n",
    "axes[1].set_title('Random Forest')\n",
    "axes[1].set(xlabel='Variables',ylabel='R2')\n",
    "\n",
    "\n",
    "sns.barplot(ax=axes[2], x=DF.name, y=DF.R2DT)\n",
    "axes[2].set_title('Decision Tree Regression')\n",
    "axes[2].set(xlabel='Variables',ylabel='R2')\n",
    "\n",
    "sns.barplot(ax=axes[3], x=DF.name, y=DF.R2GBR)\n",
    "axes[3].set_title('Gradient Booster Tree Regression')\n",
    "axes[3].set(xlabel='Variables',ylabel='R2')\n",
    "\n",
    "\n"
   ]
  },
  {
   "cell_type": "code",
   "execution_count": 104,
   "metadata": {},
   "outputs": [
    {
     "data": {
      "text/html": [
       "\n",
       "<div id=\"altair-viz-f43dabc2e95f4dde95b1333633ee0de0\"></div>\n",
       "<script type=\"text/javascript\">\n",
       "  (function(spec, embedOpt){\n",
       "    const outputDiv = document.getElementById(\"altair-viz-f43dabc2e95f4dde95b1333633ee0de0\");\n",
       "    const paths = {\n",
       "      \"vega\": \"https://cdn.jsdelivr.net/npm//vega@5?noext\",\n",
       "      \"vega-lib\": \"https://cdn.jsdelivr.net/npm//vega-lib?noext\",\n",
       "      \"vega-lite\": \"https://cdn.jsdelivr.net/npm//vega-lite@4.0.2?noext\",\n",
       "      \"vega-embed\": \"https://cdn.jsdelivr.net/npm//vega-embed@6?noext\",\n",
       "    };\n",
       "\n",
       "    function loadScript(lib) {\n",
       "      return new Promise(function(resolve, reject) {\n",
       "        var s = document.createElement('script');\n",
       "        s.src = paths[lib];\n",
       "        s.async = true;\n",
       "        s.onload = () => resolve(paths[lib]);\n",
       "        s.onerror = () => reject(`Error loading script: ${paths[lib]}`);\n",
       "        document.getElementsByTagName(\"head\")[0].appendChild(s);\n",
       "      });\n",
       "    }\n",
       "\n",
       "    function showError(err) {\n",
       "      outputDiv.innerHTML = `<div class=\"error\" style=\"color:red;\">${err}</div>`;\n",
       "      throw err;\n",
       "    }\n",
       "\n",
       "    function displayChart(vegaEmbed) {\n",
       "      vegaEmbed(outputDiv, spec, embedOpt)\n",
       "        .catch(err => showError(`Javascript Error: ${err.message}<br>This usually means there's a typo in your chart specification. See the javascript console for the full traceback.`));\n",
       "    }\n",
       "\n",
       "    if(typeof define === \"function\" && define.amd) {\n",
       "      requirejs.config({paths});\n",
       "      require([\"vega-embed\"], displayChart, err => showError(`Error loading script: ${err.message}`));\n",
       "    } else if (typeof vegaEmbed === \"function\") {\n",
       "      displayChart(vegaEmbed);\n",
       "    } else {\n",
       "      loadScript(\"vega\")\n",
       "        .then(() => loadScript(\"vega-lite\"))\n",
       "        .then(() => loadScript(\"vega-embed\"))\n",
       "        .catch(showError)\n",
       "        .then(() => displayChart(vegaEmbed));\n",
       "    }\n",
       "  })({\"config\": {\"view\": {\"continuousWidth\": 400, \"continuousHeight\": 300, \"strokeOpacity\": 0}}, \"data\": {\"name\": \"data-cb748cf8451493c12ff1c6e6a7f5baec\"}, \"mark\": \"bar\", \"encoding\": {\"color\": {\"type\": \"nominal\", \"field\": \"DF\", \"scale\": {\"range\": [\"#96ceb4\", \"#ffcc5c\", \"#ff6f69\"]}}, \"column\": {\"type\": \"nominal\", \"field\": \"c1\", \"title\": null}, \"x\": {\"type\": \"nominal\", \"field\": \"c2\", \"title\": null}, \"y\": {\"type\": \"quantitative\", \"aggregate\": \"sum\", \"axis\": {\"grid\": false, \"title\": null}, \"field\": \"values\"}}, \"$schema\": \"https://vega.github.io/schema/vega-lite/v4.0.2.json\", \"datasets\": {\"data-cb748cf8451493c12ff1c6e6a7f5baec\": [{\"c1\": \"A\", \"c2\": \"I\", \"values\": 3.5751222808548313, \"DF\": \"DF1\"}, {\"c1\": \"A\", \"c2\": \"J\", \"values\": 1.5127773800921485, \"DF\": \"DF1\"}, {\"c1\": \"A\", \"c2\": \"K\", \"values\": 4.4074243800458515, \"DF\": \"DF1\"}, {\"c1\": \"B\", \"c2\": \"I\", \"values\": 0.20005252339547863, \"DF\": \"DF1\"}, {\"c1\": \"B\", \"c2\": \"J\", \"values\": 6.151911053563829, \"DF\": \"DF1\"}, {\"c1\": \"B\", \"c2\": \"K\", \"values\": 7.124537814727651, \"DF\": \"DF1\"}, {\"c1\": \"C\", \"c2\": \"I\", \"values\": 2.46672971100966, \"DF\": \"DF1\"}, {\"c1\": \"C\", \"c2\": \"J\", \"values\": 3.9317085738120507, \"DF\": \"DF1\"}, {\"c1\": \"C\", \"c2\": \"K\", \"values\": 7.162549191249772, \"DF\": \"DF1\"}, {\"c1\": \"D\", \"c2\": \"I\", \"values\": 8.591052412539964, \"DF\": \"DF1\"}, {\"c1\": \"D\", \"c2\": \"J\", \"values\": 4.832372246287214, \"DF\": \"DF1\"}, {\"c1\": \"D\", \"c2\": \"K\", \"values\": 5.8203237649050985, \"DF\": \"DF1\"}, {\"c1\": \"A\", \"c2\": \"I\", \"values\": 2.517959234068523, \"DF\": \"DF2\"}, {\"c1\": \"A\", \"c2\": \"J\", \"values\": 9.923716774678665, \"DF\": \"DF2\"}, {\"c1\": \"A\", \"c2\": \"K\", \"values\": 9.065932303685608, \"DF\": \"DF2\"}, {\"c1\": \"B\", \"c2\": \"I\", \"values\": 8.110441197319059, \"DF\": \"DF2\"}, {\"c1\": \"B\", \"c2\": \"J\", \"values\": 9.864475133648915, \"DF\": \"DF2\"}, {\"c1\": \"B\", \"c2\": \"K\", \"values\": 8.658885252108195, \"DF\": \"DF2\"}, {\"c1\": \"C\", \"c2\": \"I\", \"values\": 1.8899815930738517, \"DF\": \"DF2\"}, {\"c1\": \"C\", \"c2\": \"J\", \"values\": 0.0769772319990436, \"DF\": \"DF2\"}, {\"c1\": \"C\", \"c2\": \"K\", \"values\": 9.791884180902867, \"DF\": \"DF2\"}, {\"c1\": \"D\", \"c2\": \"I\", \"values\": 2.075679678939756, \"DF\": \"DF2\"}, {\"c1\": \"D\", \"c2\": \"J\", \"values\": 9.314890368235297, \"DF\": \"DF2\"}, {\"c1\": \"D\", \"c2\": \"K\", \"values\": 7.958329758362339, \"DF\": \"DF2\"}, {\"c1\": \"A\", \"c2\": \"I\", \"values\": 5.8929940816246695, \"DF\": \"DF3\"}, {\"c1\": \"A\", \"c2\": \"J\", \"values\": 4.778550422131021, \"DF\": \"DF3\"}, {\"c1\": \"A\", \"c2\": \"K\", \"values\": 7.124507372819778, \"DF\": \"DF3\"}, {\"c1\": \"B\", \"c2\": \"I\", \"values\": 7.072851586053167, \"DF\": \"DF3\"}, {\"c1\": \"B\", \"c2\": \"J\", \"values\": 9.522688240646623, \"DF\": \"DF3\"}, {\"c1\": \"B\", \"c2\": \"K\", \"values\": 6.054660079079507, \"DF\": \"DF3\"}, {\"c1\": \"C\", \"c2\": \"I\", \"values\": 4.368449504976187, \"DF\": \"DF3\"}, {\"c1\": \"C\", \"c2\": \"J\", \"values\": 8.200994105219744, \"DF\": \"DF3\"}, {\"c1\": \"C\", \"c2\": \"K\", \"values\": 4.8854485803881875, \"DF\": \"DF3\"}, {\"c1\": \"D\", \"c2\": \"I\", \"values\": 0.5495002545697547, \"DF\": \"DF3\"}, {\"c1\": \"D\", \"c2\": \"J\", \"values\": 6.112778576874854, \"DF\": \"DF3\"}, {\"c1\": \"D\", \"c2\": \"K\", \"values\": 6.152275721176687, \"DF\": \"DF3\"}]}}, {\"mode\": \"vega-lite\"});\n",
       "</script>"
      ],
      "text/plain": [
       "alt.Chart(...)"
      ]
     },
     "execution_count": 104,
     "metadata": {},
     "output_type": "execute_result"
    }
   ],
   "source": []
  }
 ],
 "metadata": {
  "kernelspec": {
   "display_name": "Python 3",
   "language": "python",
   "name": "python3"
  },
  "language_info": {
   "codemirror_mode": {
    "name": "ipython",
    "version": 3
   },
   "file_extension": ".py",
   "mimetype": "text/x-python",
   "name": "python",
   "nbconvert_exporter": "python",
   "pygments_lexer": "ipython3",
   "version": "3.8.6"
  }
 },
 "nbformat": 4,
 "nbformat_minor": 4
}
