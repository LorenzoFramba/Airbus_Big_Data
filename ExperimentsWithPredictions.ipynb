{
 "cells": [
  {
   "cell_type": "code",
   "execution_count": 1,
   "metadata": {},
   "outputs": [],
   "source": [
    "import findspark\n",
    "findspark.init()\n",
    "\n",
    "import pyspark\n",
    "import random"
   ]
  },
  {
   "cell_type": "code",
   "execution_count": 2,
   "metadata": {},
   "outputs": [],
   "source": [
    "from pyspark import SparkContext\n",
    "from pyspark.sql import SQLContext\n",
    "from pyspark.sql.session import SparkSession\n",
    "from pyspark.sql.types import *\n",
    "from pyspark.sql.functions import isnan, when, count, col"
   ]
  },
  {
   "cell_type": "code",
   "execution_count": 3,
   "metadata": {},
   "outputs": [],
   "source": [
    "filename = \"2004.csv\""
   ]
  },
  {
   "cell_type": "code",
   "execution_count": 4,
   "metadata": {},
   "outputs": [
    {
     "data": {
      "text/plain": [
       "DataFrame[Year: int, Month: int, DayofMonth: int, DayOfWeek: int, DepTime: string, CRSDepTime: int, ArrTime: string, CRSArrTime: int, UniqueCarrier: string, FlightNum: int, TailNum: string, ActualElapsedTime: string, CRSElapsedTime: int, AirTime: string, ArrDelay: string, DepDelay: string, Origin: string, Dest: string, Distance: int, TaxiIn: int, TaxiOut: int, Cancelled: int, CancellationCode: string, Diverted: int, CarrierDelay: int, WeatherDelay: int, NASDelay: int, SecurityDelay: int, LateAircraftDelay: int]"
      ]
     },
     "execution_count": 4,
     "metadata": {},
     "output_type": "execute_result"
    }
   ],
   "source": [
    "def _init_spark():\n",
    "    spark = SparkSession.builder.appName(\"Project\").getOrCreate()\n",
    "    sc = spark.sparkContext\n",
    "    return spark, sc\n",
    "\n",
    "spark, sc = _init_spark()\n",
    "\n",
    "sqlContext = SQLContext(sc)\n",
    "\n",
    "df = sqlContext.read.load(filename, \n",
    "                      format='com.databricks.spark.csv', \n",
    "                      header='true',\n",
    "                      delimiter=',',\n",
    "                      inferSchema='true')\n",
    "df.cache()"
   ]
  },
  {
   "cell_type": "code",
   "execution_count": 5,
   "metadata": {},
   "outputs": [],
   "source": [
    "col_to_drop = ['ArrTime', 'ActualElapsedTime', 'AirTime', 'TaxiIn', 'Diverted', 'CancellationCode',\n",
    "               'CarrierDelay', 'WeatherDelay', 'NASDelay', 'SecurityDelay', 'LateAircraftDelay', 'Year', 'TailNum', ]\n",
    "df = df.drop(*col_to_drop)\n",
    "\n",
    "df = df.withColumn(\"ArrDelay\", df[\"ArrDelay\"].cast(IntegerType()))\n",
    "df = df.withColumn(\"DepDelay\", df[\"DepDelay\"].cast(IntegerType()))\n",
    "df = df.na.drop(\"any\")"
   ]
  },
  {
   "cell_type": "code",
   "execution_count": 6,
   "metadata": {},
   "outputs": [
    {
     "name": "stdout",
     "output_type": "stream",
     "text": [
      "root\n",
      " |-- Month: integer (nullable = true)\n",
      " |-- DayofMonth: integer (nullable = true)\n",
      " |-- DayOfWeek: integer (nullable = true)\n",
      " |-- DepTime: string (nullable = true)\n",
      " |-- CRSDepTime: integer (nullable = true)\n",
      " |-- CRSArrTime: integer (nullable = true)\n",
      " |-- UniqueCarrier: string (nullable = true)\n",
      " |-- FlightNum: integer (nullable = true)\n",
      " |-- CRSElapsedTime: integer (nullable = true)\n",
      " |-- ArrDelay: integer (nullable = true)\n",
      " |-- DepDelay: integer (nullable = true)\n",
      " |-- Origin: string (nullable = true)\n",
      " |-- Dest: string (nullable = true)\n",
      " |-- Distance: integer (nullable = true)\n",
      " |-- TaxiOut: integer (nullable = true)\n",
      " |-- Cancelled: integer (nullable = true)\n",
      "\n"
     ]
    }
   ],
   "source": [
    "df.printSchema()"
   ]
  },
  {
   "cell_type": "code",
   "execution_count": 7,
   "metadata": {},
   "outputs": [
    {
     "name": "stdout",
     "output_type": "stream",
     "text": [
      "+-----+----------+---------+-------+----------+----------+-------------+---------+--------------+--------+--------+------+----+--------+-------+---------+\n",
      "|Month|DayofMonth|DayOfWeek|DepTime|CRSDepTime|CRSArrTime|UniqueCarrier|FlightNum|CRSElapsedTime|ArrDelay|DepDelay|Origin|Dest|Distance|TaxiOut|Cancelled|\n",
      "+-----+----------+---------+-------+----------+----------+-------------+---------+--------------+--------+--------+------+----+--------+-------+---------+\n",
      "|    1|        12|        1|    623|       630|       915|           UA|      462|           105|     -14|      -7|   ORD| CLT|     599|     11|        0|\n",
      "|    1|        13|        2|    621|       630|       915|           UA|      462|           105|      -4|      -9|   ORD| CLT|     599|     16|        0|\n",
      "|    1|        14|        3|    633|       630|       915|           UA|      462|           105|       5|       3|   ORD| CLT|     599|     15|        0|\n",
      "|    1|        15|        4|    627|       630|       915|           UA|      462|           105|     -16|      -3|   ORD| CLT|     599|     10|        0|\n",
      "|    1|        16|        5|    635|       630|       915|           UA|      462|           105|       3|       5|   ORD| CLT|     599|     13|        0|\n",
      "+-----+----------+---------+-------+----------+----------+-------------+---------+--------------+--------+--------+------+----+--------+-------+---------+\n",
      "only showing top 5 rows\n",
      "\n"
     ]
    }
   ],
   "source": [
    "df.show(5)"
   ]
  },
  {
   "cell_type": "markdown",
   "metadata": {},
   "source": [
    "### PCA with Linear regression"
   ]
  },
  {
   "cell_type": "code",
   "execution_count": 18,
   "metadata": {},
   "outputs": [],
   "source": [
    "from pyspark.ml.feature import VectorAssembler\n",
    "from pyspark.ml.feature import PCA\n",
    "from pyspark.ml.regression import LinearRegression\n",
    "from pyspark.ml import Pipeline\n",
    "from  pyspark.sql.functions import abs\n",
    "from pyspark.ml.evaluation import RegressionEvaluator"
   ]
  },
  {
   "cell_type": "code",
   "execution_count": 9,
   "metadata": {},
   "outputs": [],
   "source": [
    "for_PCA = df.drop('UniqueCarrier').drop(\"Origin\").drop(\"Dest\").drop(\"DepTime\")"
   ]
  },
  {
   "cell_type": "code",
   "execution_count": 10,
   "metadata": {},
   "outputs": [
    {
     "data": {
      "text/plain": [
       "['Month',\n",
       " 'DayofMonth',\n",
       " 'DayOfWeek',\n",
       " 'DepTime',\n",
       " 'CRSDepTime',\n",
       " 'CRSArrTime',\n",
       " 'UniqueCarrier',\n",
       " 'FlightNum',\n",
       " 'CRSElapsedTime',\n",
       " 'ArrDelay',\n",
       " 'DepDelay',\n",
       " 'Origin',\n",
       " 'Dest',\n",
       " 'Distance',\n",
       " 'TaxiOut',\n",
       " 'Cancelled']"
      ]
     },
     "execution_count": 10,
     "metadata": {},
     "output_type": "execute_result"
    }
   ],
   "source": [
    "df.columns"
   ]
  },
  {
   "cell_type": "code",
   "execution_count": 12,
   "metadata": {},
   "outputs": [
    {
     "data": {
      "text/plain": [
       "['DepDelay', 'Distance', 'TaxiOut', 'Cancelled']"
      ]
     },
     "execution_count": 12,
     "metadata": {},
     "output_type": "execute_result"
    }
   ],
   "source": [
    "for_PCA.columns[8:]"
   ]
  },
  {
   "cell_type": "code",
   "execution_count": 13,
   "metadata": {},
   "outputs": [],
   "source": [
    "#df_features  = df.drop(\"ArrDel\")\n",
    "assembler = VectorAssembler(inputCols=for_PCA.columns[:7]+for_PCA.columns[8:], outputCol='features')"
   ]
  },
  {
   "cell_type": "code",
   "execution_count": 14,
   "metadata": {},
   "outputs": [],
   "source": [
    "data = assembler.transform(for_PCA)"
   ]
  },
  {
   "cell_type": "code",
   "execution_count": 15,
   "metadata": {},
   "outputs": [],
   "source": [
    "pca = PCA(k=2, inputCol='features', outputCol='PCAfeatures')"
   ]
  },
  {
   "cell_type": "code",
   "execution_count": 16,
   "metadata": {},
   "outputs": [
    {
     "data": {
      "text/plain": [
       "{Param(parent='PCA_4497475dc9c7', name='outputCol', doc='output column name.'): 'PCAfeatures',\n",
       " Param(parent='PCA_4497475dc9c7', name='k', doc='the number of principal components'): 2,\n",
       " Param(parent='PCA_4497475dc9c7', name='inputCol', doc='input column name.'): 'features'}"
      ]
     },
     "execution_count": 16,
     "metadata": {},
     "output_type": "execute_result"
    }
   ],
   "source": [
    "pca.extractParamMap()"
   ]
  },
  {
   "cell_type": "code",
   "execution_count": 17,
   "metadata": {},
   "outputs": [],
   "source": [
    "pca_model = pca.fit(data)"
   ]
  },
  {
   "cell_type": "code",
   "execution_count": 18,
   "metadata": {},
   "outputs": [],
   "source": [
    "pca_data = pca_model.transform(data).select('PCAfeatures', 'ArrDelay')"
   ]
  },
  {
   "cell_type": "code",
   "execution_count": 19,
   "metadata": {},
   "outputs": [
    {
     "data": {
      "text/plain": [
       "[Row(PCAfeatures=DenseVector([381.4072, 1108.3639]), ArrDelay=-14),\n",
       " Row(PCAfeatures=DenseVector([381.4053, 1108.3559]), ArrDelay=-4),\n",
       " Row(PCAfeatures=DenseVector([381.4088, 1108.4381]), ArrDelay=5),\n",
       " Row(PCAfeatures=DenseVector([381.4085, 1108.3906]), ArrDelay=-16),\n",
       " Row(PCAfeatures=DenseVector([381.4098, 1108.4497]), ArrDelay=3)]"
      ]
     },
     "execution_count": 19,
     "metadata": {},
     "output_type": "execute_result"
    }
   ],
   "source": [
    "pca_data.take(5)"
   ]
  },
  {
   "cell_type": "code",
   "execution_count": 20,
   "metadata": {},
   "outputs": [],
   "source": [
    "#output = assembler.transform(for_PCA).select('features', 'ArrDelay')"
   ]
  },
  {
   "cell_type": "code",
   "execution_count": 21,
   "metadata": {},
   "outputs": [],
   "source": [
    "train,test = pca_data.randomSplit([0.75, 0.25])"
   ]
  },
  {
   "cell_type": "code",
   "execution_count": 22,
   "metadata": {},
   "outputs": [
    {
     "name": "stdout",
     "output_type": "stream",
     "text": [
      "+--------------------+--------+\n",
      "|         PCAfeatures|ArrDelay|\n",
      "+--------------------+--------+\n",
      "|[-577.11914502349...|      38|\n",
      "|[-573.96073299046...|      57|\n",
      "|[-573.95997417472...|      19|\n",
      "|[-573.95986870465...|      96|\n",
      "|[-573.95932089870...|      -7|\n",
      "+--------------------+--------+\n",
      "only showing top 5 rows\n",
      "\n"
     ]
    }
   ],
   "source": [
    "train.show(5)"
   ]
  },
  {
   "cell_type": "code",
   "execution_count": 23,
   "metadata": {},
   "outputs": [],
   "source": [
    "lin_reg = LinearRegression(featuresCol = 'PCAfeatures', labelCol='ArrDelay')\n",
    "linear_model = lin_reg.fit(train)"
   ]
  },
  {
   "cell_type": "code",
   "execution_count": 24,
   "metadata": {},
   "outputs": [
    {
     "name": "stdout",
     "output_type": "stream",
     "text": [
      "Coefficients: [-2.2058648577523622e-05,0.0070673568157513765]\n",
      "\n",
      "Intercept: -7.841051894839074\n"
     ]
    }
   ],
   "source": [
    "print(\"Coefficients: \" + str(linear_model.coefficients))\n",
    "print(\"\\nIntercept: \" + str(linear_model.intercept))"
   ]
  },
  {
   "cell_type": "code",
   "execution_count": 25,
   "metadata": {},
   "outputs": [
    {
     "name": "stdout",
     "output_type": "stream",
     "text": [
      "RMSE: 33.115509\n",
      "\n",
      "r2: 0.017654\n"
     ]
    }
   ],
   "source": [
    "trainSummary = linear_model.summary\n",
    "print(\"RMSE: %f\" % trainSummary.rootMeanSquaredError)\n",
    "print(\"\\nr2: %f\" % trainSummary.r2)"
   ]
  },
  {
   "cell_type": "code",
   "execution_count": 27,
   "metadata": {},
   "outputs": [
    {
     "name": "stdout",
     "output_type": "stream",
     "text": [
      "+-----------------+--------+------------------+--------------------+\n",
      "|       prediction|ArrDelay|          Accuracy|         PCAfeatures|\n",
      "+-----------------+--------+------------------+--------------------+\n",
      "|5.887377655037643|     -41|114.35945769521376|[-573.95422382875...|\n",
      "|5.887591804983934|      29| 79.69795929315885|[-573.95157573531...|\n",
      "|5.887926814863498|       4|47.198170371587445|[-573.95138887744...|\n",
      "| 5.88810054743924|      24| 75.46624771900316|[-573.95123802515...|\n",
      "| 5.88774821565905|      30| 80.37417261446983|[-573.95096378065...|\n",
      "| 5.88788571247232|      14| 57.94367348234057|[-573.95010322466...|\n",
      "|4.386676838124735|       8|45.166539523440804|[-563.65517998286...|\n",
      "| 4.38642363121876|       2|119.32118156093799|[-563.65433222498...|\n",
      "|4.386405560539499|       9| 51.26216043845001|[-563.65400686856...|\n",
      "| 4.38615965540602|      -9| 148.7351072822891|[-563.65344580363...|\n",
      "+-----------------+--------+------------------+--------------------+\n",
      "only showing top 10 rows\n",
      "\n"
     ]
    }
   ],
   "source": [
    "predictions = linear_model.transform(test)\n",
    "x =((predictions['ArrDelay']-predictions['prediction'])/predictions['ArrDelay'])*100\n",
    "predictions = predictions.withColumn('Accuracy',abs(x))\n",
    "predictions.select(\"prediction\",\"ArrDelay\",\"Accuracy\",\"PCAfeatures\").show(10)"
   ]
  },
  {
   "cell_type": "code",
   "execution_count": 28,
   "metadata": {},
   "outputs": [
    {
     "name": "stdout",
     "output_type": "stream",
     "text": [
      "R Squared (R2) on test data = 0.0174602\n"
     ]
    }
   ],
   "source": [
    "pred_evaluator = RegressionEvaluator(predictionCol=\"prediction\", \\\n",
    "                 labelCol=\"ArrDelay\",metricName=\"r2\")\n",
    "print(\"R Squared (R2) on test data = %g\" % pred_evaluator.evaluate(predictions))"
   ]
  },
  {
   "cell_type": "code",
   "execution_count": null,
   "metadata": {},
   "outputs": [],
   "source": []
  },
  {
   "cell_type": "markdown",
   "metadata": {},
   "source": [
    "### Generalized linear regression"
   ]
  },
  {
   "cell_type": "code",
   "execution_count": 9,
   "metadata": {},
   "outputs": [],
   "source": [
    "features = df.select(['DepDelay', 'TaxiOut'])\n",
    "\n",
    "gen_assembler = VectorAssembler(\n",
    "    inputCols=features.columns,\n",
    "    outputCol='features')\n",
    "\n",
    "gen_output = gen_assembler.transform(df).select('features','ArrDelay')"
   ]
  },
  {
   "cell_type": "code",
   "execution_count": 49,
   "metadata": {},
   "outputs": [
    {
     "name": "stdout",
     "output_type": "stream",
     "text": [
      "+-----------+--------+\n",
      "|   features|ArrDelay|\n",
      "+-----------+--------+\n",
      "|[-7.0,11.0]|     -14|\n",
      "|[-9.0,16.0]|      -4|\n",
      "| [3.0,15.0]|       5|\n",
      "|[-3.0,10.0]|     -16|\n",
      "| [5.0,13.0]|       3|\n",
      "+-----------+--------+\n",
      "only showing top 5 rows\n",
      "\n"
     ]
    }
   ],
   "source": [
    "gen_output.show(5)"
   ]
  },
  {
   "cell_type": "code",
   "execution_count": 50,
   "metadata": {},
   "outputs": [],
   "source": [
    "gen_train,gen_test = gen_output.randomSplit([0.75, 0.25])"
   ]
  },
  {
   "cell_type": "code",
   "execution_count": 51,
   "metadata": {},
   "outputs": [],
   "source": [
    "from pyspark.ml.regression import GeneralizedLinearRegression"
   ]
  },
  {
   "cell_type": "code",
   "execution_count": 81,
   "metadata": {},
   "outputs": [],
   "source": [
    "glr = GeneralizedLinearRegression(family=\"gaussian\", link=\"Identity\", maxIter=10, regParam=0.3, labelCol='ArrDelay')"
   ]
  },
  {
   "cell_type": "code",
   "execution_count": 82,
   "metadata": {},
   "outputs": [],
   "source": [
    "gen_model = glr.fit(gen_train)"
   ]
  },
  {
   "cell_type": "code",
   "execution_count": 83,
   "metadata": {},
   "outputs": [
    {
     "name": "stdout",
     "output_type": "stream",
     "text": [
      "Coefficients: [0.995425321448535,0.430985604572551]\n",
      "\n",
      "Intercept: -8.207030823746992\n"
     ]
    }
   ],
   "source": [
    "print(\"Coefficients: \" + str(gen_model.coefficients))\n",
    "print(\"\\nIntercept: \" + str(gen_model.intercept))"
   ]
  },
  {
   "cell_type": "code",
   "execution_count": 84,
   "metadata": {},
   "outputs": [
    {
     "data": {
      "text/plain": [
       "[0.0, 0.0, 0.0]"
      ]
     },
     "execution_count": 84,
     "metadata": {},
     "output_type": "execute_result"
    }
   ],
   "source": [
    "trainSummary = gen_model.summary\n",
    "trainSummary.pValues"
   ]
  },
  {
   "cell_type": "code",
   "execution_count": 85,
   "metadata": {},
   "outputs": [
    {
     "name": "stdout",
     "output_type": "stream",
     "text": [
      "+-------------------+--------+------------------+--------------+\n",
      "|         prediction|ArrDelay|          Accuracy|      features|\n",
      "+-------------------+--------+------------------+--------------+\n",
      "| -8.207030823746992|     -23| 64.31725728805657|     (2,[],[])|\n",
      "| -8.207030823746992|     -23| 64.31725728805657|     (2,[],[])|\n",
      "| -8.207030823746992|     -15| 45.28646117502005|     (2,[],[])|\n",
      "| -8.207030823746992|     -10| 17.92969176253008|     (2,[],[])|\n",
      "| -8.207030823746992|      -8|   2.5878852968374|     (2,[],[])|\n",
      "| -8.207030823746992|      -3|173.56769412489973|     (2,[],[])|\n",
      "| -8.207030823746992|       1| 920.7030823746992|     (2,[],[])|\n",
      "| -96.50687265499955|       5|2030.1374530999913|[-174.0,197.0]|\n",
      "|-60.174809228353176|      10| 701.7480922835318|  [-60.0,18.0]|\n",
      "|-27.809304576095172|       3|1026.9768192031725|  [-50.0,70.0]|\n",
      "+-------------------+--------+------------------+--------------+\n",
      "only showing top 10 rows\n",
      "\n"
     ]
    }
   ],
   "source": [
    "predictions = gen_model.transform(gen_test)\n",
    "x =((predictions['ArrDelay']-predictions['prediction'])/predictions['ArrDelay'])*100\n",
    "predictions = predictions.withColumn('Accuracy',abs(x))\n",
    "predictions.select(\"prediction\",\"ArrDelay\",\"Accuracy\",\"features\").show(10)"
   ]
  },
  {
   "cell_type": "code",
   "execution_count": 86,
   "metadata": {},
   "outputs": [
    {
     "name": "stdout",
     "output_type": "stream",
     "text": [
      "R Squared (R2) on test data = 0.857663\n"
     ]
    }
   ],
   "source": [
    "pred_evaluator = RegressionEvaluator(predictionCol=\"prediction\", \\\n",
    "                 labelCol=\"ArrDelay\",metricName=\"r2\")\n",
    "print(\"R Squared (R2) on test data = %g\" % pred_evaluator.evaluate(predictions))"
   ]
  },
  {
   "cell_type": "markdown",
   "metadata": {},
   "source": [
    "### Decision Tree and Random Forest Regressions"
   ]
  },
  {
   "cell_type": "code",
   "execution_count": 10,
   "metadata": {},
   "outputs": [],
   "source": [
    "from pyspark.ml.regression import DecisionTreeRegressor\n",
    "from pyspark.ml.feature import VectorIndexer, VectorAssembler"
   ]
  },
  {
   "cell_type": "code",
   "execution_count": 11,
   "metadata": {},
   "outputs": [],
   "source": [
    "features = df.select(['DepDelay', 'TaxiOut', 'ArrDelay'])\n",
    "\n",
    "gen_assembler = VectorAssembler(\n",
    "    inputCols=features.columns[:-1],\n",
    "    outputCol='features')\n",
    "\n",
    "gen_output = gen_assembler.transform(df).select('features','ArrDelay')\n",
    "\n",
    "featureIndexer = VectorIndexer(inputCol='features', outputCol='IndexedFeatures').fit(gen_output)"
   ]
  },
  {
   "cell_type": "code",
   "execution_count": null,
   "metadata": {},
   "outputs": [],
   "source": [
    "(train, test) = gen_output.randomSplit([0.7, 0.3])"
   ]
  },
  {
   "cell_type": "markdown",
   "metadata": {},
   "source": [
    "### Decision Tree Regression"
   ]
  },
  {
   "cell_type": "code",
   "execution_count": 41,
   "metadata": {},
   "outputs": [],
   "source": [
    "dt = DecisionTreeRegressor(featuresCol=\"IndexedFeatures\", labelCol='ArrDelay')"
   ]
  },
  {
   "cell_type": "code",
   "execution_count": 42,
   "metadata": {},
   "outputs": [],
   "source": [
    "pipeline = Pipeline(stages=[featureIndexer, dt])"
   ]
  },
  {
   "cell_type": "code",
   "execution_count": 43,
   "metadata": {},
   "outputs": [],
   "source": [
    "# Train model.  This also runs the indexer.\n",
    "model = pipeline.fit(train)"
   ]
  },
  {
   "cell_type": "code",
   "execution_count": 46,
   "metadata": {},
   "outputs": [
    {
     "name": "stdout",
     "output_type": "stream",
     "text": [
      "+-------------------+--------+------------+\n",
      "|         prediction|ArrDelay|    features|\n",
      "+-------------------+--------+------------+\n",
      "|-7.5995709293313665|     -25|   (2,[],[])|\n",
      "|-7.5995709293313665|     -21|   (2,[],[])|\n",
      "|-7.5995709293313665|     -18|   (2,[],[])|\n",
      "|-7.5995709293313665|      -8|   (2,[],[])|\n",
      "|-7.5995709293313665|      -2|   (2,[],[])|\n",
      "|-7.5995709293313665|      -2|   (2,[],[])|\n",
      "|-7.5995709293313665|      -2|   (2,[],[])|\n",
      "|-7.5995709293313665|       5|   (2,[],[])|\n",
      "|-7.5995709293313665|      -7|[-230.0,5.0]|\n",
      "|-7.5995709293313665|     -33| [-34.0,3.0]|\n",
      "|  32.15366308109039|      -5|[-34.0,62.0]|\n",
      "|-7.5995709293313665|     -44|[-32.0,10.0]|\n",
      "|-7.5995709293313665|     -34| [-31.0,4.0]|\n",
      "| 0.3736192866377671|     -22|[-30.0,25.0]|\n",
      "|  32.15366308109039|      -5|[-30.0,41.0]|\n",
      "|-7.5995709293313665|     -35|[-29.0,14.0]|\n",
      "|-7.5995709293313665|     -31|[-29.0,18.0]|\n",
      "|-7.5995709293313665|     -29|[-28.0,11.0]|\n",
      "|-7.5995709293313665|     -20|[-28.0,13.0]|\n",
      "| 0.3736192866377671|      -2|[-28.0,34.0]|\n",
      "|-7.5995709293313665|     -31| [-27.0,4.0]|\n",
      "|-7.5995709293313665|     -29| [-27.0,7.0]|\n",
      "|-7.5995709293313665|     -42| [-27.0,9.0]|\n",
      "| 11.303001330229465|       0|[-27.0,38.0]|\n",
      "|-7.5995709293313665|     -31| [-26.0,3.0]|\n",
      "+-------------------+--------+------------+\n",
      "only showing top 25 rows\n",
      "\n"
     ]
    }
   ],
   "source": [
    "# Make predictions.\n",
    "predictions = model.transform(test)\n",
    "\n",
    "# Select example rows to display.\n",
    "predictions.select(\"prediction\", 'ArrDelay', \"features\").show(25)"
   ]
  },
  {
   "cell_type": "code",
   "execution_count": 49,
   "metadata": {},
   "outputs": [
    {
     "name": "stdout",
     "output_type": "stream",
     "text": [
      "Root Mean Squared Error (RMSE) on test data = 17.6589\n",
      "R Squared (R2) on test data = 0.718146\n",
      "DecisionTreeRegressionModel: uid=DecisionTreeRegressor_6a94b21311e8, depth=5, numNodes=49, numFeatures=2\n"
     ]
    }
   ],
   "source": [
    "evaluator = RegressionEvaluator(\n",
    "    labelCol='ArrDelay', predictionCol=\"prediction\", metricName=\"rmse\")\n",
    "rmse = evaluator.evaluate(predictions)\n",
    "print(\"Root Mean Squared Error (RMSE) on test data = %g\" % rmse)\n",
    "\n",
    "pred_evaluator = RegressionEvaluator(predictionCol=\"prediction\", \\\n",
    "                 labelCol=\"ArrDelay\",metricName=\"r2\")\n",
    "print(\"R Squared (R2) on test data = %g\" % pred_evaluator.evaluate(predictions))\n",
    "\n",
    "treeModel = model.stages[1]\n",
    "# summary only\n",
    "print(treeModel)"
   ]
  },
  {
   "cell_type": "markdown",
   "metadata": {},
   "source": [
    "### Random Forest Regression"
   ]
  },
  {
   "cell_type": "code",
   "execution_count": null,
   "metadata": {},
   "outputs": [],
   "source": [
    "from pyspark.ml.regression import RandomForestRegressor"
   ]
  },
  {
   "cell_type": "code",
   "execution_count": null,
   "metadata": {},
   "outputs": [],
   "source": [
    "rf = RandomForestRegressor(featuresCol=\"IndexedFeatures\", labelCol='ArrDelay')\n",
    "pipeline = Pipeline(stages=[featureIndexer, rf])"
   ]
  },
  {
   "cell_type": "code",
   "execution_count": null,
   "metadata": {},
   "outputs": [],
   "source": [
    "model = pipeline.fit(train)"
   ]
  },
  {
   "cell_type": "code",
   "execution_count": null,
   "metadata": {},
   "outputs": [],
   "source": [
    "predictions = model.transform(test)"
   ]
  },
  {
   "cell_type": "code",
   "execution_count": null,
   "metadata": {},
   "outputs": [],
   "source": [
    "predictions.select(\"prediction\", \"ArrDelay\", \"features\").show(25)"
   ]
  },
  {
   "cell_type": "code",
   "execution_count": 66,
   "metadata": {},
   "outputs": [
    {
     "name": "stdout",
     "output_type": "stream",
     "text": [
      "Root Mean Squared Error (RMSE) on test data = 17.4934\n",
      "R Squared (R2) on test data = 0.723404\n",
      "RandomForestRegressionModel: uid=RandomForestRegressor_89b16ab5a513, numTrees=20, numFeatures=2\n"
     ]
    }
   ],
   "source": [
    "evaluator = RegressionEvaluator(\n",
    "    labelCol='ArrDelay', predictionCol=\"prediction\", metricName=\"rmse\")\n",
    "rmse = evaluator.evaluate(predictions)\n",
    "print(\"Root Mean Squared Error (RMSE) on test data = %g\" % rmse)\n",
    "\n",
    "pred_evaluator = RegressionEvaluator(predictionCol=\"prediction\", \\\n",
    "                 labelCol=\"ArrDelay\",metricName=\"r2\")\n",
    "print(\"R Squared (R2) on test data = %g\" % pred_evaluator.evaluate(predictions))\n",
    "\n",
    "rfModel = model.stages[1]\n",
    "print(rfModel)"
   ]
  },
  {
   "cell_type": "markdown",
   "metadata": {},
   "source": [
    "### Factorization Machines Regressor"
   ]
  },
  {
   "cell_type": "code",
   "execution_count": 33,
   "metadata": {},
   "outputs": [],
   "source": [
    "features = df.drop('DepTime').drop('UniqueCarrier').drop('Origin').drop('Dest')"
   ]
  },
  {
   "cell_type": "code",
   "execution_count": 34,
   "metadata": {},
   "outputs": [
    {
     "data": {
      "text/plain": [
       "['Month',\n",
       " 'DayofMonth',\n",
       " 'DayOfWeek',\n",
       " 'CRSDepTime',\n",
       " 'CRSArrTime',\n",
       " 'FlightNum',\n",
       " 'CRSElapsedTime',\n",
       " 'ArrDelay',\n",
       " 'DepDelay',\n",
       " 'Distance',\n",
       " 'TaxiOut',\n",
       " 'Cancelled']"
      ]
     },
     "execution_count": 34,
     "metadata": {},
     "output_type": "execute_result"
    }
   ],
   "source": [
    "features.columns"
   ]
  },
  {
   "cell_type": "code",
   "execution_count": 36,
   "metadata": {},
   "outputs": [],
   "source": [
    "gen_assembler = VectorAssembler(\n",
    "    inputCols=features.columns[:7]+features.columns[8:],\n",
    "    outputCol='features')\n",
    "\n",
    "gen_output = gen_assembler.transform(df).select('features','ArrDelay')"
   ]
  },
  {
   "cell_type": "code",
   "execution_count": 37,
   "metadata": {},
   "outputs": [
    {
     "name": "stdout",
     "output_type": "stream",
     "text": [
      "+--------+\n",
      "|ArrDelay|\n",
      "+--------+\n",
      "|     -14|\n",
      "|      -4|\n",
      "|       5|\n",
      "|     -16|\n",
      "|       3|\n",
      "|     -10|\n",
      "|      29|\n",
      "|     -11|\n",
      "|     -12|\n",
      "|     -14|\n",
      "|       8|\n",
      "|     -14|\n",
      "+--------+\n",
      "only showing top 12 rows\n",
      "\n"
     ]
    }
   ],
   "source": [
    "gen_output.select(\"ArrDelay\").show(12)"
   ]
  },
  {
   "cell_type": "code",
   "execution_count": 38,
   "metadata": {},
   "outputs": [],
   "source": [
    "from pyspark.ml.regression import FMRegressor\n",
    "from pyspark.ml.feature import MinMaxScaler"
   ]
  },
  {
   "cell_type": "code",
   "execution_count": 39,
   "metadata": {},
   "outputs": [],
   "source": [
    "# Scale features.\n",
    "featureScaler = MinMaxScaler(inputCol=\"features\", outputCol=\"scaledFeatures\").fit(gen_output)\n"
   ]
  },
  {
   "cell_type": "code",
   "execution_count": 40,
   "metadata": {},
   "outputs": [],
   "source": [
    "(train, test) = gen_output.randomSplit([0.7, 0.3])"
   ]
  },
  {
   "cell_type": "code",
   "execution_count": 41,
   "metadata": {},
   "outputs": [],
   "source": [
    "# Train a FM model.\n",
    "fm = FMRegressor(featuresCol=\"scaledFeatures\", stepSize=0.001, labelCol='ArrDelay')\n",
    "\n",
    "# Create a Pipeline.\n",
    "pipeline = Pipeline(stages=[featureScaler, fm])\n",
    "\n",
    "# Train model.\n",
    "model = pipeline.fit(train)"
   ]
  },
  {
   "cell_type": "code",
   "execution_count": 42,
   "metadata": {},
   "outputs": [
    {
     "name": "stdout",
     "output_type": "stream",
     "text": [
      "+------------------+--------+--------------------+\n",
      "|        prediction|ArrDelay|            features|\n",
      "+------------------+--------+--------------------+\n",
      "|0.6931460279487999|      -5|[1.0,1.0,4.0,10.0...|\n",
      "|0.7439296526564556|     -11|[1.0,1.0,4.0,15.0...|\n",
      "|0.5867121567901064|     -27|[1.0,1.0,4.0,40.0...|\n",
      "|0.3896635958684287|     -15|[1.0,1.0,4.0,44.0...|\n",
      "|0.6615812978882051|       1|[1.0,1.0,4.0,44.0...|\n",
      "+------------------+--------+--------------------+\n",
      "only showing top 5 rows\n",
      "\n"
     ]
    }
   ],
   "source": [
    "# Make predictions.\n",
    "predictions = model.transform(test)\n",
    "\n",
    "# Select example rows to display.\n",
    "predictions.select(\"prediction\", 'ArrDelay', \"features\").show(5)"
   ]
  },
  {
   "cell_type": "code",
   "execution_count": 43,
   "metadata": {},
   "outputs": [
    {
     "name": "stdout",
     "output_type": "stream",
     "text": [
      "Root Mean Squared Error (RMSE) on test data = 33.7432\n",
      "R Squared (R2) on test data = -0.0202498\n",
      "Factors: DenseMatrix([[-0.13734176,  0.13575624, -0.1220944 ,  0.15238986,  0.12498728,\n",
      "               0.14471925,  0.1413182 ,  0.14007785],\n",
      "             [-0.13192597,  0.13580635, -0.15355515,  0.11318518,  0.13977094,\n",
      "               0.13316608,  0.1235364 ,  0.13413498],\n",
      "             [-0.12827936,  0.12645923, -0.14623821,  0.13907225,  0.12067736,\n",
      "               0.136871  ,  0.13240495,  0.13535771],\n",
      "             [-0.1247703 ,  0.13503355, -0.14268182,  0.14192383,  0.13903658,\n",
      "               0.13126824,  0.13824103,  0.12818781],\n",
      "             [-0.13956542,  0.13233411, -0.13272553,  0.13519752,  0.13791362,\n",
      "               0.13503472,  0.13518516,  0.14467738],\n",
      "             [-0.14617786,  0.12842154, -0.13927865,  0.13899924,  0.1418498 ,\n",
      "               0.14035993,  0.14872769,  0.13289414],\n",
      "             [-0.12038997,  0.13811026, -0.1231779 ,  0.1251023 ,  0.13239863,\n",
      "               0.12617951,  0.12055846,  0.13736313],\n",
      "             [-0.13230491,  0.13705655, -0.14384678,  0.12662883,  0.13704005,\n",
      "               0.14374219,  0.14090649,  0.12303413],\n",
      "             [-0.15203944,  0.1348515 , -0.13753673,  0.13122161,  0.13316259,\n",
      "               0.12463018,  0.13137243,  0.1450734 ],\n",
      "             [-0.11625141,  0.1466634 , -0.13283099,  0.12568431,  0.13636996,\n",
      "               0.14600605,  0.12464367,  0.12316272],\n",
      "             [-0.14091577,  0.13065003, -0.12467263,  0.14295023,  0.13327145,\n",
      "               0.13320507,  0.14334823,  0.15175781]])\n",
      "Linear: [0.09612600628943828,0.09634116990642934,0.09567392970109544,0.09688060933546819,0.09682758231576372,0.09608552579239224,0.09603444569345383,0.09670855829792631,0.09594070098105437,0.0983862815872902,0.09630400783075575]\n",
      "Intercept: 0.09630400790734851\n"
     ]
    }
   ],
   "source": [
    "# Select (prediction, true label) and compute test error\n",
    "evaluator = RegressionEvaluator(\n",
    "    labelCol='ArrDelay', predictionCol=\"prediction\", metricName=\"rmse\")\n",
    "rmse = evaluator.evaluate(predictions)\n",
    "print(\"Root Mean Squared Error (RMSE) on test data = %g\" % rmse)\n",
    "\n",
    "pred_evaluator = RegressionEvaluator(predictionCol=\"prediction\", \\\n",
    "                 labelCol=\"ArrDelay\",metricName=\"r2\")\n",
    "print(\"R Squared (R2) on test data = %g\" % pred_evaluator.evaluate(predictions))\n",
    "\n",
    "fmModel = model.stages[1]\n",
    "print(\"Factors: \" + str(fmModel.factors))\n",
    "print(\"Linear: \" + str(fmModel.linear))\n",
    "print(\"Intercept: \" + str(fmModel.intercept))"
   ]
  },
  {
   "cell_type": "markdown",
   "metadata": {},
   "source": [
    "### Gradient-boosted tree regression"
   ]
  },
  {
   "cell_type": "code",
   "execution_count": 12,
   "metadata": {},
   "outputs": [],
   "source": [
    "from pyspark.ml import Pipeline\n",
    "from pyspark.ml.regression import GBTRegressor\n",
    "from pyspark.ml.feature import VectorIndexer, VectorAssembler\n",
    "from pyspark.ml.evaluation import RegressionEvaluator"
   ]
  },
  {
   "cell_type": "code",
   "execution_count": 13,
   "metadata": {},
   "outputs": [],
   "source": [
    "features = df.select(['DepDelay', 'TaxiOut', 'ArrDelay'])\n",
    "\n",
    "gen_assembler = VectorAssembler(\n",
    "    inputCols=features.columns[:-1],\n",
    "    outputCol='features')\n",
    "\n",
    "gen_output = gen_assembler.transform(df).select('features','ArrDelay')\n",
    "\n",
    "featureIndexer = VectorIndexer(inputCol='features', outputCol='IndexedFeatures').fit(gen_output)\n"
   ]
  },
  {
   "cell_type": "code",
   "execution_count": 14,
   "metadata": {},
   "outputs": [],
   "source": [
    "(train, test) = gen_output.randomSplit([0.7, 0.3])"
   ]
  },
  {
   "cell_type": "code",
   "execution_count": 15,
   "metadata": {},
   "outputs": [],
   "source": [
    "gbt = GBTRegressor(featuresCol=\"IndexedFeatures\", labelCol=\"ArrDelay\", maxIter=10)"
   ]
  },
  {
   "cell_type": "code",
   "execution_count": 16,
   "metadata": {},
   "outputs": [],
   "source": [
    "# Train model.  This also runs the indexer.\n",
    "pipeline = Pipeline(stages=[featureIndexer, gbt])\n",
    "model = pipeline.fit(train)"
   ]
  },
  {
   "cell_type": "code",
   "execution_count": 17,
   "metadata": {},
   "outputs": [],
   "source": [
    "predictions = model.transform(test)"
   ]
  },
  {
   "cell_type": "code",
   "execution_count": 18,
   "metadata": {},
   "outputs": [
    {
     "name": "stdout",
     "output_type": "stream",
     "text": [
      "+-------------------+--------+------------+\n",
      "|         prediction|ArrDelay|    features|\n",
      "+-------------------+--------+------------+\n",
      "| -9.313398604325107|     -21|   (2,[],[])|\n",
      "| -9.313398604325107|     -12|   (2,[],[])|\n",
      "| -9.313398604325107|      -8|   (2,[],[])|\n",
      "| -9.313398604325107|      -2|   (2,[],[])|\n",
      "| -9.313398604325107|      12|   (2,[],[])|\n",
      "|  24.87841228497457|      -6|[-50.0,57.0]|\n",
      "|   5.76236767039131|       6|[-37.0,38.0]|\n",
      "|-16.387766928438673|     -38| [-36.0,7.0]|\n",
      "|-18.432084676605974|     -33| [-34.0,3.0]|\n",
      "|  24.87841228497457|      -5|[-34.0,62.0]|\n",
      "|   5.76236767039131|      -3|[-33.0,36.0]|\n",
      "|-14.091672352242332|     -44|[-32.0,10.0]|\n",
      "| -17.07887537964493|     -43| [-31.0,6.0]|\n",
      "|-15.804428891860686|     -33| [-31.0,8.0]|\n",
      "|-14.091672352242332|     -47|[-31.0,10.0]|\n",
      "|-16.387766928438673|     -43| [-30.0,7.0]|\n",
      "|-10.961066056336845|     -26|[-30.0,15.0]|\n",
      "|  24.87841228497457|      -5|[-30.0,41.0]|\n",
      "|  -15.0802918377381|     -36| [-29.0,9.0]|\n",
      "| -11.30213432461033|     -35|[-29.0,14.0]|\n",
      "+-------------------+--------+------------+\n",
      "only showing top 20 rows\n",
      "\n"
     ]
    }
   ],
   "source": [
    "# Select example rows to display.\n",
    "predictions.select(\"prediction\", \"ArrDelay\", \"features\").show(20)"
   ]
  },
  {
   "cell_type": "code",
   "execution_count": 19,
   "metadata": {},
   "outputs": [
    {
     "name": "stdout",
     "output_type": "stream",
     "text": [
      "Root Mean Squared Error (RMSE) on test data = 16.7875\n",
      "R Squared (R2) on test data = 0.746941\n",
      "GBTRegressionModel: uid=GBTRegressor_9d63956e8de4, numTrees=10, numFeatures=2\n"
     ]
    }
   ],
   "source": [
    "evaluator = RegressionEvaluator(\n",
    "    labelCol=\"ArrDelay\", predictionCol=\"prediction\", metricName=\"rmse\")\n",
    "rmse = evaluator.evaluate(predictions)\n",
    "print(\"Root Mean Squared Error (RMSE) on test data = %g\" % rmse)\n",
    "\n",
    "pred_evaluator = RegressionEvaluator(predictionCol=\"prediction\", \\\n",
    "                 labelCol=\"ArrDelay\",metricName=\"r2\")\n",
    "print(\"R Squared (R2) on test data = %g\" % pred_evaluator.evaluate(predictions))\n",
    "\n",
    "gbtModel = model.stages[1]\n",
    "print(gbtModel)  # summary only"
   ]
  },
  {
   "cell_type": "code",
   "execution_count": 29,
   "metadata": {},
   "outputs": [],
   "source": [
    "sc.stop()"
   ]
  },
  {
   "cell_type": "code",
   "execution_count": null,
   "metadata": {},
   "outputs": [],
   "source": []
  }
 ],
 "metadata": {
  "kernelspec": {
   "display_name": "Python 3",
   "language": "python",
   "name": "python3"
  },
  "language_info": {
   "codemirror_mode": {
    "name": "ipython",
    "version": 3
   },
   "file_extension": ".py",
   "mimetype": "text/x-python",
   "name": "python",
   "nbconvert_exporter": "python",
   "pygments_lexer": "ipython3",
   "version": "3.8.6"
  }
 },
 "nbformat": 4,
 "nbformat_minor": 4
}
